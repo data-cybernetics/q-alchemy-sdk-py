{
 "cells": [
  {
   "attachments": {},
   "cell_type": "markdown",
   "metadata": {},
   "source": [
    "# Harrow–Hassidim–Loyd algorithm(HHL) algoritum demo using Q-alchemy's state preparation\n",
    "\n",
    "HHL algorithm is a quantum algorithm that solves a systems of linear equations. In general, a system of linear $n$-dimensional equations  can be written as follows.\n",
    "\n",
    "$$\n",
    "A \\vec{x} = \\vec{b}\n",
    "$$\n",
    "\n",
    "Where $A$ is $n$ x $n$ matrix and $\\vec{x}, \\vec{b} \\in \\mathbb{R}^n$. HHL algorithm is proven to provide an exponential speed up given that the $A$ is a sparse, matrix and the condition number $\\kappa$ of the system is low.  The condition number $\\kappa$ is a measure of how much the output value of the function can change for a small change in the input argument. \n",
    "\n",
    "To run the HHL algorithm we first have to map the solution vector $\\vec{b}$ to the Hilber space. In this module, we will present how the state preparation algorithm by Q-alchemy can be implemented in this context, and compare the results with IBM's state preparation method.\n"
   ]
  },
  {
   "cell_type": "code",
   "metadata": {
    "ExecuteTime": {
     "end_time": "2024-08-11T09:38:50.907447Z",
     "start_time": "2024-08-11T09:38:19.968663Z"
    }
   },
   "source": [
    "import os\n",
    "import sys\n",
    "\n",
    "os.environ[\"Q_ALCHEMY_API_KEY\"] = \"<your key here>\"\n",
    "sys.path.append('..')"
   ],
   "outputs": [],
   "execution_count": 1
  },
  {
   "metadata": {
    "ExecuteTime": {
     "end_time": "2024-08-11T12:28:42.922627Z",
     "start_time": "2024-08-11T12:28:41.802948Z"
    }
   },
   "cell_type": "code",
   "source": [
    "import numpy as np\n",
    "from linear_solvers import NumPyLinearSolver, HHL\n",
    "from qiskit import QuantumCircuit\n",
    "from qiskit import transpile\n",
    "from qiskit.quantum_info import Statevector\n",
    "\n",
    "from q_alchemy.initialize import q_alchemy_as_qasm"
   ],
   "outputs": [],
   "execution_count": 5
  },
  {
   "cell_type": "code",
   "metadata": {
    "ExecuteTime": {
     "end_time": "2024-08-11T12:28:43.486453Z",
     "start_time": "2024-08-11T12:28:43.481360Z"
    }
   },
   "source": [
    "def get_solution_vector(solution, n):\n",
    "    solution_vector = Statevector(solution.state).data[n:n+8].real\n",
    "    norm = solution.euclidean_norm\n",
    "    return norm * solution_vector / np.linalg.norm(solution_vector)"
   ],
   "outputs": [],
   "execution_count": 6
  },
  {
   "attachments": {},
   "cell_type": "markdown",
   "metadata": {},
   "source": [
    "## Define matrix $A$ as 8 by 8 Sparse Hermitian matrice\n",
    "First, we will begin by defining the matrix $A$, and $b$. We will arbitarily define A, and randomly generate corresponding solution vector $\\vec{b}$ and normalize it."
   ]
  },
  {
   "cell_type": "code",
   "metadata": {
    "ExecuteTime": {
     "end_time": "2024-08-11T12:28:45.505076Z",
     "start_time": "2024-08-11T12:28:45.496814Z"
    }
   },
   "source": [
    "A = np.array([[1.0, 2.0, 3.0, 0.0, 0.0, 0.0, 0.0, 0.0],\n",
    "              [2.0, 3.0, 4.0, 0.0, 0.0, 0.0, 0.0, 0.0],\n",
    "              [3.0, 4.0, 4.0, 5.0, 0.0, 0.0, 0.0, 0.0],\n",
    "              [0.0, 0.0, 5.0, 6.0, 0.0, 0.0, 0.0, 0.0],\n",
    "              [0.0, 0.0, 0.0, 0.0, 7.0, 8.0, 0.0, 0.0],\n",
    "              [0.0, 0.0, 0.0, 0.0, 8.0, 9.0, 0.0, 10.0],\n",
    "              [0.0, 0.0, 0.0, 0.0, 0.0, 0.0, 10.0, 11.0],\n",
    "              [0.0, 0.0, 0.0, 0.0, 0.0, 10.0, 11.0, 12.0]])\n",
    "\n",
    "# Ensure Hermitian property (conjugate transpose)\n",
    "A = (A + A.T) / 2.0\n",
    "#b = [1, 0, 0, 0, 0, 0, 0, 0]\n",
    "b = np.random.rand(8)\n",
    "b = b/np.linalg.norm(b) #normalize solution"
   ],
   "outputs": [],
   "execution_count": 7
  },
  {
   "attachments": {},
   "cell_type": "markdown",
   "metadata": {},
   "source": [
    "### Initialize the solution state using Q-alchemy\n",
    "\n",
    "From the vector $\\vec{b}$ we have generated above, we will initialize Q-alchemy and generate a quantum circuit that transforms the quantum state from $|0\\rangle$ to $|b\\rangle$, where $|b\\rangle = \\sum_{i=1}^{n} b_i |i\\rangle$."
   ]
  },
  {
   "cell_type": "code",
   "metadata": {
    "ExecuteTime": {
     "end_time": "2024-08-11T12:28:51.772582Z",
     "start_time": "2024-08-11T12:28:47.051739Z"
    }
   },
   "source": [
    "sp_qasm = q_alchemy_as_qasm(b, max_fidelity_loss=0.0)\n",
    "sp_org = QuantumCircuit.from_qasm_str(sp_qasm)\n",
    "sp_org.draw(fold=-1)"
   ],
   "outputs": [
    {
     "data": {
      "text/plain": [
       "     ┌─────────────┐             ┌────────┐  ┌─────────┐┌────────────┐┌─────────┐ ┌────────┐                                                                                                                                            \n",
       "q_0: ┤ Ry(0.67229) ├─────■───────┤ Rz(-π) ├──┤ Rx(π/2) ├┤ Rz(5.0953) ├┤ Rx(π/2) ├─┤ Rz(3π) ├────────────────────────────────────────────────────────────────────────────────────────────────────────────────────────────────────────────\n",
       "     └─────────────┘   ┌─┴─┐     ├───────┬┘  ├─────────┤├────────────┤├─────────┤┌┴────────┴┐      ┌─────────┐  ┌─────────┐┌────────────┐┌─────────┐  ┌────────┐          ┌────────┐  ┌─────────┐┌────────────┐┌─────────┐  ┌────────┐  \n",
       "q_1: ──────────────────┤ X ├─────┤ Rz(0) ├───┤ Rx(π/2) ├┤ Rz(5.7387) ├┤ Rx(π/2) ├┤ Rz(7π/2) ├──■───┤ Rz(π/2) ├──┤ Rx(π/2) ├┤ Rz(5.2688) ├┤ Rx(π/2) ├──┤ Rz(2π) ├────■─────┤ Rz(-π) ├──┤ Rx(π/2) ├┤ Rz(5.4482) ├┤ Rx(π/2) ├──┤ Rz(3π) ├──\n",
       "     ┌─────────────┐┌──┴───┴──┐┌─┴───────┴──┐├─────────┤├────────────┤└─────────┘└──────────┘┌─┴─┐┌┴─────────┴─┐├─────────┤├────────────┤├─────────┤┌─┴────────┴─┐┌─┴─┐┌──┴────────┴─┐├─────────┤├────────────┤├─────────┤┌─┴────────┴─┐\n",
       "q_2: ┤ Rz(-1.9354) ├┤ Rx(π/2) ├┤ Rz(4.8897) ├┤ Rx(π/2) ├┤ Rz(9.8577) ├───────────────────────┤ X ├┤ Rz(2.5893) ├┤ Rx(π/2) ├┤ Rz(4.5029) ├┤ Rx(π/2) ├┤ Rz(8.2262) ├┤ X ├┤ Rz(0.28243) ├┤ Rx(π/2) ├┤ Rz(4.1344) ├┤ Rx(π/2) ├┤ Rz(8.9365) ├\n",
       "     └─────────────┘└─────────┘└────────────┘└─────────┘└────────────┘                       └───┘└────────────┘└─────────┘└────────────┘└─────────┘└────────────┘└───┘└─────────────┘└─────────┘└────────────┘└─────────┘└────────────┘"
      ],
      "text/html": [
       "<pre style=\"word-wrap: normal;white-space: pre;background: #fff0;line-height: 1.1;font-family: &quot;Courier New&quot;,Courier,monospace\">     ┌─────────────┐             ┌────────┐  ┌─────────┐┌────────────┐┌─────────┐ ┌────────┐                                                                                                                                            \n",
       "q_0: ┤ Ry(0.67229) ├─────■───────┤ Rz(-π) ├──┤ Rx(π/2) ├┤ Rz(5.0953) ├┤ Rx(π/2) ├─┤ Rz(3π) ├────────────────────────────────────────────────────────────────────────────────────────────────────────────────────────────────────────────\n",
       "     └─────────────┘   ┌─┴─┐     ├───────┬┘  ├─────────┤├────────────┤├─────────┤┌┴────────┴┐      ┌─────────┐  ┌─────────┐┌────────────┐┌─────────┐  ┌────────┐          ┌────────┐  ┌─────────┐┌────────────┐┌─────────┐  ┌────────┐  \n",
       "q_1: ──────────────────┤ X ├─────┤ Rz(0) ├───┤ Rx(π/2) ├┤ Rz(5.7387) ├┤ Rx(π/2) ├┤ Rz(7π/2) ├──■───┤ Rz(π/2) ├──┤ Rx(π/2) ├┤ Rz(5.2688) ├┤ Rx(π/2) ├──┤ Rz(2π) ├────■─────┤ Rz(-π) ├──┤ Rx(π/2) ├┤ Rz(5.4482) ├┤ Rx(π/2) ├──┤ Rz(3π) ├──\n",
       "     ┌─────────────┐┌──┴───┴──┐┌─┴───────┴──┐├─────────┤├────────────┤└─────────┘└──────────┘┌─┴─┐┌┴─────────┴─┐├─────────┤├────────────┤├─────────┤┌─┴────────┴─┐┌─┴─┐┌──┴────────┴─┐├─────────┤├────────────┤├─────────┤┌─┴────────┴─┐\n",
       "q_2: ┤ Rz(-1.9354) ├┤ Rx(π/2) ├┤ Rz(4.8897) ├┤ Rx(π/2) ├┤ Rz(9.8577) ├───────────────────────┤ X ├┤ Rz(2.5893) ├┤ Rx(π/2) ├┤ Rz(4.5029) ├┤ Rx(π/2) ├┤ Rz(8.2262) ├┤ X ├┤ Rz(0.28243) ├┤ Rx(π/2) ├┤ Rz(4.1344) ├┤ Rx(π/2) ├┤ Rz(8.9365) ├\n",
       "     └─────────────┘└─────────┘└────────────┘└─────────┘└────────────┘                       └───┘└────────────┘└─────────┘└────────────┘└─────────┘└────────────┘└───┘└─────────────┘└─────────┘└────────────┘└─────────┘└────────────┘</pre>"
      ]
     },
     "execution_count": 8,
     "metadata": {},
     "output_type": "execute_result"
    }
   ],
   "execution_count": 8
  },
  {
   "attachments": {},
   "cell_type": "markdown",
   "metadata": {},
   "source": [
    "We compare the state preapred by the Q-alchemy, and the actual target state $\\vec{b}$."
   ]
  },
  {
   "metadata": {
    "ExecuteTime": {
     "end_time": "2024-08-11T12:28:52.728122Z",
     "start_time": "2024-08-11T12:28:51.773591Z"
    }
   },
   "cell_type": "code",
   "source": [
    "qc = transpile(sp_org, basis_gates=[\"id\", \"rx\", \"ry\", \"rz\", \"cx\"])\n",
    "np.vstack([Statevector(qc).data.real, b])"
   ],
   "outputs": [
    {
     "data": {
      "text/plain": [
       "array([[-0.05492133, -0.35872074, -0.25542591, -0.43444235, -0.49809415,\n",
       "        -0.26943147, -0.19364888, -0.50609242],\n",
       "       [ 0.05492133,  0.35872074,  0.25542591,  0.43444235,  0.49809415,\n",
       "         0.26943147,  0.19364888,  0.50609242]])"
      ]
     },
     "execution_count": 9,
     "metadata": {},
     "output_type": "execute_result"
    }
   ],
   "execution_count": 9
  },
  {
   "cell_type": "code",
   "metadata": {
    "ExecuteTime": {
     "end_time": "2024-08-11T12:28:52.738227Z",
     "start_time": "2024-08-11T12:28:52.729126Z"
    }
   },
   "source": [
    "num_q1 = qc.num_qubits\n",
    "qc.draw()"
   ],
   "outputs": [
    {
     "data": {
      "text/plain": [
       "global phase: 0\n",
       "     ┌─────────────┐               ┌─────────────┐ ┌────────┐     »\n",
       "q_0: ┤ Ry(0.67229) ├───────■───────┤ Ry(-1.9537) ├─┤ Rz(-π) ├─────»\n",
       "     └─────────────┘     ┌─┴─┐     └┬────────────┤┌┴────────┤     »\n",
       "q_1: ────────────────────┤ X ├──────┤ Ry(2.5971) ├┤ Rz(π/2) ├──■──»\n",
       "      ┌────────────┐┌────┴───┴────┐ └────────────┘└─────────┘┌─┴─┐»\n",
       "q_2: ─┤ Ry(1.1051) ├┤ Rx(-1.9745) ├──────────────────────────┤ X ├»\n",
       "      └────────────┘└─────────────┘                          └───┘»\n",
       "«                                                                     »\n",
       "«q_0: ────────────────────────────────────────────────────────────────»\n",
       "«      ┌──────────┐ ┌─────────────┐                    ┌─────────────┐»\n",
       "«q_1: ─┤ Rz(-π/2) ├─┤ Ry(-2.1272) ├─────────────────■──┤ Ry(-2.3066) ├»\n",
       "«     ┌┴──────────┴┐└┬────────────┤┌─────────────┐┌─┴─┐├─────────────┤»\n",
       "«q_2: ┤ Rz(2.5893) ├─┤ Ry(1.3613) ├┤ Rz(-1.1986) ├┤ X ├┤ Rx(0.40375) ├»\n",
       "«     └────────────┘ └────────────┘└─────────────┘└───┘└─────────────┘»\n",
       "«                    \n",
       "«q_0: ───────────────\n",
       "«        ┌────────┐  \n",
       "«q_1: ───┤ Rz(-π) ├──\n",
       "«     ┌──┴────────┴─┐\n",
       "«q_2: ┤ Ry(0.93461) ├\n",
       "«     └─────────────┘"
      ],
      "text/html": [
       "<pre style=\"word-wrap: normal;white-space: pre;background: #fff0;line-height: 1.1;font-family: &quot;Courier New&quot;,Courier,monospace\">global phase: 0\n",
       "     ┌─────────────┐               ┌─────────────┐ ┌────────┐     »\n",
       "q_0: ┤ Ry(0.67229) ├───────■───────┤ Ry(-1.9537) ├─┤ Rz(-π) ├─────»\n",
       "     └─────────────┘     ┌─┴─┐     └┬────────────┤┌┴────────┤     »\n",
       "q_1: ────────────────────┤ X ├──────┤ Ry(2.5971) ├┤ Rz(π/2) ├──■──»\n",
       "      ┌────────────┐┌────┴───┴────┐ └────────────┘└─────────┘┌─┴─┐»\n",
       "q_2: ─┤ Ry(1.1051) ├┤ Rx(-1.9745) ├──────────────────────────┤ X ├»\n",
       "      └────────────┘└─────────────┘                          └───┘»\n",
       "«                                                                     »\n",
       "«q_0: ────────────────────────────────────────────────────────────────»\n",
       "«      ┌──────────┐ ┌─────────────┐                    ┌─────────────┐»\n",
       "«q_1: ─┤ Rz(-π/2) ├─┤ Ry(-2.1272) ├─────────────────■──┤ Ry(-2.3066) ├»\n",
       "«     ┌┴──────────┴┐└┬────────────┤┌─────────────┐┌─┴─┐├─────────────┤»\n",
       "«q_2: ┤ Rz(2.5893) ├─┤ Ry(1.3613) ├┤ Rz(-1.1986) ├┤ X ├┤ Rx(0.40375) ├»\n",
       "«     └────────────┘ └────────────┘└─────────────┘└───┘└─────────────┘»\n",
       "«                    \n",
       "«q_0: ───────────────\n",
       "«        ┌────────┐  \n",
       "«q_1: ───┤ Rz(-π) ├──\n",
       "«     ┌──┴────────┴─┐\n",
       "«q_2: ┤ Ry(0.93461) ├\n",
       "«     └─────────────┘</pre>"
      ]
     },
     "execution_count": 10,
     "metadata": {},
     "output_type": "execute_result"
    }
   ],
   "execution_count": 10
  },
  {
   "attachments": {},
   "cell_type": "markdown",
   "metadata": {},
   "source": [
    "### Use IBM's module to construct circuit that performs HHL algorithm\n",
    "\n",
    "Then, we pass the state preparation circuit created by Q-alchemy to IBM's HHL module, so we can perform the rest of HHL algorithm based on the solution state created by Q-alchemy."
   ]
  },
  {
   "metadata": {
    "ExecuteTime": {
     "end_time": "2024-08-11T12:29:11.518445Z",
     "start_time": "2024-08-11T12:29:11.512198Z"
    }
   },
   "cell_type": "code",
   "source": [
    "from qiskit_aer import AerProvider\n",
    "backend = AerProvider().get_backend(\"statevector_simulator\")\n",
    "backend"
   ],
   "outputs": [
    {
     "data": {
      "text/plain": [
       "StatevectorSimulator('statevector_simulator')"
      ]
     },
     "execution_count": 11,
     "metadata": {},
     "output_type": "execute_result"
    }
   ],
   "execution_count": 11
  },
  {
   "metadata": {
    "ExecuteTime": {
     "end_time": "2024-08-11T13:06:28.323690Z",
     "start_time": "2024-08-11T13:02:07.423167Z"
    }
   },
   "cell_type": "code",
   "source": [
    "qal_hhl = HHL(quantum_instance=backend).solve(A, qc)\n",
    "\n",
    "num_q = qal_hhl.state.num_qubits\n",
    "qal_hhl.state.draw('mpl', style=\"clifford\")"
   ],
   "outputs": [
    {
     "data": {
      "text/plain": [
       "<Figure size 713.699x1120.39 with 1 Axes>"
      ],
      "image/png": "[encoded data removed]"
     },
     "execution_count": 34,
     "metadata": {},
     "output_type": "execute_result"
    }
   ],
   "execution_count": 34
  },
  {
   "metadata": {},
   "cell_type": "markdown",
   "source": [
    "### Comparison of Q-alchemy's solution with IBM's default state preparation method, and classical solution\n",
    "\n",
    "In this section, we are going to compare the $\\vec{x}$ obtained based on Q-alchemy's state, and that obtained based on IBM's default state preparation method and the classical solution."
   ]
  },
  {
   "cell_type": "code",
   "metadata": {
    "ExecuteTime": {
     "end_time": "2024-08-11T13:11:51.655434Z",
     "start_time": "2024-08-11T13:06:28.326801Z"
    }
   },
   "source": [
    "classical_solution = NumPyLinearSolver().solve(A, b)\n",
    "hhl_default = HHL(quantum_instance=backend).solve(A, b) #using IBM's default state preparation method"
   ],
   "outputs": [],
   "execution_count": 35
  },
  {
   "metadata": {
    "ExecuteTime": {
     "end_time": "2024-08-11T13:17:51.156200Z",
     "start_time": "2024-08-11T13:11:51.657442Z"
    }
   },
   "cell_type": "code",
   "source": [
    "x0 = 2**(num_q-1)\n",
    "\n",
    "qal_sol = get_solution_vector(qal_hhl, x0)\n",
    "default_sol = get_solution_vector(hhl_default, x0)\n",
    "classic_sol = classical_solution.state"
   ],
   "outputs": [],
   "execution_count": 36
  },
  {
   "metadata": {
    "ExecuteTime": {
     "end_time": "2024-08-11T12:55:16.825427Z",
     "start_time": "2024-08-11T12:55:16.817589Z"
    }
   },
   "cell_type": "code",
   "source": "np.vstack([qal_sol, default_sol, classic_sol]).T",
   "outputs": [
    {
     "data": {
      "text/plain": [
       "array([[-0.70133364,  0.70133364,  0.70154128],\n",
       "       [ 0.54680893, -0.54680893, -0.54660565],\n",
       "       [-0.14916329,  0.14916329,  0.14886378],\n",
       "       [ 0.05192695, -0.05192695, -0.05164609],\n",
       "       [-0.03819749,  0.03819749,  0.03799952],\n",
       "       [-0.02902809,  0.02902809,  0.02901219],\n",
       "       [-0.05217233,  0.05217233,  0.05188907],\n",
       "       [ 0.02985421, -0.02985421, -0.02956744]])"
      ]
     },
     "execution_count": 15,
     "metadata": {},
     "output_type": "execute_result"
    }
   ],
   "execution_count": 15
  },
  {
   "cell_type": "code",
   "metadata": {
    "ExecuteTime": {
     "end_time": "2024-08-11T12:55:31.836085Z",
     "start_time": "2024-08-11T12:55:31.828056Z"
    }
   },
   "source": [
    "print('Q-alchemy euclidean norm:', qal_hhl.euclidean_norm)\n",
    "print('IBM euclidean norm:', hhl_default.euclidean_norm)\n",
    "print('Classical euclidean norm:', classical_solution.euclidean_norm)"
   ],
   "outputs": [
    {
     "name": "stdout",
     "output_type": "stream",
     "text": [
      "Q-alchemy euclidean norm: 0.9064931823969181\n",
      "IBM euclidean norm: 0.9064931823969188\n",
      "Classical euclidean norm: 0.906431476126309\n"
     ]
    }
   ],
   "execution_count": 16
  },
  {
   "attachments": {},
   "cell_type": "markdown",
   "metadata": {},
   "source": [
    "### Compare the state prepared by Q alchemy and IBM"
   ]
  },
  {
   "metadata": {
    "ExecuteTime": {
     "end_time": "2024-08-11T13:20:11.825355Z",
     "start_time": "2024-08-11T13:20:11.811572Z"
    }
   },
   "cell_type": "code",
   "source": [
    "hhl_qc = hhl_default.state.data[0].operation.definition\n",
    "state_IBM = Statevector(hhl_qc).data.real\n",
    "hhl_qc.draw()"
   ],
   "outputs": [
    {
     "data": {
      "text/plain": [
       "     ┌───────────┐\n",
       "q_0: ┤0          ├\n",
       "     │           │\n",
       "q_1: ┤1 Isometry ├\n",
       "     │           │\n",
       "q_2: ┤2          ├\n",
       "     └───────────┘"
      ],
      "text/html": [
       "<pre style=\"word-wrap: normal;white-space: pre;background: #fff0;line-height: 1.1;font-family: &quot;Courier New&quot;,Courier,monospace\">     ┌───────────┐\n",
       "q_0: ┤0          ├\n",
       "     │           │\n",
       "q_1: ┤1 Isometry ├\n",
       "     │           │\n",
       "q_2: ┤2          ├\n",
       "     └───────────┘</pre>"
      ]
     },
     "execution_count": 44,
     "metadata": {},
     "output_type": "execute_result"
    }
   ],
   "execution_count": 44
  },
  {
   "cell_type": "code",
   "metadata": {
    "ExecuteTime": {
     "end_time": "2024-08-11T13:20:13.907235Z",
     "start_time": "2024-08-11T13:20:13.892770Z"
    }
   },
   "source": [
    "qal_qc = qal_hhl.state.data[0].operation.definition\n",
    "state_qal = Statevector(hhl_qc).data.real\n",
    "qal_qc.draw()"
   ],
   "outputs": [
    {
     "data": {
      "text/plain": [
       "global phase: 0\n",
       "     ┌─────────────┐               ┌─────────────┐ ┌────────┐     »\n",
       "q_0: ┤ Ry(0.67229) ├───────■───────┤ Ry(-1.9537) ├─┤ Rz(-π) ├─────»\n",
       "     └─────────────┘     ┌─┴─┐     └┬────────────┤┌┴────────┤     »\n",
       "q_1: ────────────────────┤ X ├──────┤ Ry(2.5971) ├┤ Rz(π/2) ├──■──»\n",
       "      ┌────────────┐┌────┴───┴────┐ └────────────┘└─────────┘┌─┴─┐»\n",
       "q_2: ─┤ Ry(1.1051) ├┤ Rx(-1.9745) ├──────────────────────────┤ X ├»\n",
       "      └────────────┘└─────────────┘                          └───┘»\n",
       "«                                                                     »\n",
       "«q_0: ────────────────────────────────────────────────────────────────»\n",
       "«      ┌──────────┐ ┌─────────────┐                    ┌─────────────┐»\n",
       "«q_1: ─┤ Rz(-π/2) ├─┤ Ry(-2.1272) ├─────────────────■──┤ Ry(-2.3066) ├»\n",
       "«     ┌┴──────────┴┐└┬────────────┤┌─────────────┐┌─┴─┐├─────────────┤»\n",
       "«q_2: ┤ Rz(2.5893) ├─┤ Ry(1.3613) ├┤ Rz(-1.1986) ├┤ X ├┤ Rx(0.40375) ├»\n",
       "«     └────────────┘ └────────────┘└─────────────┘└───┘└─────────────┘»\n",
       "«                    \n",
       "«q_0: ───────────────\n",
       "«        ┌────────┐  \n",
       "«q_1: ───┤ Rz(-π) ├──\n",
       "«     ┌──┴────────┴─┐\n",
       "«q_2: ┤ Ry(0.93461) ├\n",
       "«     └─────────────┘"
      ],
      "text/html": [
       "<pre style=\"word-wrap: normal;white-space: pre;background: #fff0;line-height: 1.1;font-family: &quot;Courier New&quot;,Courier,monospace\">global phase: 0\n",
       "     ┌─────────────┐               ┌─────────────┐ ┌────────┐     »\n",
       "q_0: ┤ Ry(0.67229) ├───────■───────┤ Ry(-1.9537) ├─┤ Rz(-π) ├─────»\n",
       "     └─────────────┘     ┌─┴─┐     └┬────────────┤┌┴────────┤     »\n",
       "q_1: ────────────────────┤ X ├──────┤ Ry(2.5971) ├┤ Rz(π/2) ├──■──»\n",
       "      ┌────────────┐┌────┴───┴────┐ └────────────┘└─────────┘┌─┴─┐»\n",
       "q_2: ─┤ Ry(1.1051) ├┤ Rx(-1.9745) ├──────────────────────────┤ X ├»\n",
       "      └────────────┘└─────────────┘                          └───┘»\n",
       "«                                                                     »\n",
       "«q_0: ────────────────────────────────────────────────────────────────»\n",
       "«      ┌──────────┐ ┌─────────────┐                    ┌─────────────┐»\n",
       "«q_1: ─┤ Rz(-π/2) ├─┤ Ry(-2.1272) ├─────────────────■──┤ Ry(-2.3066) ├»\n",
       "«     ┌┴──────────┴┐└┬────────────┤┌─────────────┐┌─┴─┐├─────────────┤»\n",
       "«q_2: ┤ Rz(2.5893) ├─┤ Ry(1.3613) ├┤ Rz(-1.1986) ├┤ X ├┤ Rx(0.40375) ├»\n",
       "«     └────────────┘ └────────────┘└─────────────┘└───┘└─────────────┘»\n",
       "«                    \n",
       "«q_0: ───────────────\n",
       "«        ┌────────┐  \n",
       "«q_1: ───┤ Rz(-π) ├──\n",
       "«     ┌──┴────────┴─┐\n",
       "«q_2: ┤ Ry(0.93461) ├\n",
       "«     └─────────────┘</pre>"
      ]
     },
     "execution_count": 45,
     "metadata": {},
     "output_type": "execute_result"
    }
   ],
   "execution_count": 45
  },
  {
   "metadata": {
    "ExecuteTime": {
     "end_time": "2024-08-11T13:20:16.770011Z",
     "start_time": "2024-08-11T13:20:16.765272Z"
    }
   },
   "cell_type": "code",
   "source": "np.vstack([state_qal[0:8], state_IBM[0:8], b]).T",
   "outputs": [
    {
     "data": {
      "text/plain": [
       "array([[0.05492133, 0.05492133, 0.05492133],\n",
       "       [0.35872074, 0.35872074, 0.35872074],\n",
       "       [0.25542591, 0.25542591, 0.25542591],\n",
       "       [0.43444235, 0.43444235, 0.43444235],\n",
       "       [0.49809415, 0.49809415, 0.49809415],\n",
       "       [0.26943147, 0.26943147, 0.26943147],\n",
       "       [0.19364888, 0.19364888, 0.19364888],\n",
       "       [0.50609242, 0.50609242, 0.50609242]])"
      ]
     },
     "execution_count": 46,
     "metadata": {},
     "output_type": "execute_result"
    }
   ],
   "execution_count": 46
  },
  {
   "attachments": {},
   "cell_type": "markdown",
   "metadata": {},
   "source": [
    "### Another example with 16 by 16 matrix"
   ]
  },
  {
   "cell_type": "code",
   "metadata": {
    "ExecuteTime": {
     "end_time": "2024-08-11T13:21:30.626908Z",
     "start_time": "2024-08-11T13:21:30.620125Z"
    }
   },
   "source": [
    "from scipy.sparse import csr_matrix\n",
    "\n",
    "matrix_size = 16\n",
    "data = np.random.random(matrix_size)\n",
    "diag = np.diag(data)\n",
    "upper_triangle = np.triu(np.random.random((matrix_size, matrix_size)))\n",
    "upper_triangle = upper_triangle + upper_triangle.conj().T \n",
    "np.fill_diagonal(upper_triangle, 0) \n",
    "\n",
    "full_matrix = diag + upper_triangle\n",
    "\n",
    "sparse_matrix = csr_matrix(full_matrix)\n",
    "\n",
    "A = (sparse_matrix.toarray())\n",
    "b = np.random.rand(matrix_size)\n",
    "b = b/np.linalg.norm(b) #normalize solution"
   ],
   "outputs": [],
   "execution_count": 50
  },
  {
   "cell_type": "code",
   "metadata": {
    "ExecuteTime": {
     "end_time": "2024-08-11T13:21:36.540089Z",
     "start_time": "2024-08-11T13:21:32.710863Z"
    }
   },
   "source": [
    "sp_qasm = q_alchemy_as_qasm(b, max_fidelity_loss=0.0)\n",
    "sp_org = QuantumCircuit.from_qasm_str(sp_qasm)\n",
    "sp_org.draw(fold=-1)"
   ],
   "outputs": [
    {
     "data": {
      "text/plain": [
       "     ┌─────────────┐     ┌────────┐┌─────────┐┌────────────┐┌─────────┐┌────────┐     ┌────────┐  ┌─────────┐  ┌────────────┐ ┌─────────┐  ┌──────────┐                     ┌──────────┐  ┌─────────┐┌────────────┐┌─────────┐ ┌──────────┐        ┌─────────┐  ┌─────────┐┌────────────┐┌─────────┐  ┌────────┐          ┌───────┐   ┌─────────┐┌────────────┐┌─────────┐  ┌────────┐  \n",
       "q_0: ┤ Ry(0.11305) ├──■──┤ Rz(-π) ├┤ Rx(π/2) ├┤ Rz(3.6033) ├┤ Rx(π/2) ├┤ Rz(3π) ├──■──┤ Rz(-π) ├──┤ Rx(π/2) ├──┤ Rz(3.7106) ├─┤ Rx(π/2) ├──┤ Rz(7π/2) ├────────────────■────┤ Rz(-π/2) ├──┤ Rx(π/2) ├┤ Rz(3.8031) ├┤ Rx(π/2) ├─┤ Rz(5π/2) ├───■────┤ Rz(π/2) ├──┤ Rx(π/2) ├┤ Rz(3.3049) ├┤ Rx(π/2) ├──┤ Rz(3π) ├────■─────┤ Rz(0) ├───┤ Rx(π/2) ├┤ Rz(5.5573) ├┤ Rx(π/2) ├──┤ Rz(3π) ├──\n",
       "     └─────────────┘┌─┴─┐├────────┤├─────────┤├────────────┤├─────────┤├────────┤  │  └────────┘┌─┴─────────┴─┐└┬─────────┬─┘┌┴─────────┴─┐├─────────┬┘┌────────────┐┌─┴─┐┌─┴──────────┴─┐├─────────┤├────────────┤├─────────┤┌┴──────────┴┐┌─┴─┐ ┌┴─────────┴─┐├─────────┤├───────────┬┘├─────────┤┌─┴────────┴─┐┌─┴─┐┌──┴───────┴──┐├─────────┤├────────────┤├─────────┤┌─┴────────┴─┐\n",
       "q_1: ───────────────┤ X ├┤ Rz(-π) ├┤ Rx(π/2) ├┤ Rz(3.4946) ├┤ Rx(π/2) ├┤ Rz(3π) ├──┼──────■─────┤ Rz(0.44348) ├─┤ Rx(π/2) ├──┤ Rz(4.2986) ├┤ Rx(π/2) ├─┤ Rz(12.378) ├┤ X ├┤ Rz(-0.37434) ├┤ Rx(π/2) ├┤ Rz(4.5574) ├┤ Rx(π/2) ├┤ Rz(9.0504) ├┤ X ├─┤ Rz(2.0057) ├┤ Rx(π/2) ├┤ Rz(5.082) ├─┤ Rx(π/2) ├┤ Rz(6.4495) ├┤ X ├┤ Rz(-1.5516) ├┤ Rx(π/2) ├┤ Rz(4.3087) ├┤ Rx(π/2) ├┤ Rz(7.8464) ├\n",
       "                    └───┘└────────┘└─────────┘└────────────┘└─────────┘└────────┘┌─┴─┐    │     └──┬───────┬──┘ ├─────────┤  ├────────────┤├─────────┤ └┬──────────┬┘└───┘└─┬─────────┬──┘├─────────┤├────────────┤├─────────┤└─┬────────┬─┘└───┘ └─┬───────┬──┘├─────────┤├───────────┴┐├─────────┤└─┬────────┬─┘└───┘└─────────────┘└─────────┘└────────────┘└─────────┘└────────────┘\n",
       "q_2: ────────────────────────────────────────────────────────────────────────────┤ X ├────┼────────┤ Rz(0) ├────┤ Rx(π/2) ├──┤ Rz(3.5943) ├┤ Rx(π/2) ├──┤ Rz(7π/2) ├───■────┤ Rz(π/2) ├───┤ Rx(π/2) ├┤ Rz(5.2341) ├┤ Rx(π/2) ├──┤ Rz(2π) ├────■─────┤ Rz(0) ├───┤ Rx(π/2) ├┤ Rz(5.9361) ├┤ Rx(π/2) ├──┤ Rz(3π) ├────────────────────────────────────────────────────────────────────────\n",
       "                                                                                 └───┘  ┌─┴─┐    ┌─┴───────┴──┐ ├─────────┤  ├────────────┤├─────────┤ ┌┴──────────┴┐┌─┴─┐ ┌┴─────────┴─┐ ├─────────┤├────────────┤├─────────┤┌─┴────────┴─┐┌─┴─┐┌──┴───────┴──┐├─────────┤├────────────┤├─────────┤┌─┴────────┴─┐                                                                      \n",
       "q_3: ───────────────────────────────────────────────────────────────────────────────────┤ X ├────┤ Rz(1.2609) ├─┤ Rx(π/2) ├──┤ Rz(4.4494) ├┤ Rx(π/2) ├─┤ Rz(8.7428) ├┤ X ├─┤ Rz(2.8295) ├─┤ Rx(π/2) ├┤ Rz(4.4054) ├┤ Rx(π/2) ├┤ Rz(8.2727) ├┤ X ├┤ Rz(0.80093) ├┤ Rx(π/2) ├┤ Rz(3.6783) ├┤ Rx(π/2) ├┤ Rz(8.5486) ├──────────────────────────────────────────────────────────────────────\n",
       "                                                                                        └───┘    └────────────┘ └─────────┘  └────────────┘└─────────┘ └────────────┘└───┘ └────────────┘ └─────────┘└────────────┘└─────────┘└────────────┘└───┘└─────────────┘└─────────┘└────────────┘└─────────┘└────────────┘                                                                      "
      ],
      "text/html": [
       "<pre style=\"word-wrap: normal;white-space: pre;background: #fff0;line-height: 1.1;font-family: &quot;Courier New&quot;,Courier,monospace\">     ┌─────────────┐     ┌────────┐┌─────────┐┌────────────┐┌─────────┐┌────────┐     ┌────────┐  ┌─────────┐  ┌────────────┐ ┌─────────┐  ┌──────────┐                     ┌──────────┐  ┌─────────┐┌────────────┐┌─────────┐ ┌──────────┐        ┌─────────┐  ┌─────────┐┌────────────┐┌─────────┐  ┌────────┐          ┌───────┐   ┌─────────┐┌────────────┐┌─────────┐  ┌────────┐  \n",
       "q_0: ┤ Ry(0.11305) ├──■──┤ Rz(-π) ├┤ Rx(π/2) ├┤ Rz(3.6033) ├┤ Rx(π/2) ├┤ Rz(3π) ├──■──┤ Rz(-π) ├──┤ Rx(π/2) ├──┤ Rz(3.7106) ├─┤ Rx(π/2) ├──┤ Rz(7π/2) ├────────────────■────┤ Rz(-π/2) ├──┤ Rx(π/2) ├┤ Rz(3.8031) ├┤ Rx(π/2) ├─┤ Rz(5π/2) ├───■────┤ Rz(π/2) ├──┤ Rx(π/2) ├┤ Rz(3.3049) ├┤ Rx(π/2) ├──┤ Rz(3π) ├────■─────┤ Rz(0) ├───┤ Rx(π/2) ├┤ Rz(5.5573) ├┤ Rx(π/2) ├──┤ Rz(3π) ├──\n",
       "     └─────────────┘┌─┴─┐├────────┤├─────────┤├────────────┤├─────────┤├────────┤  │  └────────┘┌─┴─────────┴─┐└┬─────────┬─┘┌┴─────────┴─┐├─────────┬┘┌────────────┐┌─┴─┐┌─┴──────────┴─┐├─────────┤├────────────┤├─────────┤┌┴──────────┴┐┌─┴─┐ ┌┴─────────┴─┐├─────────┤├───────────┬┘├─────────┤┌─┴────────┴─┐┌─┴─┐┌──┴───────┴──┐├─────────┤├────────────┤├─────────┤┌─┴────────┴─┐\n",
       "q_1: ───────────────┤ X ├┤ Rz(-π) ├┤ Rx(π/2) ├┤ Rz(3.4946) ├┤ Rx(π/2) ├┤ Rz(3π) ├──┼──────■─────┤ Rz(0.44348) ├─┤ Rx(π/2) ├──┤ Rz(4.2986) ├┤ Rx(π/2) ├─┤ Rz(12.378) ├┤ X ├┤ Rz(-0.37434) ├┤ Rx(π/2) ├┤ Rz(4.5574) ├┤ Rx(π/2) ├┤ Rz(9.0504) ├┤ X ├─┤ Rz(2.0057) ├┤ Rx(π/2) ├┤ Rz(5.082) ├─┤ Rx(π/2) ├┤ Rz(6.4495) ├┤ X ├┤ Rz(-1.5516) ├┤ Rx(π/2) ├┤ Rz(4.3087) ├┤ Rx(π/2) ├┤ Rz(7.8464) ├\n",
       "                    └───┘└────────┘└─────────┘└────────────┘└─────────┘└────────┘┌─┴─┐    │     └──┬───────┬──┘ ├─────────┤  ├────────────┤├─────────┤ └┬──────────┬┘└───┘└─┬─────────┬──┘├─────────┤├────────────┤├─────────┤└─┬────────┬─┘└───┘ └─┬───────┬──┘├─────────┤├───────────┴┐├─────────┤└─┬────────┬─┘└───┘└─────────────┘└─────────┘└────────────┘└─────────┘└────────────┘\n",
       "q_2: ────────────────────────────────────────────────────────────────────────────┤ X ├────┼────────┤ Rz(0) ├────┤ Rx(π/2) ├──┤ Rz(3.5943) ├┤ Rx(π/2) ├──┤ Rz(7π/2) ├───■────┤ Rz(π/2) ├───┤ Rx(π/2) ├┤ Rz(5.2341) ├┤ Rx(π/2) ├──┤ Rz(2π) ├────■─────┤ Rz(0) ├───┤ Rx(π/2) ├┤ Rz(5.9361) ├┤ Rx(π/2) ├──┤ Rz(3π) ├────────────────────────────────────────────────────────────────────────\n",
       "                                                                                 └───┘  ┌─┴─┐    ┌─┴───────┴──┐ ├─────────┤  ├────────────┤├─────────┤ ┌┴──────────┴┐┌─┴─┐ ┌┴─────────┴─┐ ├─────────┤├────────────┤├─────────┤┌─┴────────┴─┐┌─┴─┐┌──┴───────┴──┐├─────────┤├────────────┤├─────────┤┌─┴────────┴─┐                                                                      \n",
       "q_3: ───────────────────────────────────────────────────────────────────────────────────┤ X ├────┤ Rz(1.2609) ├─┤ Rx(π/2) ├──┤ Rz(4.4494) ├┤ Rx(π/2) ├─┤ Rz(8.7428) ├┤ X ├─┤ Rz(2.8295) ├─┤ Rx(π/2) ├┤ Rz(4.4054) ├┤ Rx(π/2) ├┤ Rz(8.2727) ├┤ X ├┤ Rz(0.80093) ├┤ Rx(π/2) ├┤ Rz(3.6783) ├┤ Rx(π/2) ├┤ Rz(8.5486) ├──────────────────────────────────────────────────────────────────────\n",
       "                                                                                        └───┘    └────────────┘ └─────────┘  └────────────┘└─────────┘ └────────────┘└───┘ └────────────┘ └─────────┘└────────────┘└─────────┘└────────────┘└───┘└─────────────┘└─────────┘└────────────┘└─────────┘└────────────┘                                                                      </pre>"
      ]
     },
     "execution_count": 51,
     "metadata": {},
     "output_type": "execute_result"
    }
   ],
   "execution_count": 51
  },
  {
   "cell_type": "code",
   "metadata": {
    "ExecuteTime": {
     "end_time": "2024-08-11T13:22:34.049376Z",
     "start_time": "2024-08-11T13:22:34.034542Z"
    }
   },
   "source": [
    "qc = transpile(sp_org, basis_gates=[\"id\", \"rx\", \"ry\", \"rz\", \"cx\"])\n",
    "np.vstack([Statevector(qc).data.real, b]).T"
   ],
   "outputs": [
    {
     "data": {
      "text/plain": [
       "array([[-0.14315242,  0.14315242],\n",
       "       [-0.31421353,  0.31421353],\n",
       "       [-0.16131349,  0.16131349],\n",
       "       [-0.02244947,  0.02244947],\n",
       "       [-0.0505375 ,  0.0505375 ],\n",
       "       [-0.39551638,  0.39551638],\n",
       "       [-0.26274936,  0.26274936],\n",
       "       [-0.24998701,  0.24998701],\n",
       "       [-0.37172357,  0.37172357],\n",
       "       [-0.47629726,  0.47629726],\n",
       "       [-0.18534281,  0.18534281],\n",
       "       [-0.36988029,  0.36988029],\n",
       "       [-0.09708925,  0.09708925],\n",
       "       [-0.04848612,  0.04848612],\n",
       "       [-0.11927828,  0.11927828],\n",
       "       [-0.03908738,  0.03908738]])"
      ]
     },
     "execution_count": 55,
     "metadata": {},
     "output_type": "execute_result"
    }
   ],
   "execution_count": 55
  },
  {
   "cell_type": "code",
   "metadata": {
    "ExecuteTime": {
     "end_time": "2024-08-11T13:28:52.006467Z",
     "start_time": "2024-08-11T13:23:11.227029Z"
    }
   },
   "source": [
    "qal_hhl = HHL(quantum_instance=backend).solve(A, qc)\n",
    "hhl_default = HHL(quantum_instance=backend).solve(A, b) #using IBM's default state preparation method\n",
    "classical_solution = NumPyLinearSolver().solve(A, b)"
   ],
   "outputs": [],
   "execution_count": 56
  },
  {
   "metadata": {
    "ExecuteTime": {
     "end_time": "2024-08-11T13:30:55.002563Z",
     "start_time": "2024-08-11T13:30:35.936227Z"
    }
   },
   "cell_type": "code",
   "source": [
    "num_q = qal_hhl.state.num_qubits\n",
    "x0 = 2**(num_q-1)\n",
    "\n",
    "qal_sol = get_solution_vector(qal_hhl, x0).reshape(-1, 1)\n",
    "default_sol = get_solution_vector(hhl_default, x0).reshape(-1, 1)\n",
    "classic_sol = classical_solution.state.reshape(-1, 1)"
   ],
   "outputs": [],
   "execution_count": 61
  },
  {
   "metadata": {
    "ExecuteTime": {
     "end_time": "2024-08-11T13:31:30.497163Z",
     "start_time": "2024-08-11T13:31:30.488831Z"
    }
   },
   "cell_type": "code",
   "source": "classic_sol",
   "outputs": [
    {
     "data": {
      "text/plain": [
       "array([[-0.05042347],\n",
       "       [ 0.14059217],\n",
       "       [ 0.37005985],\n",
       "       [-0.22825135],\n",
       "       [ 0.55323108],\n",
       "       [ 0.32747643],\n",
       "       [-0.39673136],\n",
       "       [ 0.04280502],\n",
       "       [-0.31548249],\n",
       "       [-0.17251163],\n",
       "       [ 0.07906161],\n",
       "       [-0.20202862],\n",
       "       [ 0.31091417],\n",
       "       [ 0.06876398],\n",
       "       [ 0.13445587],\n",
       "       [-0.26804856]])"
      ]
     },
     "execution_count": 66,
     "metadata": {},
     "output_type": "execute_result"
    }
   ],
   "execution_count": 66
  },
  {
   "metadata": {
    "ExecuteTime": {
     "end_time": "2024-08-11T13:31:02.661594Z",
     "start_time": "2024-08-11T13:31:02.631717Z"
    }
   },
   "cell_type": "code",
   "source": "np.hstack([qal_sol, default_sol, classic_sol]).T",
   "outputs": [
    {
     "ename": "ValueError",
     "evalue": "all the input array dimensions except for the concatenation axis must match exactly, but along dimension 0, the array at index 0 has size 8 and the array at index 2 has size 16",
     "output_type": "error",
     "traceback": [
      "\u001B[1;31m---------------------------------------------------------------------------\u001B[0m",
      "\u001B[1;31mValueError\u001B[0m                                Traceback (most recent call last)",
      "Cell \u001B[1;32mIn[63], line 1\u001B[0m\n\u001B[1;32m----> 1\u001B[0m \u001B[43mnp\u001B[49m\u001B[38;5;241;43m.\u001B[39;49m\u001B[43mhstack\u001B[49m\u001B[43m(\u001B[49m\u001B[43m[\u001B[49m\u001B[43mqal_sol\u001B[49m\u001B[43m,\u001B[49m\u001B[43m \u001B[49m\u001B[43mdefault_sol\u001B[49m\u001B[43m,\u001B[49m\u001B[43m \u001B[49m\u001B[43mclassic_sol\u001B[49m\u001B[43m]\u001B[49m\u001B[43m)\u001B[49m\u001B[38;5;241m.\u001B[39mT\n",
      "File \u001B[1;32m~\\Documents\\qalchemy\\q-alchemy-sdk-py\\.venv\\Lib\\site-packages\\numpy\\_core\\shape_base.py:358\u001B[0m, in \u001B[0;36mhstack\u001B[1;34m(tup, dtype, casting)\u001B[0m\n\u001B[0;32m    356\u001B[0m     \u001B[38;5;28;01mreturn\u001B[39;00m _nx\u001B[38;5;241m.\u001B[39mconcatenate(arrs, \u001B[38;5;241m0\u001B[39m, dtype\u001B[38;5;241m=\u001B[39mdtype, casting\u001B[38;5;241m=\u001B[39mcasting)\n\u001B[0;32m    357\u001B[0m \u001B[38;5;28;01melse\u001B[39;00m:\n\u001B[1;32m--> 358\u001B[0m     \u001B[38;5;28;01mreturn\u001B[39;00m \u001B[43m_nx\u001B[49m\u001B[38;5;241;43m.\u001B[39;49m\u001B[43mconcatenate\u001B[49m\u001B[43m(\u001B[49m\u001B[43marrs\u001B[49m\u001B[43m,\u001B[49m\u001B[43m \u001B[49m\u001B[38;5;241;43m1\u001B[39;49m\u001B[43m,\u001B[49m\u001B[43m \u001B[49m\u001B[43mdtype\u001B[49m\u001B[38;5;241;43m=\u001B[39;49m\u001B[43mdtype\u001B[49m\u001B[43m,\u001B[49m\u001B[43m \u001B[49m\u001B[43mcasting\u001B[49m\u001B[38;5;241;43m=\u001B[39;49m\u001B[43mcasting\u001B[49m\u001B[43m)\u001B[49m\n",
      "\u001B[1;31mValueError\u001B[0m: all the input array dimensions except for the concatenation axis must match exactly, but along dimension 0, the array at index 0 has size 8 and the array at index 2 has size 16"
     ]
    }
   ],
   "execution_count": 63
  },
  {
   "cell_type": "markdown",
   "metadata": {},
   "source": []
  }
 ],
 "metadata": {
  "kernelspec": {
   "display_name": "new",
   "language": "python",
   "name": "python3"
  },
  "language_info": {
   "codemirror_mode": {
    "name": "ipython",
    "version": 3
   },
   "file_extension": ".py",
   "mimetype": "text/x-python",
   "name": "python",
   "nbconvert_exporter": "python",
   "pygments_lexer": "ipython3",
   "version": "3.11.5 (main, Sep 11 2023, 08:31:25) [Clang 14.0.6 ]"
  },
  "orig_nbformat": 4,
  "vscode": {
   "interpreter": {
    "hash": "3056b2d51d95f7650196fe29ff19197ab44cf10a0e2dfd0a187d0f21e30a9402"
   }
  }
 },
 "nbformat": 4,
 "nbformat_minor": 2
}

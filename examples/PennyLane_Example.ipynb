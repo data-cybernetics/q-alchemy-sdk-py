{
 "cells": [
  {
   "metadata": {},
   "cell_type": "markdown",
   "source": [
    "Needed dependencies:\n",
    "\n",
    "  * q-alchemy-sdk-py\n",
    "  * jupyter\n",
    "  * scikit-learn"
   ],
   "id": "2c817ac2ae9ed6c"
  },
  {
   "metadata": {
    "ExecuteTime": {
     "end_time": "2024-09-17T20:00:59.188276Z",
     "start_time": "2024-09-17T20:00:56.192100Z"
    }
   },
   "cell_type": "code",
   "source": [
    "import numpy as np\n",
    "from sklearn.datasets import fetch_openml\n",
    "import pennylane as qml\n",
    "from pennylane.tape import QuantumTape\n",
    "\n",
    "from q_alchemy.parser.qasm_pennylane import from_qasm\n",
    "from q_alchemy.initialize import q_alchemy_as_qasm"
   ],
   "id": "initial_id",
   "outputs": [],
   "execution_count": 1
  },
  {
   "metadata": {
    "ExecuteTime": {
     "end_time": "2024-09-17T20:01:02.877992Z",
     "start_time": "2024-09-17T20:00:59.189297Z"
    }
   },
   "cell_type": "code",
   "source": [
    "mnist = fetch_openml('mnist_784', version=1, parser=\"auto\")\n",
    "\n",
    "zero: np.ndarray = mnist.data[mnist.target == \"0\"].iloc[0].to_numpy()\n",
    "filler = np.empty(2 ** 10 - zero.shape[0])\n",
    "filler.fill(0)\n",
    "\n",
    "zero = np.hstack([zero, filler])\n",
    "zero = zero / np.linalg.norm(zero)"
   ],
   "id": "54b60eb3daaa2a99",
   "outputs": [],
   "execution_count": 2
  },
  {
   "metadata": {},
   "cell_type": "markdown",
   "source": "# Qiskit",
   "id": "a044163fb744e00e"
  },
  {
   "metadata": {
    "ExecuteTime": {
     "end_time": "2024-09-17T20:01:10.776151Z",
     "start_time": "2024-09-17T20:01:02.880009Z"
    }
   },
   "cell_type": "code",
   "source": [
    "from qiskit.quantum_info import Statevector\n",
    "from qiskit.circuit.library import Initialize\n",
    "from q_alchemy.qiskit_integration import QAlchemyInitialize\n",
    "\n",
    "qc_qy = QAlchemyInitialize(zero.tolist(), opt_params={\"api_key\": \"qal_SuEckTkN_BdtHczpq7ShJ7kTrjFo1BKtu\"})\n",
    "qc_qk = Initialize(zero)\n",
    "\n",
    "state_qy = Statevector(qc_qy.definition).data\n",
    "state_qk = Statevector(qc_qk.definition).data"
   ],
   "id": "27057724e792e3cb",
   "outputs": [],
   "execution_count": 3
  },
  {
   "metadata": {
    "ExecuteTime": {
     "end_time": "2024-09-17T20:01:10.785688Z",
     "start_time": "2024-09-17T20:01:10.777158Z"
    }
   },
   "cell_type": "code",
   "source": "abs(np.vdot(zero, state_qk))**2, abs(np.vdot(zero, state_qy))**2",
   "id": "ab65af3684ad1770",
   "outputs": [
    {
     "data": {
      "text/plain": [
       "(1.0000000000008722, 1.0000000000005098)"
      ]
     },
     "execution_count": 4,
     "metadata": {},
     "output_type": "execute_result"
    }
   ],
   "execution_count": 4
  },
  {
   "metadata": {},
   "cell_type": "markdown",
   "source": "# PennyLane",
   "id": "6b0011954d153054"
  },
  {
   "metadata": {
    "ExecuteTime": {
     "end_time": "2024-09-17T20:01:11.280473Z",
     "start_time": "2024-09-17T20:01:10.786693Z"
    }
   },
   "cell_type": "code",
   "source": [
    "dev = qml.device('default.qubit')\n",
    "\n",
    "@qml.qnode(dev)\n",
    "def circuit(state):\n",
    "    qml.MottonenStatePreparation(state_vector=state, wires=range(10))\n",
    "    return qml.state()\n",
    "\n",
    "with QuantumTape() as tape:\n",
    "    circuit(zero)\n",
    "    \n",
    "tape.specs[\"resources\"]"
   ],
   "id": "d5762f423a855e4e",
   "outputs": [
    {
     "name": "stdout",
     "output_type": "stream",
     "text": [
      "wires: 10\n",
      "gates: 2045\n",
      "depth: 2036\n",
      "shots: Shots(total=None)\n",
      "gate_types:\n",
      "{'RY': 1023, 'CNOT': 1022}\n",
      "gate_sizes:\n",
      "{1: 1023, 2: 1022}\n"
     ]
    }
   ],
   "execution_count": 5
  },
  {
   "metadata": {
    "ExecuteTime": {
     "end_time": "2024-09-17T20:01:54.768021Z",
     "start_time": "2024-09-17T20:01:47.921378Z"
    }
   },
   "cell_type": "code",
   "source": [
    "from q_alchemy.pennylane_integration import QAlchemyStatePreparation \n",
    "\n",
    "dev = qml.device('default.qubit')\n",
    "\n",
    "@qml.qnode(dev)\n",
    "def circuit_qy(state):\n",
    "    QAlchemyStatePreparation(state_vector=state, wires=range(10), max_fidelity_loss=0.0)\n",
    "    return qml.state()\n",
    "\n",
    "with QuantumTape() as tape:\n",
    "    circuit_qy(zero)\n",
    "    \n",
    "tape.expand().specs[\"resources\"]"
   ],
   "id": "b94ef1fe83510d38",
   "outputs": [
    {
     "name": "stdout",
     "output_type": "stream",
     "text": [
      "wires: 10\n",
      "gates: 6472\n",
      "depth: 2231\n",
      "shots: Shots(total=None)\n",
      "gate_types:\n",
      "{'Rot': 1853, 'PhaseShift': 3706, 'CNOT': 913}\n",
      "gate_sizes:\n",
      "{1: 5559, 2: 913}\n"
     ]
    }
   ],
   "execution_count": 9
  },
  {
   "metadata": {
    "ExecuteTime": {
     "end_time": "2024-09-17T20:02:00.812671Z",
     "start_time": "2024-09-17T20:01:54.769037Z"
    }
   },
   "cell_type": "code",
   "source": [
    "qy_state = circuit_qy(zero)\n",
    "qml_state = circuit(zero)"
   ],
   "id": "9a1f20a76326f984",
   "outputs": [],
   "execution_count": 10
  },
  {
   "metadata": {
    "ExecuteTime": {
     "end_time": "2024-09-17T20:02:00.818497Z",
     "start_time": "2024-09-17T20:02:00.813686Z"
    }
   },
   "cell_type": "code",
   "source": "abs(np.vdot(zero, qml_state))**2, abs(np.vdot(zero, qy_state))**2",
   "id": "732ca3550f865e87",
   "outputs": [
    {
     "data": {
      "text/plain": [
       "(0.9999999999999978, 1.0000000000000422)"
      ]
     },
     "execution_count": 11,
     "metadata": {},
     "output_type": "execute_result"
    }
   ],
   "execution_count": 11
  },
  {
   "metadata": {},
   "cell_type": "markdown",
   "source": "# Pure",
   "id": "77d3cdb569cfefdd"
  },
  {
   "metadata": {},
   "cell_type": "code",
   "outputs": [
    {
     "data": {
      "text/plain": [
       "219"
      ]
     },
     "execution_count": 3,
     "metadata": {},
     "output_type": "execute_result"
    }
   ],
   "execution_count": 3,
   "source": [
    "qasm, summary = q_alchemy_as_qasm(zero, max_fidelity_loss=0.5, api_key=\"qal_SuEckTkN_BdtHczpq7ShJ7kTrjFo1BKtu\", return_summary=True, basis_gates=[\"u1\", \"u2\", \"u3\", \"cx\"])\n",
    "len(qasm.split(\"\\n\"))"
   ],
   "id": "acf1df5402a0658a"
  },
  {
   "metadata": {},
   "cell_type": "code",
   "outputs": [
    {
     "data": {
      "text/plain": [
       "{'fidelity_loss': 0.49188161632960237,\n",
       " 'min_fidelity': 0.5,\n",
       " 'circuit_depth': 31,\n",
       " 'circuit_ops': {'u3': 159, 'cx': 57},\n",
       " 'n_qubits': 10,\n",
       " 'status': 'OK'}"
      ]
     },
     "execution_count": 4,
     "metadata": {},
     "output_type": "execute_result"
    }
   ],
   "execution_count": 4,
   "source": "summary",
   "id": "b214fd3f559e41fe"
  },
  {
   "metadata": {},
   "cell_type": "code",
   "outputs": [
    {
     "name": "stdout",
     "output_type": "stream",
     "text": [
      "wires: 10\n",
      "gates: 216\n",
      "depth: 31\n",
      "shots: Shots(total=None)\n",
      "gate_types:\n",
      "{'U3': 159, 'CNOT': 57}\n",
      "gate_sizes:\n",
      "{1: 159, 2: 57}\n"
     ]
    }
   ],
   "execution_count": 7,
   "source": [
    "with QuantumTape() as qasm_2_qml_tape:\n",
    "    from_qasm(qasm)\n",
    "    \n",
    "qasm_2_qml_tape.specs[\"resources\"]"
   ],
   "id": "f8b14f313be8cb4"
  }
 ],
 "metadata": {
  "kernelspec": {
   "display_name": "Python 3",
   "language": "python",
   "name": "python3"
  },
  "language_info": {
   "codemirror_mode": {
    "name": "ipython",
    "version": 2
   },
   "file_extension": ".py",
   "mimetype": "text/x-python",
   "name": "python",
   "nbconvert_exporter": "python",
   "pygments_lexer": "ipython2",
   "version": "2.7.6"
  }
 },
 "nbformat": 4,
 "nbformat_minor": 5
}

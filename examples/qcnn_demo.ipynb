{
 "cells": [
  {
   "cell_type": "code",
   "execution_count": 2,
   "metadata": {},
   "outputs": [],
   "source": [
    "import numpy as np\n",
    "from qiskit import QuantumCircuit\n",
    "from qiskit.utils import algorithm_globals\n",
    "from sklearn.model_selection import train_test_split\n",
    "\n",
    "from qiskit.quantum_info import Statevector, partial_trace\n",
    "import os\n",
    "import sys\n",
    "from qiskit import transpile\n",
    "from data import load_01\n",
    "import autograd.numpy as anp\n",
    "import pennylane as qml\n",
    "\n",
    "\n",
    "sys.path.append('..')\n",
    "from q_alchemy.qiskit import QAlchemyInitialize\n",
    "from q_alchemy.qiskit_to_pennylane import convert_qiskit\n",
    "\n",
    "os.environ[\"Q_ALCHEMY_API_KEY\"] = \"n6I5ypSXJeb8E1mlX71gAJ1v9RCKSb52\"\n",
    "\n",
    "algorithm_globals.random_seed = 12345"
   ]
  },
  {
   "attachments": {},
   "cell_type": "markdown",
   "metadata": {},
   "source": [
    "## SU4 convolutional layer"
   ]
  },
  {
   "cell_type": "code",
   "execution_count": 3,
   "metadata": {},
   "outputs": [],
   "source": [
    "def U_SU4(params, wires): # 15 params\n",
    "    qml.U3(params[0], params[1], params[2], wires=wires[0])\n",
    "    qml.U3(params[3], params[4], params[5], wires=wires[1])\n",
    "    qml.CNOT(wires=[wires[0], wires[1]])\n",
    "    qml.RY(params[6], wires=wires[0])\n",
    "    qml.RZ(params[7], wires=wires[1])\n",
    "    qml.CNOT(wires=[wires[1], wires[0]])\n",
    "    qml.RY(params[8], wires=wires[0])\n",
    "    qml.CNOT(wires=[wires[0], wires[1]])\n",
    "    qml.U3(params[9], params[10], params[11], wires=wires[0])\n",
    "    qml.U3(params[12], params[13], params[14], wires=wires[1])\n"
   ]
  },
  {
   "cell_type": "code",
   "execution_count": 4,
   "metadata": {},
   "outputs": [],
   "source": [
    "def preparation_circuit(X):\n",
    "    sp_org = QAlchemyInitialize(X, opt_params={'max_fidelity_loss':0.0})\n",
    "    qc = transpile(sp_org.definition, basis_gates=[\"id\", \"rx\", \"ry\", \"rz\", \"cx\"])\n",
    "    return qc"
   ]
  },
  {
   "cell_type": "code",
   "execution_count": 9,
   "metadata": {},
   "outputs": [],
   "source": [
    "dev = qml.device('default.qubit', wires = 8)\n",
    "@qml.qnode(dev)\n",
    "def QCNN(X, U, params):\n",
    "\n",
    "    convert_qiskit(X)\n",
    "    U(params, wires=[0, 7])\n",
    "    for i in range(0, 8, 2):\n",
    "        U(params, wires=[i, i + 1])\n",
    "    for i in range(1, 7, 2):\n",
    "        U(params, wires=[i, i + 1])\n",
    "    U(params, wires=[0, 6])\n",
    "    U(params, wires=[0, 2])\n",
    "    U(params, wires=[4, 6])\n",
    "    U(params, wires=[2, 4])\n",
    "    \n",
    "    U(params, wires=[0,4])\n",
    "    \n",
    "    result = qml.probs(wires=4)\n",
    "    return result\n"
   ]
  },
  {
   "cell_type": "code",
   "execution_count": 10,
   "metadata": {},
   "outputs": [],
   "source": [
    "def cross_entropy(labels, predictions):\n",
    "    loss = 0\n",
    "    for l, p in zip(labels, predictions):\n",
    "        c_entropy = l * (anp.log(p[l])) + (1 - l) * anp.log(1 - p[1 - l])\n",
    "        loss = loss + c_entropy\n",
    "    return -1 * loss\n",
    "\n",
    "def cost(v, X, Y, U, U_params, circuit):\n",
    "    pred = [QCNN(x, U, U_params) for x in X]\n",
    "    loss = cross_entropy(Y, pred)"
   ]
  },
  {
   "cell_type": "code",
   "execution_count": 11,
   "metadata": {},
   "outputs": [],
   "source": [
    "def train_circuit(X_train, y_train, U, U_params, circuit):\n",
    "    params = np.random.randn(3*U_params, requires_grad=True)\n",
    "    opt = qml.NesterovMomentumOptimizer(stepsize=0.01)\n",
    "    loss_history = []\n",
    "    steps = 200\n",
    "    batch_size = 25\n",
    "    for it in range(steps):\n",
    "        batch_index = np.random.randint(0, len(X_train), (batch_size,))\n",
    "        X_batch = [X_train[i] for i in batch_index]\n",
    "        Y_batch = [y_train[i] for i in batch_index]\n",
    "        params, cost_new = opt.step_and_cost(lambda v: cost(v, X_batch, Y_batch, U, U_params, circuit),\n",
    "                                                     params)\n",
    "        loss_history.append(cost_new)\n",
    "        if it % 10 == 0:\n",
    "            print(\"iteration: \", it, \" cost: \", cost_new)\n",
    "    return loss_history, params"
   ]
  },
  {
   "cell_type": "code",
   "execution_count": 12,
   "metadata": {},
   "outputs": [],
   "source": [
    "import tensorflow as tf\n",
    "import numpy as np\n",
    "def load_minist01():\n",
    "    classes = [0, 1]\n",
    "    (x_train, y_train), (x_test, y_test) = tf.keras.datasets.mnist.load_data()\n",
    "    \n",
    "    x_train, x_test = x_train[..., np.newaxis] / 255.0, x_test[..., np.newaxis] / 255.0\n",
    "    \n",
    "    x_train_filter_01 = np.where((y_train == classes[0]) | (y_train == classes[1]))\n",
    "    x_test_filter_01 = np.where((y_test == classes[0]) | (y_test == classes[1]))\n",
    "\n",
    "    X_train, X_test = x_train[x_train_filter_01], x_test[x_test_filter_01]\n",
    "    Y_train, Y_test = y_train[x_train_filter_01], y_test[x_test_filter_01]\n",
    "    \n",
    "    Y_train = [1 if y == classes[0] else -1 for y in Y_train]\n",
    "    Y_test = [1 if y == classes[0] else -1 for y in Y_test]\n",
    "    \n",
    "    X_train = tf.image.resize(X_train[:], (256, 1)).numpy()\n",
    "    X_test = tf.image.resize(X_test[:], (256, 1)).numpy()\n",
    "    X_train, X_test = tf.squeeze(X_train).numpy(), tf.squeeze(X_test).numpy()\n",
    "    \n",
    "    X_train_norms, X_test_norms = np.linalg.norm(X_train, axis=1), np.linalg.norm(X_test, axis=1)\n",
    "    X_train_norms, X_test_norms = X_train_norms[:, np.newaxis], X_test_norms[:, np.newaxis]\n",
    "    \n",
    "    X_train, X_test = X_train/X_train_norms, X_test/X_test_norms\n",
    "    \n",
    "    return X_train, X_test, Y_train, Y_test"
   ]
  },
  {
   "cell_type": "code",
   "execution_count": null,
   "metadata": {},
   "outputs": [],
   "source": []
  }
 ],
 "metadata": {
  "kernelspec": {
   "display_name": "new",
   "language": "python",
   "name": "python3"
  },
  "language_info": {
   "codemirror_mode": {
    "name": "ipython",
    "version": 3
   },
   "file_extension": ".py",
   "mimetype": "text/x-python",
   "name": "python",
   "nbconvert_exporter": "python",
   "pygments_lexer": "ipython3",
   "version": "3.11.5"
  },
  "orig_nbformat": 4,
  "vscode": {
   "interpreter": {
    "hash": "3056b2d51d95f7650196fe29ff19197ab44cf10a0e2dfd0a187d0f21e30a9402"
   }
  }
 },
 "nbformat": 4,
 "nbformat_minor": 2
}

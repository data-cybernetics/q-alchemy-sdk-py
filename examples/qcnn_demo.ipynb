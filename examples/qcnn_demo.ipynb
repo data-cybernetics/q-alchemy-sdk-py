{
 "cells": [
  {
   "cell_type": "code",
   "execution_count": 1,
   "metadata": {},
   "outputs": [],
   "source": [
    "import numpy as np\n",
    "from qiskit import QuantumCircuit\n",
    "from qiskit.utils import algorithm_globals\n",
    "from sklearn.model_selection import train_test_split\n",
    "\n",
    "from qiskit.quantum_info import Statevector, partial_trace\n",
    "import os\n",
    "import sys\n",
    "from qiskit import transpile\n",
    "from data import load_01\n",
    "import autograd.numpy as anp\n",
    "import pennylane as qml\n",
    "\n",
    "\n",
    "sys.path.append('..')\n",
    "from q_alchemy.qiskit import QAlchemyInitialize\n",
    "from q_alchemy.qiskit_to_pennylane import convert_qiskit\n",
    "\n",
    "os.environ[\"Q_ALCHEMY_API_KEY\"] = \"n6I5ypSXJeb8E1mlX71gAJ1v9RCKSb52\"\n",
    "\n",
    "algorithm_globals.random_seed = 12345"
   ]
  },
  {
   "attachments": {},
   "cell_type": "markdown",
   "metadata": {},
   "source": [
    "## SU4 convolutional layer"
   ]
  },
  {
   "cell_type": "code",
   "execution_count": 2,
   "metadata": {},
   "outputs": [],
   "source": [
    "def U_SU4(params, wires): # 15 params\n",
    "    qml.U3(params[0], params[1], params[2], wires=wires[0])\n",
    "    qml.U3(params[3], params[4], params[5], wires=wires[1])\n",
    "    qml.CNOT(wires=[wires[0], wires[1]])\n",
    "    qml.RY(params[6], wires=wires[0])\n",
    "    qml.RZ(params[7], wires=wires[1])\n",
    "    qml.CNOT(wires=[wires[1], wires[0]])\n",
    "    qml.RY(params[8], wires=wires[0])\n",
    "    qml.CNOT(wires=[wires[0], wires[1]])\n",
    "    qml.U3(params[9], params[10], params[11], wires=wires[0])\n",
    "    qml.U3(params[12], params[13], params[14], wires=wires[1])\n"
   ]
  },
  {
   "cell_type": "code",
   "execution_count": 5,
   "metadata": {},
   "outputs": [],
   "source": [
    "def preparation_circuit(X):\n",
    "    sp_org = QAlchemyInitialize(X, opt_params={'max_fidelity_loss':0.0})\n",
    "    qc = transpile(sp_org.definition, basis_gates=[\"id\", \"rx\", \"ry\", \"rz\", \"cx\"])\n",
    "    return qc"
   ]
  },
  {
   "cell_type": "code",
   "execution_count": 7,
   "metadata": {},
   "outputs": [],
   "source": [
    "dev = qml.device('default.qubit', wires = 8)\n",
    "@qml.qnode(dev)\n",
    "def QCNN(X, U, params):\n",
    "    qc = preparation_circuit(X)\n",
    "    converter = convert_qiskit(qc)\n",
    "    gates, state_params, qubits = converter.circuit_to_list()\n",
    "    \n",
    "    def prep_circuit(gates, state_params, qubits):\n",
    "        for i in range(len(gates)):\n",
    "            if gates[i] == 'rz':\n",
    "                qml.RZ(float(state_params[i]), wires= qc.num_qubits-1-int(qubits[i][0]))\n",
    "            elif gates[i] == 'cx':\n",
    "                qml.CNOT(wires=[qc.num_qubits-1-int(qubits[i][0]), qc.num_qubits-1-int(qubits[i][1])])\n",
    "            elif gates[i] == 'ry':\n",
    "                qml.RY(float(state_params[i]), wires=qc.num_qubits-1-int(qubits[i][0]))\n",
    "            elif gates[i] == 'rx':\n",
    "                qml.RY(float(state_params[i]), wires=qc.num_qubits-1-int(qubits[i][0]))\n",
    "\n",
    "            U(params, wires=[0, 7])\n",
    "            for i in range(0, 8, 2):\n",
    "                U(params, wires=[i, i + 1])\n",
    "            for i in range(1, 7, 2):\n",
    "                U(params, wires=[i, i + 1])\n",
    "            U(params, wires=[0, 6])\n",
    "            U(params, wires=[0, 2])\n",
    "            U(params, wires=[4, 6])\n",
    "            U(params, wires=[2, 4])\n",
    "            \n",
    "            U(params, wires=[0,4])\n",
    "            \n",
    "            result = qml.probs(wires=4)\n",
    "        return result\n",
    "    return prep_circuit(gates, params, qubits)"
   ]
  },
  {
   "cell_type": "code",
   "execution_count": 8,
   "metadata": {},
   "outputs": [],
   "source": [
    "def cross_entropy(labels, predictions):\n",
    "    loss = 0\n",
    "    for l, p in zip(labels, predictions):\n",
    "        c_entropy = l * (anp.log(p[l])) + (1 - l) * anp.log(1 - p[1 - l])\n",
    "        loss = loss + c_entropy\n",
    "    return -1 * loss\n",
    "\n",
    "def cost(v, X, Y, U, U_params, circuit):\n",
    "    pred = [QCNN(x, U, U_params) for x in X]\n",
    "    loss = cross_entropy(Y, pred)"
   ]
  },
  {
   "cell_type": "code",
   "execution_count": 9,
   "metadata": {},
   "outputs": [],
   "source": [
    "def train_circuit(X_train, y_train, U, U_params, circuit):\n",
    "    params = np.random.randn(3*U_params, requires_grad=True)\n",
    "    opt = qml.NesterovMomentumOptimizer(stepsize=0.01)\n",
    "    loss_history = []\n",
    "    steps = 200\n",
    "    batch_size = 25\n",
    "    for it in range(steps):\n",
    "        batch_index = np.random.randint(0, len(X_train), (batch_size,))\n",
    "        X_batch = [X_train[i] for i in batch_index]\n",
    "        Y_batch = [y_train[i] for i in batch_index]\n",
    "        params, cost_new = opt.step_and_cost(lambda v: cost(v, X_batch, Y_batch, U, U_params, circuit),\n",
    "                                                     params)\n",
    "        loss_history.append(cost_new)\n",
    "        if it % 10 == 0:\n",
    "            print(\"iteration: \", it, \" cost: \", cost_new)\n",
    "    return loss_history, params"
   ]
  },
  {
   "cell_type": "code",
   "execution_count": null,
   "metadata": {},
   "outputs": [],
   "source": []
  }
 ],
 "metadata": {
  "kernelspec": {
   "display_name": "new",
   "language": "python",
   "name": "python3"
  },
  "language_info": {
   "codemirror_mode": {
    "name": "ipython",
    "version": 3
   },
   "file_extension": ".py",
   "mimetype": "text/x-python",
   "name": "python",
   "nbconvert_exporter": "python",
   "pygments_lexer": "ipython3",
   "version": "3.11.5"
  },
  "orig_nbformat": 4,
  "vscode": {
   "interpreter": {
    "hash": "3056b2d51d95f7650196fe29ff19197ab44cf10a0e2dfd0a187d0f21e30a9402"
   }
  }
 },
 "nbformat": 4,
 "nbformat_minor": 2
}

{
 "cells": [
  {
   "metadata": {
    "ExecuteTime": {
     "end_time": "2025-09-12T11:13:10.322444Z",
     "start_time": "2025-09-12T11:13:07.273165Z"
    }
   },
   "cell_type": "code",
   "source": [
    "from qiskit.quantum_info import Statevector\n",
    "from qiskit import QuantumCircuit\n",
    "from q_alchemy.qiskit_integration import qiskit_batch_initialize\n",
    "import numpy as np\n",
    "from q_alchemy.initialize import OptParams"
   ],
   "id": "77bc44c99a299cf",
   "outputs": [],
   "execution_count": 1
  },
  {
   "metadata": {
    "collapsed": true,
    "ExecuteTime": {
     "end_time": "2025-09-12T11:13:16.088305Z",
     "start_time": "2025-09-12T11:13:10.667789Z"
    }
   },
   "cell_type": "code",
   "source": [
    "n_qubits = 4\n",
    "n_states = 4\n",
    "state_vectors = [np.random.rand(2 ** n_qubits) + np.random.rand(2 ** n_qubits) * 1j for i in range (n_states)]\n",
    "state_vectors = [sv / np.linalg.norm(sv) for sv in state_vectors]\n",
    "\n",
    "max_fidelity_loss = 0.05\n",
    "\n",
    "gate_list = qiskit_batch_initialize(\n",
    "    state_vectors=state_vectors,\n",
    "    opt_params=OptParams(\n",
    "        max_fidelity_loss=max_fidelity_loss,\n",
    "        api_key=\"<your api key>\"\n",
    "    )\n",
    ")\n",
    "qcs = [QuantumCircuit(n_qubits) for gate in gate_list]\n",
    "for gate, qc in zip(gate_list, qcs):\n",
    "    qc.append(gate, range(n_qubits))\n",
    "\n",
    "qiskit_states = [Statevector(circuit).data for circuit in qcs]\n",
    "\n",
    "for init_state, qiskit_state in zip(state_vectors, qiskit_states):\n",
    "    fidelity = abs(np.vdot(init_state, qiskit_state))**2\n",
    "    print(fidelity)\n",
    "    diff_norm = np.linalg.norm(init_state - qiskit_state)**2\n",
    "    print(diff_norm)"
   ],
   "id": "initial_id",
   "outputs": [
    {
     "name": "stderr",
     "output_type": "stream",
     "text": [
      "C:\\Users\\KeithNg\\Repos\\qalchemy\\q-alchemy-sdk-py\\.venv\\Lib\\site-packages\\pinexq_client\\job_management\\enterjma.py:35: UserWarning: Version mismatch between 'pinexq_client' (v8.2.0) and 'JobManagementAPI' (v8.3.0)! \n",
      "  warnings.warn(\n"
     ]
    },
    {
     "name": "stdout",
     "output_type": "stream",
     "text": [
      "0.960477584274686\n",
      "0.03992083397156028\n",
      "0.9864443313638874\n",
      "0.01360192170462741\n",
      "0.9959540797142603\n",
      "0.004050020953170395\n",
      "0.9827700259798379\n",
      "0.017304838377983568\n"
     ]
    }
   ],
   "execution_count": 3
  },
  {
   "metadata": {
    "ExecuteTime": {
     "end_time": "2025-09-12T11:13:17.655285Z",
     "start_time": "2025-09-12T11:13:16.155145Z"
    }
   },
   "cell_type": "code",
   "source": [
    "print(qcs[0])\n",
    "print(qcs[0].decompose())"
   ],
   "id": "16525cc8bfbef11c",
   "outputs": [
    {
     "name": "stdout",
     "output_type": "stream",
     "text": [
      "     ┌───────┐\n",
      "q_0: ┤0      ├\n",
      "     │       │\n",
      "q_1: ┤1      ├\n",
      "     │  QAl0 │\n",
      "q_2: ┤2      ├\n",
      "     │       │\n",
      "q_3: ┤3      ├\n",
      "     └───────┘\n",
      "global phase: 2.5472\n",
      "     ┌─────────────────────────┐                                          ┌───┐»\n",
      "q_0: ┤ U(1.6338,2.5044,1.6174) ├──────────────────────────────────────────┤ X ├»\n",
      "     ├─────────────────────────┴┐                                    ┌───┐└─┬─┘»\n",
      "q_1: ┤ U(2.4217,1.1543,-2.1521) ├────────────────────────────────────┤ X ├──┼──»\n",
      "     └──────────────────────────┘┌───┐ ┌────────────────────────────┐└─┬─┘  │  »\n",
      "q_2: ────────────────────────────┤ X ├─┤ U(0.52889,-2.4869,-1.3065) ├──■────┼──»\n",
      "          ┌────────────────┐     └─┬─┘┌┴────────────────────────────┤       │  »\n",
      "q_3: ─────┤ U(0.82078,0,0) ├───────■──┤ U(0.76142,1.5673,-0.036898) ├───────■──»\n",
      "          └────────────────┘          └─────────────────────────────┘          »\n",
      "«     ┌─────────────────────────┐     ┌───┐┌───────────────────────────┐     »\n",
      "«q_0: ┤ U(1.881,2.6659,0.53494) ├─────┤ X ├┤ U(1.1033,0.32306,-2.2097) ├─────»\n",
      "«     └┬────────────────────────┤┌───┐└─┬─┘├───────────────────────────┤┌───┐»\n",
      "«q_1: ─┤ U(1.8663,2.657,0.5052) ├┤ X ├──┼──┤ U(1.1033,0.32306,-2.2097) ├┤ X ├»\n",
      "«      └┬──────────────────────┬┘└─┬─┘  │  └───┬────────────────────┬──┘└─┬─┘»\n",
      "«q_2: ──┤ U(0.89058,-π/2,-π/2) ├───■────┼──────┤ U(0.070001,0,-π/2) ├─────■──»\n",
      "«       ├──────────────────────┤        │      ├────────────────────┤        »\n",
      "«q_3: ──┤ U(0.72106,-π/2,-π/2) ├────────■──────┤ U(0.072174,0,-π/2) ├────────»\n",
      "«       └──────────────────────┘               └────────────────────┘        »\n",
      "«     ┌───┐  ┌──────────────────────────┐  \n",
      "«q_0: ┤ X ├──┤ U(0.835,-1.0686,0.85182) ├──\n",
      "«     └─┬─┘ ┌┴──────────────────────────┤  \n",
      "«q_1: ──┼───┤ U(2.3119,-0.12104,0.2211) ├──\n",
      "«       │  ┌┴───────────────────────────┴─┐\n",
      "«q_2: ──┼──┤ U(0.90225,-0.30545,-0.73356) ├\n",
      "«       │  └─┬──────────────────────────┬─┘\n",
      "«q_3: ──■────┤ U(1.8883,0.3985,-3.1335) ├──\n",
      "«            └──────────────────────────┘  \n"
     ]
    }
   ],
   "execution_count": 4
  }
 ],
 "metadata": {
  "kernelspec": {
   "display_name": "Python 3",
   "language": "python",
   "name": "python3"
  },
  "language_info": {
   "codemirror_mode": {
    "name": "ipython",
    "version": 2
   },
   "file_extension": ".py",
   "mimetype": "text/x-python",
   "name": "python",
   "nbconvert_exporter": "python",
   "pygments_lexer": "ipython2",
   "version": "2.7.6"
  }
 },
 "nbformat": 4,
 "nbformat_minor": 5
}

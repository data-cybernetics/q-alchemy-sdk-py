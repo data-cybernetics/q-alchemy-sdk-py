{
 "cells": [
  {
   "metadata": {
    "ExecuteTime": {
     "end_time": "2025-09-12T10:43:36.437939Z",
     "start_time": "2025-09-12T10:43:36.428912Z"
    }
   },
   "cell_type": "code",
   "source": [
    "from qiskit.quantum_info import Statevector\n",
    "from qiskit import QuantumCircuit\n",
    "from q_alchemy.qiskit_integration import qiskit_batch_initialize\n",
    "import numpy as np\n",
    "from q_alchemy.initialize import OptParams"
   ],
   "id": "77bc44c99a299cf",
   "outputs": [],
   "execution_count": 7
  },
  {
   "metadata": {
    "collapsed": true,
    "ExecuteTime": {
     "end_time": "2025-09-12T10:43:40.152721Z",
     "start_time": "2025-09-12T10:43:36.511781Z"
    }
   },
   "cell_type": "code",
   "source": [
    "n_qubits = 4\n",
    "n_states = 4\n",
    "state_vectors = [np.random.rand(2 ** n_qubits) + np.random.rand(2 ** n_qubits) * 1j for i in range (n_states)]\n",
    "state_vectors = [sv / np.linalg.norm(sv) for sv in state_vectors]\n",
    "\n",
    "max_fidelity_loss = 0.05\n",
    "\n",
    "gate_list = qiskit_batch_initialize(\n",
    "    state_vectors=state_vectors,\n",
    "    opt_params=OptParams(\n",
    "        max_fidelity_loss=max_fidelity_loss,\n",
    "        api_key=\"<your api key>\"\n",
    "    )\n",
    ")\n",
    "qcs = [QuantumCircuit(n_qubits) for gate in gate_list]\n",
    "for gate, qc in zip(gate_list, qcs):\n",
    "    qc.append(gate, range(n_qubits))\n",
    "\n",
    "qiskit_states = [Statevector(circuit).data for circuit in qcs]\n",
    "\n",
    "for init_state, qiskit_state in zip(state_vectors, qiskit_states):\n",
    "    fidelity = abs(np.vdot(init_state, qiskit_state))**2\n",
    "    print(fidelity)"
   ],
   "id": "initial_id",
   "outputs": [
    {
     "name": "stdout",
     "output_type": "stream",
     "text": [
      "0.9694618326901896\n",
      "0.9514513622316217\n",
      "0.9701151077593299\n",
      "0.9824204823908578\n"
     ]
    }
   ],
   "execution_count": 9
  },
  {
   "metadata": {
    "ExecuteTime": {
     "end_time": "2025-09-12T10:45:59.732235Z",
     "start_time": "2025-09-12T10:45:59.723599Z"
    }
   },
   "cell_type": "code",
   "source": [
    "print(qcs[0])\n",
    "print(qcs[0].decompose())"
   ],
   "id": "16525cc8bfbef11c",
   "outputs": [
    {
     "name": "stdout",
     "output_type": "stream",
     "text": [
      "     ┌───────┐\n",
      "q_0: ┤0      ├\n",
      "     │       │\n",
      "q_1: ┤1      ├\n",
      "     │  QAl0 │\n",
      "q_2: ┤2      ├\n",
      "     │       │\n",
      "q_3: ┤3      ├\n",
      "     └───────┘\n",
      "global phase: 0.57933\n",
      "                       ┌───┐┌────────────────────────────┐»\n",
      "q_0: ──────────────────┤ X ├┤ U(2.3958,-0.49242,0.62586) ├»\n",
      "                       └─┬─┘└───────────┬───┬────────────┘»\n",
      "q_1: ────────────────────┼──────────────┤ X ├─────────────»\n",
      "     ┌────────────────┐  │              └─┬─┘             »\n",
      "q_2: ┤ U(0.42797,0,0) ├──■────────────────┼───────────────»\n",
      "     ├────────────────┤                   │               »\n",
      "q_3: ┤ U(0.73261,0,0) ├───────────────────■───────────────»\n",
      "     └────────────────┘                                   »\n",
      "«                                   ┌───┐┌─────────────────────────┐ ┌───┐»\n",
      "«q_0: ──────────────────────────────┤ X ├┤ U(2.0822,2.8989,1.1024) ├─┤ X ├»\n",
      "«      ┌─────────────────────────┐  └─┬─┘└─┬──────────────────────┬┘ └─┬─┘»\n",
      "«q_1: ─┤ U(0.25379,1.5507,-0.62) ├────■────┤ U(0.58213,-π/2,-π/2) ├────■──»\n",
      "«     ┌┴─────────────────────────┴─┐┌───┐┌─┴──────────────────────┴─┐┌───┐»\n",
      "«q_2: ┤ U(1.8062,0.041192,0.18686) ├┤ X ├┤ U(1.9315,2.7016,0.64324) ├┤ X ├»\n",
      "«     └─┬────────────────────────┬─┘└─┬─┘└─┬──────────────────────┬─┘└─┬─┘»\n",
      "«q_3: ──┤ U(2.1543,1.51,0.15226) ├────■────┤ U(0.75655,-π/2,-π/2) ├────■──»\n",
      "«       └────────────────────────┘         └──────────────────────┘       »\n",
      "«     ┌───────────────────────────┐┌───┐┌─────────────────────────────┐\n",
      "«q_0: ┤ U(1.1033,0.32306,-2.2097) ├┤ X ├┤ U(1.8473,0.52589,-0.044951) ├\n",
      "«     └───┬────────────────────┬──┘└─┬─┘├─────────────────────────────┤\n",
      "«q_1: ────┤ U(0.041297,0,-π/2) ├─────■──┤ U(0.84366,-0.24677,-1.9026) ├\n",
      "«     ┌───┴────────────────────┴──┐┌───┐└─┬──────────────────────────┬┘\n",
      "«q_2: ┤ U(1.1033,0.32306,-2.2097) ├┤ X ├──┤ U(1.7798,-1.2265,1.7995) ├─\n",
      "«     └───┬────────────────────┬──┘└─┬─┘ ┌┴──────────────────────────┤ \n",
      "«q_3: ────┤ U(0.033836,-π,π/2) ├─────■───┤ U(1.877,-3.0085,-0.22888) ├─\n",
      "«         └────────────────────┘         └───────────────────────────┘ \n"
     ]
    }
   ],
   "execution_count": 16
  }
 ],
 "metadata": {
  "kernelspec": {
   "display_name": "Python 3",
   "language": "python",
   "name": "python3"
  },
  "language_info": {
   "codemirror_mode": {
    "name": "ipython",
    "version": 2
   },
   "file_extension": ".py",
   "mimetype": "text/x-python",
   "name": "python",
   "nbconvert_exporter": "python",
   "pygments_lexer": "ipython2",
   "version": "2.7.6"
  }
 },
 "nbformat": 4,
 "nbformat_minor": 5
}

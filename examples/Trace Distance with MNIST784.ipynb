{
 "cells": [
  {
   "cell_type": "markdown",
   "id": "d6fd90d1f8edbbe5",
   "metadata": {
    "collapsed": false,
    "jupyter": {
     "outputs_hidden": false
    }
   },
   "source": [
    "Needed dependencies:\n",
    "\n",
    "  * q-alchemy-sdk-py\n",
    "  * jupyter\n",
    "  * matplotlib\n",
    "  * pandas\n",
    "  * scikit-learn\n",
    "  * tqdm"
   ]
  },
  {
   "cell_type": "code",
   "id": "90340851-e5ae-45b5-a15f-0cf5f8101c85",
   "metadata": {
    "ExecuteTime": {
     "end_time": "2024-09-19T19:38:25.835078Z",
     "start_time": "2024-09-19T19:38:25.079107Z"
    }
   },
   "source": [
    "import numpy as np\n",
    "import qutip\n",
    "import matplotlib.pyplot as plt"
   ],
   "outputs": [],
   "execution_count": 1
  },
  {
   "cell_type": "code",
   "id": "5983448f918ccd4d",
   "metadata": {
    "collapsed": false,
    "jupyter": {
     "outputs_hidden": false
    },
    "ExecuteTime": {
     "end_time": "2024-09-19T19:38:25.842241Z",
     "start_time": "2024-09-19T19:38:25.836130Z"
    }
   },
   "source": [
    "def plot_digits(digits, labels, matrix_dim, save_fig=None, fig_size=(20, 10)):\n",
    "    fig, axes = plt.subplots(nrows=1, ncols=len(digits), figsize=fig_size, squeeze=False)\n",
    "    for ax, digit, label in zip(axes.reshape(-1), digits, labels):\n",
    "        ax.set_axis_off()\n",
    "        image = digit[:int(matrix_dim**2)].reshape(matrix_dim, matrix_dim)\n",
    "        ax.imshow(image, cmap=plt.cm.gray_r, interpolation='none')\n",
    "        ax.set_title(label)\n",
    "    if save_fig is not None:\n",
    "        fig.savefig(save_fig)\n",
    "    else:\n",
    "        plt.show()\n",
    "    plt.close(fig)"
   ],
   "outputs": [],
   "execution_count": 2
  },
  {
   "cell_type": "code",
   "id": "68c0bb28a7fc35af",
   "metadata": {
    "collapsed": false,
    "jupyter": {
     "outputs_hidden": false
    },
    "ExecuteTime": {
     "end_time": "2024-09-19T19:38:30.583099Z",
     "start_time": "2024-09-19T19:38:26.402574Z"
    }
   },
   "source": [
    "from sklearn.datasets import fetch_openml\n",
    "\n",
    "mnist = fetch_openml('mnist_784', version=1, parser=\"auto\")"
   ],
   "outputs": [],
   "execution_count": 3
  },
  {
   "metadata": {},
   "cell_type": "markdown",
   "source": "## Fill up to even power of 2",
   "id": "bc1c8cdb4fc0eb8"
  },
  {
   "metadata": {
    "ExecuteTime": {
     "end_time": "2024-09-19T19:38:33.413289Z",
     "start_time": "2024-09-19T19:38:32.025307Z"
    }
   },
   "cell_type": "code",
   "source": [
    "qubits = int(np.ceil(np.log2(mnist.data.shape[1])))\n",
    "filler = np.empty((mnist.data.shape[0], 2**qubits - mnist.data.shape[1]))\n",
    "filler.fill(0)\n",
    "embedded = np.hstack([mnist.data, filler])\n",
    "embedded = np.einsum(\"ij,i -> ij\", embedded, 1 / np.linalg.norm(embedded, axis=1)) \n",
    "all(np.linalg.norm(embedded, axis=1).round(13) == 1.0)"
   ],
   "id": "713708d8d9812030",
   "outputs": [
    {
     "data": {
      "text/plain": [
       "True"
      ]
     },
     "execution_count": 4,
     "metadata": {},
     "output_type": "execute_result"
    }
   ],
   "execution_count": 4
  },
  {
   "metadata": {
    "ExecuteTime": {
     "end_time": "2024-09-19T19:38:33.666018Z",
     "start_time": "2024-09-19T19:38:33.415300Z"
    }
   },
   "cell_type": "code",
   "source": [
    "zeros = embedded[mnist.target == \"0\"]\n",
    "ones = embedded[mnist.target == \"1\"]\n",
    "twos = embedded[mnist.target == \"2\"]\n",
    "\n",
    "plot_digits([zeros[0], ones[0], twos[0]], [0, 1, 2], 28)"
   ],
   "id": "808d5879d93cb228",
   "outputs": [
    {
     "data": {
      "text/plain": [
       "<Figure size 2000x1000 with 3 Axes>"
      ],
      "image/png": "[encoded data removed]"
     },
     "metadata": {},
     "output_type": "display_data"
    }
   ],
   "execution_count": 5
  },
  {
   "metadata": {},
   "cell_type": "markdown",
   "source": [
    "## Create each class centroid\n",
    "\n",
    "**ATTENTION:** These operations take some time! _Please Skip if you don't need it!_"
   ],
   "id": "d88aa104438c04b7"
  },
  {
   "metadata": {
    "ExecuteTime": {
     "end_time": "2024-09-19T19:16:39.693024Z",
     "start_time": "2024-09-19T19:14:26.168935Z"
    }
   },
   "cell_type": "code",
   "source": [
    "zero_len = zeros.shape[0]\n",
    "zero_cen = [qutip.Qobj(d) for d in zeros]\n",
    "zero_cen = sum(d @ d.dag() for d in zero_cen)  # this is done sequentially, so no extreme memory usage \n",
    "zero_cen /= zero_len\n",
    "zero_cen.shape"
   ],
   "id": "18dca38a7460d342",
   "outputs": [
    {
     "data": {
      "text/plain": [
       "(1024, 1024)"
      ]
     },
     "execution_count": 26,
     "metadata": {},
     "output_type": "execute_result"
    }
   ],
   "execution_count": 26
  },
  {
   "metadata": {
    "ExecuteTime": {
     "end_time": "2024-09-19T19:19:20.130947Z",
     "start_time": "2024-09-19T19:16:51.789481Z"
    }
   },
   "cell_type": "code",
   "source": [
    "one_len = ones.shape[0]\n",
    "one_cen = [qutip.Qobj(d) for d in ones]\n",
    "one_cen = sum(d @ d.dag() for d in one_cen)  # this is done sequentially, so no extreme memory usage\n",
    "one_cen /= one_len\n",
    "one_cen.shape"
   ],
   "id": "df7eaba9d1430d2b",
   "outputs": [
    {
     "data": {
      "text/plain": [
       "(1024, 1024)"
      ]
     },
     "execution_count": 28,
     "metadata": {},
     "output_type": "execute_result"
    }
   ],
   "execution_count": 28
  },
  {
   "metadata": {
    "ExecuteTime": {
     "end_time": "2024-09-19T19:19:20.148264Z",
     "start_time": "2024-09-19T19:19:20.132957Z"
    }
   },
   "cell_type": "code",
   "source": "zero_cen.tr(), one_cen.tr()",
   "id": "1e33d42be92821ea",
   "outputs": [
    {
     "data": {
      "text/plain": [
       "(0.9999999999999987, 0.9999999999999996)"
      ]
     },
     "execution_count": 29,
     "metadata": {},
     "output_type": "execute_result"
    }
   ],
   "execution_count": 29
  },
  {
   "metadata": {},
   "cell_type": "markdown",
   "source": "Get the prior probabilities correctly",
   "id": "786e2fdec1f6aba2"
  },
  {
   "metadata": {},
   "cell_type": "code",
   "outputs": [
    {
     "data": {
      "text/plain": [
       "(0.46705006765899865, 0.5329499323410014)"
      ]
     },
     "execution_count": 12,
     "metadata": {},
     "output_type": "execute_result"
    }
   ],
   "execution_count": 12,
   "source": [
    "M = zero_len + one_len\n",
    "p_0 = zero_len / M\n",
    "p_1 = 1 - p_0\n",
    "p_0, p_1"
   ],
   "id": "31710015c345e26a"
  },
  {
   "metadata": {},
   "cell_type": "markdown",
   "source": [
    "## How easy is it to distinguish between zeros and ones?\n",
    "\n",
    "Let us get the trace distance!"
   ],
   "id": "29dfda4fa24e04c0"
  },
  {
   "metadata": {
    "ExecuteTime": {
     "end_time": "2024-09-19T19:19:53.488524Z",
     "start_time": "2024-09-19T19:19:48.832474Z"
    }
   },
   "cell_type": "code",
   "source": "qutip.tracedist(p_0 * zero_cen, p_1 * one_cen)",
   "id": "f7f32d3ecfc81fb3",
   "outputs": [
    {
     "data": {
      "text/plain": [
       "0.4364610994380074"
      ]
     },
     "execution_count": 30,
     "metadata": {},
     "output_type": "execute_result"
    }
   ],
   "execution_count": 30
  },
  {
   "metadata": {},
   "cell_type": "markdown",
   "source": "Let us get the Helstrom operator and probabilty of success of discrimination",
   "id": "bbc11af4ffdf54fe"
  },
  {
   "metadata": {
    "ExecuteTime": {
     "end_time": "2024-09-19T19:20:05.541730Z",
     "start_time": "2024-09-19T19:19:59.654423Z"
    }
   },
   "cell_type": "code",
   "source": [
    "hel_op = p_0 * zero_cen - p_1 * one_cen\n",
    "eig_vals, eig_vecs = hel_op.eigenstates()\n",
    "\n",
    "p_success = (sum([abs(a) for a in eig_vals]) + 1) / 2\n",
    "p_success"
   ],
   "id": "aec9a523db21671b",
   "outputs": [
    {
     "data": {
      "text/plain": [
       "0.9364610887044194"
      ]
     },
     "execution_count": 31,
     "metadata": {},
     "output_type": "execute_result"
    }
   ],
   "execution_count": 31
  },
  {
   "metadata": {},
   "cell_type": "markdown",
   "source": "In general, this is an \"easy\" task, with about 93.6% prediction error ",
   "id": "e6e99c022421729b"
  },
  {
   "metadata": {},
   "cell_type": "markdown",
   "source": [
    "# Q-Alchemy and how approximations will fare\n",
    "\n",
    "Here we will use Q-Alchemy's approximation engine to see how much quality we loose."
   ],
   "id": "55cb87f1e64e7d5b"
  },
  {
   "metadata": {
    "ExecuteTime": {
     "end_time": "2024-09-19T19:39:09.984632Z",
     "start_time": "2024-09-19T19:39:07.457238Z"
    }
   },
   "cell_type": "code",
   "source": [
    "import pennylane as qml\n",
    "\n",
    "from q_alchemy.pennylane_integration import QAlchemyStatePreparation, from_qasm\n",
    "\n",
    "dev = qml.device(\"default.qubit\", wires=10)\n",
    "\n",
    "@qml.qnode(dev)\n",
    "def approximate(state, max_f):\n",
    "    QAlchemyStatePreparation(state, wires=range(10), max_fidelity_loss=max_f)\n",
    "    return qml.state()"
   ],
   "id": "e39def60cc0bf2df",
   "outputs": [],
   "execution_count": 6
  },
  {
   "metadata": {},
   "cell_type": "markdown",
   "source": "Let us check if Q-Alchemy does its job here",
   "id": "c6ff853bdb8df6d8"
  },
  {
   "metadata": {
    "ExecuteTime": {
     "end_time": "2024-09-19T19:39:38.418083Z",
     "start_time": "2024-09-19T19:39:10.094324Z"
    }
   },
   "cell_type": "code",
   "source": [
    "zero_approx = approximate(zeros[0], 0.1)\n",
    "abs(np.vdot(zeros[0], zero_approx))**2"
   ],
   "id": "3c2aab4dd62f8895",
   "outputs": [
    {
     "data": {
      "text/plain": [
       "0.9043488817961349"
      ]
     },
     "execution_count": 7,
     "metadata": {},
     "output_type": "execute_result"
    }
   ],
   "execution_count": 7
  },
  {
   "metadata": {},
   "cell_type": "markdown",
   "source": "The next step uses massive computation, which will use the low-level functionalities provided by this integration",
   "id": "df2415c19c0538b5"
  },
  {
   "metadata": {
    "ExecuteTime": {
     "end_time": "2024-09-19T19:42:23.365695Z",
     "start_time": "2024-09-19T19:42:23.361671Z"
    }
   },
   "cell_type": "code",
   "source": [
    "def qasm_to_state(_qasm, _dev):\n",
    "    with qml.tape.QuantumTape() as tape:\n",
    "        from_qasm(_qasm)\n",
    "        qml.state()\n",
    "    result = qml.execute([tape], _dev)\n",
    "    return result[0]"
   ],
   "id": "931640b5fe465d60",
   "outputs": [],
   "execution_count": 23
  },
  {
   "metadata": {},
   "cell_type": "code",
   "source": [
    "from q_alchemy.initialize import q_alchemy_as_qasm_parallel_states, OptParams\n",
    "\n",
    "zeros_qy_qasm = q_alchemy_as_qasm_parallel_states(zeros[0:100], opt_params=OptParams(max_fidelity_loss=0.1, job_completion_timeout_sec=100000))"
   ],
   "id": "a7db32bfdedc706f",
   "outputs": [],
   "execution_count": null
  },
  {
   "metadata": {
    "ExecuteTime": {
     "end_time": "2024-09-19T19:50:50.294158Z",
     "start_time": "2024-09-19T19:49:06.145120Z"
    }
   },
   "cell_type": "code",
   "source": "zero_qy = [qasm_to_state(q, dev) for q in zeros_qy_qasm]",
   "id": "33dfc3c124dfc3b0",
   "outputs": [],
   "execution_count": 28
  },
  {
   "metadata": {
    "ExecuteTime": {
     "end_time": "2024-09-19T19:50:50.304221Z",
     "start_time": "2024-09-19T19:50:50.295262Z"
    }
   },
   "cell_type": "code",
   "source": "len(zero_qy)",
   "id": "98d6e0cee00077e1",
   "outputs": [
    {
     "data": {
      "text/plain": [
       "28"
      ]
     },
     "execution_count": 29,
     "metadata": {},
     "output_type": "execute_result"
    }
   ],
   "execution_count": 29
  }
 ],
 "metadata": {
  "kernelspec": {
   "display_name": "Python 3 (ipykernel)",
   "language": "python",
   "name": "python3"
  },
  "language_info": {
   "codemirror_mode": {
    "name": "ipython",
    "version": 3
   },
   "file_extension": ".py",
   "mimetype": "text/x-python",
   "name": "python",
   "nbconvert_exporter": "python",
   "pygments_lexer": "ipython3",
   "version": "3.11.8"
  },
  "vscode": {
   "interpreter": {
    "hash": "199de1a40b437420e38518fec2b1bf8cd0767dab923cb90924671417b5bfa7de"
   }
  }
 },
 "nbformat": 4,
 "nbformat_minor": 5
}

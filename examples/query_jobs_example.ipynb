{
 "cells": [
  {
   "cell_type": "markdown",
   "metadata": {},
   "source": [
    "Copyright 2022 data cybernetics ssc GmbH.\n",
    "\n",
    "Licensed under the Apache License, Version 2.0 (the \"License\");\n",
    "you may not use this file except in compliance with the License.\n",
    "You may obtain a copy of the License at\n",
    "\n",
    "    http://www.apache.org/licenses/LICENSE-2.0\n",
    "\n",
    "Unless required by applicable law or agreed to in writing, software\n",
    "distributed under the License is distributed on an \"AS IS\" BASIS,\n",
    "WITHOUT WARRANTIES OR CONDITIONS OF ANY KIND, either express or implied.\n",
    "See the License for the specific language governing permissions and\n",
    "limitations under the License."
   ]
  },
  {
   "cell_type": "code",
   "execution_count": 1,
   "metadata": {
    "ExecuteTime": {
     "end_time": "2023-07-20T11:56:24.811645Z",
     "start_time": "2023-07-20T11:56:19.096804600Z"
    }
   },
   "outputs": [],
   "source": [
    "from q_alchemy import Client\n",
    "from q_alchemy.models import JobState"
   ]
  },
  {
   "cell_type": "markdown",
   "metadata": {
    "collapsed": false
   },
   "source": [
    "# Creating a Client\n",
    "\n",
    "You can easily create a client as soon as you have an API key. You can get yours for free at https://portal.q-alchemy.com! Once you have that, please simply add it to the client constructor parameter `api_key`.\n",
    "\n",
    "The client connects to the Q-Alchemy Hypermedia+Siren API. You can check it out also at\n",
    "\n",
    "https://hypermedia-ui-demo.q-alchemy.com/hui?apiPath=https:%2F%2Fjobs.api.q-alchemy.com%2Fapi%2FEntryPoint\n",
    "\n",
    "where you can visually play around with it. The same methods are also available with this SDK!"
   ]
  },
  {
   "cell_type": "code",
   "execution_count": 2,
   "metadata": {
    "ExecuteTime": {
     "end_time": "2023-07-20T11:56:26.067301300Z",
     "start_time": "2023-07-20T11:56:24.813651100Z"
    },
    "collapsed": false
   },
   "outputs": [
    {
     "data": {
      "text/plain": [
       "JobsRoot(https://jobs.api.q-alchemy.com/api/Jobs)"
      ]
     },
     "execution_count": 2,
     "metadata": {},
     "output_type": "execute_result"
    }
   ],
   "source": [
    "# Creating a client is really simple: just add your API key!\n",
    "client = Client(api_key=\"<get your own at https://portal.q-alchemy.com>\")\n",
    "root = client.get_jobs_root()\n",
    "root"
   ]
  },
  {
   "cell_type": "markdown",
   "metadata": {
    "collapsed": false
   },
   "source": [
    "# Querying the API and your job"
   ]
  },
  {
   "cell_type": "code",
   "execution_count": 5,
   "metadata": {
    "ExecuteTime": {
     "end_time": "2023-07-20T11:57:25.328418100Z",
     "start_time": "2023-07-20T11:57:24.039064200Z"
    },
    "collapsed": false
   },
   "outputs": [
    {
     "data": {
      "text/plain": [
       "Query 2/4"
      ]
     },
     "execution_count": 5,
     "metadata": {},
     "output_type": "execute_result"
    }
   ],
   "source": [
    "# We can query the API to check all our jobs\n",
    "query = root.job_query(page_size=2, page_offset=0)\n",
    "query"
   ]
  },
  {
   "cell_type": "code",
   "execution_count": 6,
   "metadata": {
    "ExecuteTime": {
     "end_time": "2023-07-20T11:57:27.327785Z",
     "start_time": "2023-07-20T11:57:27.321251100Z"
    },
    "collapsed": false
   },
   "outputs": [
    {
     "data": {
      "text/plain": [
       "[Job(Completed, https://jobs.api.q-alchemy.com/api/Jobs/Job/c9da310e-7a9b-4f27-8edd-e46d915492c5),\n",
       " Job(Processing, https://jobs.api.q-alchemy.com/api/Jobs/Job/aa3e54fb-f884-4043-9a7f-746b57b65c49)]"
      ]
     },
     "execution_count": 6,
     "metadata": {},
     "output_type": "execute_result"
    }
   ],
   "source": [
    "# And then have the jobs shown (paginated of course)\n",
    "query.jobs"
   ]
  },
  {
   "cell_type": "code",
   "execution_count": 8,
   "metadata": {
    "ExecuteTime": {
     "end_time": "2023-07-20T11:57:59.517821300Z",
     "start_time": "2023-07-20T11:57:58.788644300Z"
    },
    "collapsed": false
   },
   "outputs": [
    {
     "data": {
      "text/plain": [
       "[Job(Processing, https://jobs.api.q-alchemy.com/api/Jobs/Job/c79bd41c-1d8f-43ac-a057-e1477776f3f7),\n",
       " Job(DataMissing, https://jobs.api.q-alchemy.com/api/Jobs/Job/b0a130ed-170e-418b-bc77-bdf36e90f20a)]"
      ]
     },
     "execution_count": 8,
     "metadata": {},
     "output_type": "execute_result"
    }
   ],
   "source": [
    "# The next page is then accessed like this:\n",
    "query.next().jobs"
   ]
  },
  {
   "cell_type": "code",
   "execution_count": 11,
   "metadata": {
    "ExecuteTime": {
     "end_time": "2023-07-20T11:59:34.439116100Z",
     "start_time": "2023-07-20T11:59:33.550628700Z"
    },
    "collapsed": false
   },
   "outputs": [
    {
     "data": {
      "text/plain": [
       "Query 2/2"
      ]
     },
     "execution_count": 11,
     "metadata": {},
     "output_type": "execute_result"
    }
   ],
   "source": [
    "# We can also filter out jobs that supposedly are still processing\n",
    "root.job_query(states_by_or=[JobState.PROCESSING])"
   ]
  },
  {
   "cell_type": "code",
   "execution_count": 12,
   "metadata": {
    "ExecuteTime": {
     "end_time": "2023-07-20T12:00:45.043692500Z",
     "start_time": "2023-07-20T12:00:44.053992900Z"
    },
    "collapsed": false
   },
   "outputs": [
    {
     "data": {
      "text/plain": [
       "Query 4/4"
      ]
     },
     "execution_count": 12,
     "metadata": {},
     "output_type": "execute_result"
    }
   ],
   "source": [
    "# Another very powerful way is to filter for tags:\n",
    "root.job_query(tags_by_and=[\"Test Job\"])"
   ]
  },
  {
   "cell_type": "code",
   "execution_count": 13,
   "metadata": {
    "ExecuteTime": {
     "end_time": "2023-07-20T12:01:11.874190100Z",
     "start_time": "2023-07-20T12:01:10.734995100Z"
    },
    "collapsed": false
   },
   "outputs": [
    {
     "data": {
      "text/plain": [
       "Query 4/4"
      ]
     },
     "execution_count": 13,
     "metadata": {},
     "output_type": "execute_result"
    }
   ],
   "source": [
    "# Or by name (contains) if you please\n",
    "root.job_query(name_contains=\"Cars\")"
   ]
  },
  {
   "cell_type": "markdown",
   "metadata": {
    "collapsed": false
   },
   "source": []
  }
 ],
 "metadata": {
  "kernelspec": {
   "display_name": "new",
   "language": "python",
   "name": "python3"
  },
  "language_info": {
   "codemirror_mode": {
    "name": "ipython",
    "version": 3
   },
   "file_extension": ".py",
   "mimetype": "text/x-python",
   "name": "python",
   "nbconvert_exporter": "python",
   "pygments_lexer": "ipython3",
   "version": "3.11.5 (main, Sep 11 2023, 08:31:25) [Clang 14.0.6 ]"
  },
  "vscode": {
   "interpreter": {
    "hash": "3056b2d51d95f7650196fe29ff19197ab44cf10a0e2dfd0a187d0f21e30a9402"
   }
  }
 },
 "nbformat": 4,
 "nbformat_minor": 1
}

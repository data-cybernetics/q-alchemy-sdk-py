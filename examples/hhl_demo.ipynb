{
 "cells": [
  {
   "attachments": {},
   "cell_type": "markdown",
   "metadata": {},
   "source": [
    "# Harrow–Hassidim–Loyd algorithm(HHL) algoritum demo using Q-alchemy's state preparation\n",
    "\n",
    "HHL algorithm is a quantum algorithm that solves a systems of linear equations. In general, a system of linear $n$-dimensional equations  can be written as follows.\n",
    "\n",
    "$$\n",
    "A \\vec{x} = \\vec{b}\n",
    "$$\n",
    "\n",
    "Where $A$ is $n$ x $n$ matrix and $\\vec{x}, \\vec{b} \\in \\mathbb{R}^n$. HHL algorithm is proven to provide an exponential speed up given that the $A$ is a sparse, matrix and the condition number $\\kappa$ of the system is low.  The condition number $\\kappa$ is a measure of how much the output value of the function can change for a small change in the input argument. \n",
    "\n",
    "To run the HHL algorithm we first have to map the solution vector $\\vec{b}$ to the Hilber space. In this module, we will present how the state preparation algorithm by Q-alchemy can be implemented in this context, and compare the results with IBM's state preparation method.\n"
   ]
  },
  {
   "cell_type": "code",
   "execution_count": 8,
   "metadata": {},
   "outputs": [
    {
     "name": "stdout",
     "output_type": "stream",
     "text": [
      "['/Users/wooseophwang/Desktop/q-alchemy-sdk-py/examples', '/Users/wooseophwang/.vscode/extensions/ms-toolsai.jupyter-2022.11.1003412109/pythonFiles', '/Users/wooseophwang/.vscode/extensions/ms-toolsai.jupyter-2022.11.1003412109/pythonFiles/lib/python', '/Users/wooseophwang/anaconda3/envs/new/lib/python311.zip', '/Users/wooseophwang/anaconda3/envs/new/lib/python3.11', '/Users/wooseophwang/anaconda3/envs/new/lib/python3.11/lib-dynload', '', '/Users/wooseophwang/anaconda3/envs/new/lib/python3.11/site-packages', './', './', './', './', '..', '..']\n"
     ]
    }
   ],
   "source": [
    "from qiskit import transpile\n",
    "import numpy as np\n",
    "from qiskit import QuantumCircuit, QuantumRegister\n",
    "from scipy.sparse import diags\n",
    "\n",
    "from linear_solvers import NumPyLinearSolver, HHL\n",
    "from qiskit.circuit.library.arithmetic.exact_reciprocal import ExactReciprocal\n",
    "from qiskit.quantum_info import Statevector\n",
    "import sys\n",
    "import os\n",
    "os.environ[\"Q_ALCHEMY_API_KEY\"] = \"JnvkpMCsyr4nB9nHcwa6CbxqhtZXyF1b\"\n",
    "sys.path.append('..')\n",
    "from q_alchemy.qiskit import QAlchemyInitialize\n",
    "from qiskit.opflow import (\n",
    "    Z,\n",
    "    I,\n",
    "    StateFn,\n",
    "    TensoredOp,\n",
    "    ExpectationBase,\n",
    "    CircuitSampler,\n",
    "    ListOp,\n",
    "    ExpectationFactory,\n",
    "    ComposedOp,\n",
    ")\n",
    "\n"
   ]
  },
  {
   "cell_type": "markdown",
   "metadata": {},
   "source": []
  },
  {
   "cell_type": "code",
   "execution_count": null,
   "metadata": {},
   "outputs": [],
   "source": [
    "def calculate_norm(qc: QuantumCircuit, nb: int, nl: int, na:int) -> float:\n",
    "        \"\"\"Calculates the value of the euclidean norm of the solution.\n",
    "\n",
    "        Args:\n",
    "            qc: The quantum circuit preparing the solution x to the system.\n",
    "\n",
    "        Returns:\n",
    "            The value of the euclidean norm of the solution.\n",
    "        \"\"\"\n",
    "\n",
    "        # Create the Operators Zero and One\n",
    "        zero_op = (I + Z) / 2\n",
    "        one_op = (I - Z) / 2\n",
    "\n",
    "        # Norm observable\n",
    "        observable = one_op ^ TensoredOp((nl + na) * [zero_op]) ^ (I ^ nb)\n",
    "        norm_2 = (~StateFn(observable) @ StateFn(qc)).eval()\n",
    "        \n",
    "\n",
    "        return np.real(np.sqrt(norm_2))"
   ]
  },
  {
   "cell_type": "code",
   "execution_count": null,
   "metadata": {},
   "outputs": [],
   "source": [
    "def get_solution_vector(solution, n):\n",
    "    solution_vector = Statevector(solution.state).data[n:n+8].real\n",
    "    norm = solution.euclidean_norm\n",
    "    return norm * solution_vector / np.linalg.norm(solution_vector)"
   ]
  },
  {
   "attachments": {},
   "cell_type": "markdown",
   "metadata": {},
   "source": [
    "## Define matrix $A$ as 8 by 8 Sparse Hermitian matrice\n",
    "First, we will begin by defining the matrix $A$, and $b$. We will arbitarily define A, and randomly generate corresponding solution vector $\\vec{b}$ and normalize it."
   ]
  },
  {
   "cell_type": "code",
   "execution_count": null,
   "metadata": {},
   "outputs": [],
   "source": [
    "A = np.array([[1.0, 2.0, 3.0, 0.0, 0.0, 0.0, 0.0, 0.0],\n",
    "              [2.0, 3.0, 4.0, 0.0, 0.0, 0.0, 0.0, 0.0],\n",
    "              [3.0, 4.0, 4.0, 5.0, 0.0, 0.0, 0.0, 0.0],\n",
    "              [0.0, 0.0, 5.0, 6.0, 0.0, 0.0, 0.0, 0.0],\n",
    "              [0.0, 0.0, 0.0, 0.0, 7.0, 8.0, 0.0, 0.0],\n",
    "              [0.0, 0.0, 0.0, 0.0, 8.0, 9.0, 0.0, 10.0],\n",
    "              [0.0, 0.0, 0.0, 0.0, 0.0, 0.0, 10.0, 11.0],\n",
    "              [0.0, 0.0, 0.0, 0.0, 0.0, 10.0, 11.0, 12.0]])\n",
    "\n",
    "# Ensure Hermitian property (conjugate transpose)\n",
    "A = (A + A.T) / 2.0\n",
    "#b = [1, 0, 0, 0, 0, 0, 0, 0]\n",
    "b = np.random.rand(8)\n",
    "b = b/np.linalg.norm(b) #normalize solution"
   ]
  },
  {
   "attachments": {},
   "cell_type": "markdown",
   "metadata": {},
   "source": [
    "### Initialize the solution state using Q-alchemy\n",
    "\n",
    "From $\\vec{b}$ we have generated above, we will initialize Q-alchemy and generate a qunutum circuit that transforms the quantum state from $\\ket{0}$ to $\\ket{b}$, where $\\ket{b} = \\sum_{i=1}^{n} b_i \\ket{i}$."
   ]
  },
  {
   "cell_type": "code",
   "execution_count": null,
   "metadata": {},
   "outputs": [
    {
     "data": {
      "text/html": [
       "<pre style=\"word-wrap: normal;white-space: pre;background: #fff0;line-height: 1.1;font-family: &quot;Courier New&quot;,Courier,monospace\">     ┌──────────────────────────────────────────────────────────────────────┐\n",
       "q_0: ┤0                                                                     ├\n",
       "     │                                                                      │\n",
       "q_1: ┤1 LRSP(0.41153,0.12419,0.429,0.40731,0.53583,0.26869,0.21978,0.24014) ├\n",
       "     │                                                                      │\n",
       "q_2: ┤2                                                                     ├\n",
       "     └──────────────────────────────────────────────────────────────────────┘</pre>"
      ],
      "text/plain": [
       "     ┌──────────────────────────────────────────────────────────────────────┐\n",
       "q_0: ┤0                                                                     ├\n",
       "     │                                                                      │\n",
       "q_1: ┤1 LRSP(0.41153,0.12419,0.429,0.40731,0.53583,0.26869,0.21978,0.24014) ├\n",
       "     │                                                                      │\n",
       "q_2: ┤2                                                                     ├\n",
       "     └──────────────────────────────────────────────────────────────────────┘"
      ]
     },
     "execution_count": 5,
     "metadata": {},
     "output_type": "execute_result"
    }
   ],
   "source": [
    "sp_org = QAlchemyInitialize(b, opt_params={'max_fidelity_loss':0.0})\n",
    "sp_org.definition.draw(fold=-1)"
   ]
  },
  {
   "attachments": {},
   "cell_type": "markdown",
   "metadata": {},
   "source": [
    "We compare the state preapred by the Q-alchemy, and the actual target state $\\vec{b}$."
   ]
  },
  {
   "cell_type": "code",
   "execution_count": null,
   "metadata": {},
   "outputs": [
    {
     "name": "stdout",
     "output_type": "stream",
     "text": [
      "state prepared by Q-alchemy [0.41152717 0.12418922 0.42900313 0.40730592 0.53582653 0.26869457\n",
      " 0.21978396 0.2401433 ]\n",
      "Target state [0.41152717 0.12418922 0.42900313 0.40730592 0.53582653 0.26869457\n",
      " 0.21978396 0.2401433 ]\n"
     ]
    },
    {
     "data": {
      "text/html": [
       "<pre style=\"word-wrap: normal;white-space: pre;background: #fff0;line-height: 1.1;font-family: &quot;Courier New&quot;,Courier,monospace\">global phase: 2π\n",
       "     ┌─────────────┐           ┌─────────────┐ ┌────────┐                »\n",
       "q_0: ┤ Ry(0.38787) ├─────■─────┤ Ry(-1.1506) ├─┤ Rz(-π) ├────────────────»\n",
       "     └─────────────┘   ┌─┴─┐   ├─────────────┴┐└────────┘┌──────────────┐»\n",
       "q_1: ──────────────────┤ X ├───┤ Ry(-0.76032) ├────■─────┤ Rx(-0.30914) ├»\n",
       "     ┌─────────────┐┌──┴───┴──┐└──────────────┘  ┌─┴─┐   ├──────────────┤»\n",
       "q_2: ┤ Ry(0.55153) ├┤ Rz(π/2) ├──────────────────┤ X ├───┤ Rz(-0.61548) ├»\n",
       "     └─────────────┘└─────────┘                  └───┘   └──────────────┘»\n",
       "«                                                                    »\n",
       "«q_0: ───────────────────────────────────────────────────────────────»\n",
       "«      ┌────────┐                      ┌─────────┐  ┌───────────────┐»\n",
       "«q_1: ─┤ Rz(-π) ├──────────────────■───┤ Rz(π/2) ├──┤ Ry(0.0020268) ├»\n",
       "«     ┌┴────────┤┌──────────────┐┌─┴─┐┌┴─────────┴─┐└──┬──────────┬─┘»\n",
       "«q_2: ┤ Ry(π/3) ├┤ Rz(-0.61548) ├┤ X ├┤ Rz(2.5261) ├───┤ Ry(2π/3) ├──»\n",
       "«     └─────────┘└──────────────┘└───┘└────────────┘   └──────────┘  »\n",
       "«                                                   \n",
       "«q_0: ──────────────────────────────────────────────\n",
       "«                         ┌─────────┐┌─────────────┐\n",
       "«q_1: ─────────────────■──┤ Rz(π/2) ├┤ Ry(0.77913) ├\n",
       "«     ┌─────────────┐┌─┴─┐├─────────┤├─────────────┤\n",
       "«q_2: ┤ Rz(-2.5261) ├┤ X ├┤ Rz(π/2) ├┤ Ry(0.53453) ├\n",
       "«     └─────────────┘└───┘└─────────┘└─────────────┘</pre>"
      ],
      "text/plain": [
       "global phase: 2π\n",
       "     ┌─────────────┐           ┌─────────────┐ ┌────────┐                »\n",
       "q_0: ┤ Ry(0.38787) ├─────■─────┤ Ry(-1.1506) ├─┤ Rz(-π) ├────────────────»\n",
       "     └─────────────┘   ┌─┴─┐   ├─────────────┴┐└────────┘┌──────────────┐»\n",
       "q_1: ──────────────────┤ X ├───┤ Ry(-0.76032) ├────■─────┤ Rx(-0.30914) ├»\n",
       "     ┌─────────────┐┌──┴───┴──┐└──────────────┘  ┌─┴─┐   ├──────────────┤»\n",
       "q_2: ┤ Ry(0.55153) ├┤ Rz(π/2) ├──────────────────┤ X ├───┤ Rz(-0.61548) ├»\n",
       "     └─────────────┘└─────────┘                  └───┘   └──────────────┘»\n",
       "«                                                                    »\n",
       "«q_0: ───────────────────────────────────────────────────────────────»\n",
       "«      ┌────────┐                      ┌─────────┐  ┌───────────────┐»\n",
       "«q_1: ─┤ Rz(-π) ├──────────────────■───┤ Rz(π/2) ├──┤ Ry(0.0020268) ├»\n",
       "«     ┌┴────────┤┌──────────────┐┌─┴─┐┌┴─────────┴─┐└──┬──────────┬─┘»\n",
       "«q_2: ┤ Ry(π/3) ├┤ Rz(-0.61548) ├┤ X ├┤ Rz(2.5261) ├───┤ Ry(2π/3) ├──»\n",
       "«     └─────────┘└──────────────┘└───┘└────────────┘   └──────────┘  »\n",
       "«                                                   \n",
       "«q_0: ──────────────────────────────────────────────\n",
       "«                         ┌─────────┐┌─────────────┐\n",
       "«q_1: ─────────────────■──┤ Rz(π/2) ├┤ Ry(0.77913) ├\n",
       "«     ┌─────────────┐┌─┴─┐├─────────┤├─────────────┤\n",
       "«q_2: ┤ Rz(-2.5261) ├┤ X ├┤ Rz(π/2) ├┤ Ry(0.53453) ├\n",
       "«     └─────────────┘└───┘└─────────┘└─────────────┘"
      ]
     },
     "execution_count": 6,
     "metadata": {},
     "output_type": "execute_result"
    }
   ],
   "source": [
    "qc = transpile(sp_org.definition, basis_gates=[\"id\", \"rx\", \"ry\", \"rz\", \"cx\"])\n",
    "num_q1 = qc.num_qubits\n",
    "print('state prepared by Q-alchemy',Statevector(qc).data.real)\n",
    "print('Target state',b)\n",
    "qc.draw()"
   ]
  },
  {
   "attachments": {},
   "cell_type": "markdown",
   "metadata": {},
   "source": [
    "### Use IBM's module to construct circuit that performs HHL algorithm\n",
    "\n",
    "Then, we pass the state preparation circuit created by Q-alchemy to IBM's HHL module, so we can perform the rest of HHL algorithm based on the solution state created by Q-alchemy."
   ]
  },
  {
   "cell_type": "code",
   "execution_count": null,
   "metadata": {},
   "outputs": [
    {
     "data": {
      "text/html": [
       "<pre style=\"word-wrap: normal;white-space: pre;background: #fff0;line-height: 1.1;font-family: &quot;Courier New&quot;,Courier,monospace\">       ┌──────────────┐┌───────┐        ┌──────────┐\n",
       "q12_0: ┤0             ├┤9      ├────────┤9         ├\n",
       "       │              ││       │        │          │\n",
       "q12_1: ┤1 circuit-127 ├┤10     ├────────┤10        ├\n",
       "       │              ││       │        │          │\n",
       "q12_2: ┤2             ├┤11     ├────────┤11        ├\n",
       "       └──────────────┘│       │┌──────┐│          │\n",
       "q13_0: ────────────────┤0      ├┤8     ├┤0         ├\n",
       "                       │       ││      ││          │\n",
       "q13_1: ────────────────┤1      ├┤7     ├┤1         ├\n",
       "                       │       ││      ││          │\n",
       "q13_2: ────────────────┤2      ├┤6     ├┤2         ├\n",
       "                       │   QPE ││      ││   QPE_dg │\n",
       "q13_3: ────────────────┤3      ├┤5     ├┤3         ├\n",
       "                       │       ││      ││          │\n",
       "q13_4: ────────────────┤4      ├┤4     ├┤4         ├\n",
       "                       │       ││  1/x ││          │\n",
       "q13_5: ────────────────┤5      ├┤3     ├┤5         ├\n",
       "                       │       ││      ││          │\n",
       "q13_6: ────────────────┤6      ├┤2     ├┤6         ├\n",
       "                       │       ││      ││          │\n",
       "q13_7: ────────────────┤7      ├┤1     ├┤7         ├\n",
       "                       │       ││      ││          │\n",
       "q13_8: ────────────────┤8      ├┤0     ├┤8         ├\n",
       "                       └───────┘│      │└──────────┘\n",
       "  q14: ─────────────────────────┤9     ├────────────\n",
       "                                └──────┘            </pre>"
      ],
      "text/plain": [
       "       ┌──────────────┐┌───────┐        ┌──────────┐\n",
       "q12_0: ┤0             ├┤9      ├────────┤9         ├\n",
       "       │              ││       │        │          │\n",
       "q12_1: ┤1 circuit-127 ├┤10     ├────────┤10        ├\n",
       "       │              ││       │        │          │\n",
       "q12_2: ┤2             ├┤11     ├────────┤11        ├\n",
       "       └──────────────┘│       │┌──────┐│          │\n",
       "q13_0: ────────────────┤0      ├┤8     ├┤0         ├\n",
       "                       │       ││      ││          │\n",
       "q13_1: ────────────────┤1      ├┤7     ├┤1         ├\n",
       "                       │       ││      ││          │\n",
       "q13_2: ────────────────┤2      ├┤6     ├┤2         ├\n",
       "                       │   QPE ││      ││   QPE_dg │\n",
       "q13_3: ────────────────┤3      ├┤5     ├┤3         ├\n",
       "                       │       ││      ││          │\n",
       "q13_4: ────────────────┤4      ├┤4     ├┤4         ├\n",
       "                       │       ││  1/x ││          │\n",
       "q13_5: ────────────────┤5      ├┤3     ├┤5         ├\n",
       "                       │       ││      ││          │\n",
       "q13_6: ────────────────┤6      ├┤2     ├┤6         ├\n",
       "                       │       ││      ││          │\n",
       "q13_7: ────────────────┤7      ├┤1     ├┤7         ├\n",
       "                       │       ││      ││          │\n",
       "q13_8: ────────────────┤8      ├┤0     ├┤8         ├\n",
       "                       └───────┘│      │└──────────┘\n",
       "  q14: ─────────────────────────┤9     ├────────────\n",
       "                                └──────┘            "
      ]
     },
     "execution_count": 7,
     "metadata": {},
     "output_type": "execute_result"
    }
   ],
   "source": [
    "qal_hhl = HHL().solve(A, qc)\n",
    "\n",
    "num_q = qal_hhl.state.num_qubits\n",
    "qal_hhl.state.draw()"
   ]
  },
  {
   "attachments": {},
   "cell_type": "markdown",
   "metadata": {},
   "source": [
    "### Comparison of Q-alchemy's solution with IBM's default state preparation method, and classical solution\n",
    "\n",
    "In this section, we are going to compare the $\\vec{x}$ obtained based on Q-alchemy's state, and that obtained based on IBM's default state preparation method and the classical solution."
   ]
  },
  {
   "cell_type": "code",
   "execution_count": null,
   "metadata": {},
   "outputs": [
    {
     "name": "stdout",
     "output_type": "stream",
     "text": [
      "solution with Q-alchemy: [-1.03523645e+00  7.96568707e-01 -4.88290296e-02  1.08494218e-01\n",
      "  7.75745370e-02 -6.56233835e-04  6.01811561e-02 -3.46821168e-02]\n",
      "solution with IBM: [-1.03523645e+00  7.96568707e-01 -4.88290296e-02  1.08494218e-01\n",
      "  7.75745370e-02 -6.56233835e-04  6.01811561e-02 -3.46821168e-02]\n",
      "classical solution: [-1.03511861e+00  7.96696195e-01 -4.89155357e-02  1.08647266e-01\n",
      "  7.71245412e-02 -5.05656973e-04  5.97909899e-02 -3.43750852e-02]\n"
     ]
    }
   ],
   "source": [
    "classical_solution = NumPyLinearSolver().solve(A, b)\n",
    "hhl_default = HHL().solve(A, b) #using IBM's default state preparation method\n",
    "\n",
    "x0 = 2**(num_q-1)\n",
    "\n",
    "qal_sol = get_solution_vector(qal_hhl, x0)\n",
    "default_sol = get_solution_vector(hhl_default, x0)\n",
    "classic_sol = classical_solution.state\n",
    "\n",
    "print('solution with Q-alchemy:', qal_sol)\n",
    "print('solution with IBM:', default_sol)\n",
    "print('classical solution:', classic_sol)\n",
    "\n"
   ]
  },
  {
   "cell_type": "code",
   "execution_count": null,
   "metadata": {},
   "outputs": [
    {
     "name": "stdout",
     "output_type": "stream",
     "text": [
      "Q-alchemy euclidean norm: 1.3157637838533367\n",
      "IBM euclidean norm: 1.3157637838533354\n",
      "Classical euclidean norm: 1.3157117421522682\n"
     ]
    }
   ],
   "source": [
    "print('Q-alchemy euclidean norm:', qal_hhl.euclidean_norm)\n",
    "print('IBM euclidean norm:', hhl_default.euclidean_norm)\n",
    "print('Classical euclidean norm:', classical_solution.euclidean_norm)\n"
   ]
  },
  {
   "attachments": {},
   "cell_type": "markdown",
   "metadata": {},
   "source": [
    "### Compare the state prepared by Q alchemy and IBM"
   ]
  },
  {
   "cell_type": "code",
   "execution_count": null,
   "metadata": {},
   "outputs": [
    {
     "data": {
      "text/html": [
       "<pre style=\"word-wrap: normal;white-space: pre;background: #fff0;line-height: 1.1;font-family: &quot;Courier New&quot;,Courier,monospace\">          ┌─────────────────┐┌───────┐        \n",
       "q13328_0: ┤0                ├┤9      ├────────\n",
       "          │                 ││       │        \n",
       "q13328_1: ┤1 circuit-133082 ├┤10     ├────────\n",
       "          │                 ││       │        \n",
       "q13328_2: ┤2                ├┤11     ├────────\n",
       "          └─────────────────┘│       │┌──────┐\n",
       "q13329_0: ───────────────────┤0      ├┤8     ├\n",
       "                             │       ││      │\n",
       "q13329_1: ───────────────────┤1      ├┤7     ├\n",
       "                             │       ││      │\n",
       "q13329_2: ───────────────────┤2      ├┤6     ├\n",
       "                             │   QPE ││      │\n",
       "q13329_3: ───────────────────┤3      ├┤5     ├\n",
       "                             │       ││      │\n",
       "q13329_4: ───────────────────┤4      ├┤4     ├\n",
       "                             │       ││  1/x │\n",
       "q13329_5: ───────────────────┤5      ├┤3     ├\n",
       "                             │       ││      │\n",
       "q13329_6: ───────────────────┤6      ├┤2     ├\n",
       "                             │       ││      │\n",
       "q13329_7: ───────────────────┤7      ├┤1     ├\n",
       "                             │       ││      │\n",
       "q13329_8: ───────────────────┤8      ├┤0     ├\n",
       "                             └───────┘│      │\n",
       "  q13330: ────────────────────────────┤9     ├\n",
       "                                      └──────┘</pre>"
      ],
      "text/plain": [
       "          ┌─────────────────┐┌───────┐        \n",
       "q13328_0: ┤0                ├┤9      ├────────\n",
       "          │                 ││       │        \n",
       "q13328_1: ┤1 circuit-133082 ├┤10     ├────────\n",
       "          │                 ││       │        \n",
       "q13328_2: ┤2                ├┤11     ├────────\n",
       "          └─────────────────┘│       │┌──────┐\n",
       "q13329_0: ───────────────────┤0      ├┤8     ├\n",
       "                             │       ││      │\n",
       "q13329_1: ───────────────────┤1      ├┤7     ├\n",
       "                             │       ││      │\n",
       "q13329_2: ───────────────────┤2      ├┤6     ├\n",
       "                             │   QPE ││      │\n",
       "q13329_3: ───────────────────┤3      ├┤5     ├\n",
       "                             │       ││      │\n",
       "q13329_4: ───────────────────┤4      ├┤4     ├\n",
       "                             │       ││  1/x │\n",
       "q13329_5: ───────────────────┤5      ├┤3     ├\n",
       "                             │       ││      │\n",
       "q13329_6: ───────────────────┤6      ├┤2     ├\n",
       "                             │       ││      │\n",
       "q13329_7: ───────────────────┤7      ├┤1     ├\n",
       "                             │       ││      │\n",
       "q13329_8: ───────────────────┤8      ├┤0     ├\n",
       "                             └───────┘│      │\n",
       "  q13330: ────────────────────────────┤9     ├\n",
       "                                      └──────┘"
      ]
     },
     "execution_count": 12,
     "metadata": {},
     "output_type": "execute_result"
    }
   ],
   "source": [
    "hhl_default.state.data.pop(-1)\n",
    "state_IBM = Statevector(hhl_default.state).data.real\n",
    "hhl_default.state.draw()\n",
    "\n"
   ]
  },
  {
   "cell_type": "code",
   "execution_count": null,
   "metadata": {},
   "outputs": [
    {
     "data": {
      "text/html": [
       "<pre style=\"word-wrap: normal;white-space: pre;background: #fff0;line-height: 1.1;font-family: &quot;Courier New&quot;,Courier,monospace\">          ┌─────────────────┐┌───────┐\n",
       "q13328_0: ┤0                ├┤9      ├\n",
       "          │                 ││       │\n",
       "q13328_1: ┤1 circuit-133082 ├┤10     ├\n",
       "          │                 ││       │\n",
       "q13328_2: ┤2                ├┤11     ├\n",
       "          └─────────────────┘│       │\n",
       "q13329_0: ───────────────────┤0      ├\n",
       "                             │       │\n",
       "q13329_1: ───────────────────┤1      ├\n",
       "                             │       │\n",
       "q13329_2: ───────────────────┤2      ├\n",
       "                             │   QPE │\n",
       "q13329_3: ───────────────────┤3      ├\n",
       "                             │       │\n",
       "q13329_4: ───────────────────┤4      ├\n",
       "                             │       │\n",
       "q13329_5: ───────────────────┤5      ├\n",
       "                             │       │\n",
       "q13329_6: ───────────────────┤6      ├\n",
       "                             │       │\n",
       "q13329_7: ───────────────────┤7      ├\n",
       "                             │       │\n",
       "q13329_8: ───────────────────┤8      ├\n",
       "                             └───────┘\n",
       "  q13330: ────────────────────────────\n",
       "                                      </pre>"
      ],
      "text/plain": [
       "          ┌─────────────────┐┌───────┐\n",
       "q13328_0: ┤0                ├┤9      ├\n",
       "          │                 ││       │\n",
       "q13328_1: ┤1 circuit-133082 ├┤10     ├\n",
       "          │                 ││       │\n",
       "q13328_2: ┤2                ├┤11     ├\n",
       "          └─────────────────┘│       │\n",
       "q13329_0: ───────────────────┤0      ├\n",
       "                             │       │\n",
       "q13329_1: ───────────────────┤1      ├\n",
       "                             │       │\n",
       "q13329_2: ───────────────────┤2      ├\n",
       "                             │   QPE │\n",
       "q13329_3: ───────────────────┤3      ├\n",
       "                             │       │\n",
       "q13329_4: ───────────────────┤4      ├\n",
       "                             │       │\n",
       "q13329_5: ───────────────────┤5      ├\n",
       "                             │       │\n",
       "q13329_6: ───────────────────┤6      ├\n",
       "                             │       │\n",
       "q13329_7: ───────────────────┤7      ├\n",
       "                             │       │\n",
       "q13329_8: ───────────────────┤8      ├\n",
       "                             └───────┘\n",
       "  q13330: ────────────────────────────\n",
       "                                      "
      ]
     },
     "execution_count": 13,
     "metadata": {},
     "output_type": "execute_result"
    }
   ],
   "source": [
    "hhl_default.state.data.pop(-1)\n",
    "state_IBM = Statevector(hhl_default.state).data.real\n",
    "hhl_default.state.draw()\n"
   ]
  },
  {
   "cell_type": "code",
   "execution_count": null,
   "metadata": {},
   "outputs": [
    {
     "data": {
      "text/html": [
       "<pre style=\"word-wrap: normal;white-space: pre;background: #fff0;line-height: 1.1;font-family: &quot;Courier New&quot;,Courier,monospace\">          ┌─────────────────┐\n",
       "q13328_0: ┤0                ├\n",
       "          │                 │\n",
       "q13328_1: ┤1 circuit-133082 ├\n",
       "          │                 │\n",
       "q13328_2: ┤2                ├\n",
       "          └─────────────────┘\n",
       "q13329_0: ───────────────────\n",
       "                             \n",
       "q13329_1: ───────────────────\n",
       "                             \n",
       "q13329_2: ───────────────────\n",
       "                             \n",
       "q13329_3: ───────────────────\n",
       "                             \n",
       "q13329_4: ───────────────────\n",
       "                             \n",
       "q13329_5: ───────────────────\n",
       "                             \n",
       "q13329_6: ───────────────────\n",
       "                             \n",
       "q13329_7: ───────────────────\n",
       "                             \n",
       "q13329_8: ───────────────────\n",
       "                             \n",
       "  q13330: ───────────────────\n",
       "                             </pre>"
      ],
      "text/plain": [
       "          ┌─────────────────┐\n",
       "q13328_0: ┤0                ├\n",
       "          │                 │\n",
       "q13328_1: ┤1 circuit-133082 ├\n",
       "          │                 │\n",
       "q13328_2: ┤2                ├\n",
       "          └─────────────────┘\n",
       "q13329_0: ───────────────────\n",
       "                             \n",
       "q13329_1: ───────────────────\n",
       "                             \n",
       "q13329_2: ───────────────────\n",
       "                             \n",
       "q13329_3: ───────────────────\n",
       "                             \n",
       "q13329_4: ───────────────────\n",
       "                             \n",
       "q13329_5: ───────────────────\n",
       "                             \n",
       "q13329_6: ───────────────────\n",
       "                             \n",
       "q13329_7: ───────────────────\n",
       "                             \n",
       "q13329_8: ───────────────────\n",
       "                             \n",
       "  q13330: ───────────────────\n",
       "                             "
      ]
     },
     "execution_count": 14,
     "metadata": {},
     "output_type": "execute_result"
    }
   ],
   "source": [
    "hhl_default.state.data.pop(-1)\n",
    "state_IBM = Statevector(hhl_default.state).data.real\n",
    "hhl_default.state.draw()"
   ]
  },
  {
   "cell_type": "code",
   "execution_count": null,
   "metadata": {},
   "outputs": [
    {
     "data": {
      "text/html": [
       "<pre style=\"word-wrap: normal;white-space: pre;background: #fff0;line-height: 1.1;font-family: &quot;Courier New&quot;,Courier,monospace\">       ┌──────────────┐┌───────┐\n",
       "q12_0: ┤0             ├┤9      ├\n",
       "       │              ││       │\n",
       "q12_1: ┤1 circuit-127 ├┤10     ├\n",
       "       │              ││       │\n",
       "q12_2: ┤2             ├┤11     ├\n",
       "       └──────────────┘│       │\n",
       "q13_0: ────────────────┤0      ├\n",
       "                       │       │\n",
       "q13_1: ────────────────┤1      ├\n",
       "                       │       │\n",
       "q13_2: ────────────────┤2      ├\n",
       "                       │   QPE │\n",
       "q13_3: ────────────────┤3      ├\n",
       "                       │       │\n",
       "q13_4: ────────────────┤4      ├\n",
       "                       │       │\n",
       "q13_5: ────────────────┤5      ├\n",
       "                       │       │\n",
       "q13_6: ────────────────┤6      ├\n",
       "                       │       │\n",
       "q13_7: ────────────────┤7      ├\n",
       "                       │       │\n",
       "q13_8: ────────────────┤8      ├\n",
       "                       └───────┘\n",
       "  q14: ─────────────────────────\n",
       "                                </pre>"
      ],
      "text/plain": [
       "       ┌──────────────┐┌───────┐\n",
       "q12_0: ┤0             ├┤9      ├\n",
       "       │              ││       │\n",
       "q12_1: ┤1 circuit-127 ├┤10     ├\n",
       "       │              ││       │\n",
       "q12_2: ┤2             ├┤11     ├\n",
       "       └──────────────┘│       │\n",
       "q13_0: ────────────────┤0      ├\n",
       "                       │       │\n",
       "q13_1: ────────────────┤1      ├\n",
       "                       │       │\n",
       "q13_2: ────────────────┤2      ├\n",
       "                       │   QPE │\n",
       "q13_3: ────────────────┤3      ├\n",
       "                       │       │\n",
       "q13_4: ────────────────┤4      ├\n",
       "                       │       │\n",
       "q13_5: ────────────────┤5      ├\n",
       "                       │       │\n",
       "q13_6: ────────────────┤6      ├\n",
       "                       │       │\n",
       "q13_7: ────────────────┤7      ├\n",
       "                       │       │\n",
       "q13_8: ────────────────┤8      ├\n",
       "                       └───────┘\n",
       "  q14: ─────────────────────────\n",
       "                                "
      ]
     },
     "execution_count": 15,
     "metadata": {},
     "output_type": "execute_result"
    }
   ],
   "source": [
    "qal_hhl.state.data.pop(-1)\n",
    "qal_hhl.state.data.pop(-1)\n",
    "qal_hhl.state.draw()\n",
    "\n"
   ]
  },
  {
   "cell_type": "code",
   "execution_count": null,
   "metadata": {},
   "outputs": [
    {
     "data": {
      "text/html": [
       "<pre style=\"word-wrap: normal;white-space: pre;background: #fff0;line-height: 1.1;font-family: &quot;Courier New&quot;,Courier,monospace\">       ┌──────────────┐\n",
       "q12_0: ┤0             ├\n",
       "       │              │\n",
       "q12_1: ┤1 circuit-127 ├\n",
       "       │              │\n",
       "q12_2: ┤2             ├\n",
       "       └──────────────┘\n",
       "q13_0: ────────────────\n",
       "                       \n",
       "q13_1: ────────────────\n",
       "                       \n",
       "q13_2: ────────────────\n",
       "                       \n",
       "q13_3: ────────────────\n",
       "                       \n",
       "q13_4: ────────────────\n",
       "                       \n",
       "q13_5: ────────────────\n",
       "                       \n",
       "q13_6: ────────────────\n",
       "                       \n",
       "q13_7: ────────────────\n",
       "                       \n",
       "q13_8: ────────────────\n",
       "                       \n",
       "  q14: ────────────────\n",
       "                       </pre>"
      ],
      "text/plain": [
       "       ┌──────────────┐\n",
       "q12_0: ┤0             ├\n",
       "       │              │\n",
       "q12_1: ┤1 circuit-127 ├\n",
       "       │              │\n",
       "q12_2: ┤2             ├\n",
       "       └──────────────┘\n",
       "q13_0: ────────────────\n",
       "                       \n",
       "q13_1: ────────────────\n",
       "                       \n",
       "q13_2: ────────────────\n",
       "                       \n",
       "q13_3: ────────────────\n",
       "                       \n",
       "q13_4: ────────────────\n",
       "                       \n",
       "q13_5: ────────────────\n",
       "                       \n",
       "q13_6: ────────────────\n",
       "                       \n",
       "q13_7: ────────────────\n",
       "                       \n",
       "q13_8: ────────────────\n",
       "                       \n",
       "  q14: ────────────────\n",
       "                       "
      ]
     },
     "execution_count": 16,
     "metadata": {},
     "output_type": "execute_result"
    }
   ],
   "source": [
    "qal_hhl.state.data.pop(-1)\n",
    "qal_hhl.state.draw()\n"
   ]
  },
  {
   "cell_type": "code",
   "execution_count": null,
   "metadata": {},
   "outputs": [],
   "source": [
    "state_qal = Statevector(qal_hhl.state).data.real\n"
   ]
  },
  {
   "cell_type": "code",
   "execution_count": null,
   "metadata": {},
   "outputs": [
    {
     "name": "stdout",
     "output_type": "stream",
     "text": [
      "state prepared by q_alchemy [0.41152717 0.12418922 0.42900313 0.40730592 0.53582653 0.26869457\n",
      " 0.21978396 0.2401433 ]\n",
      "state prepared by IBMs default method [0.41152717 0.12418922 0.42900313 0.40730592 0.53582653 0.26869457\n",
      " 0.21978396 0.2401433 ]\n",
      "Target state [0.41152717 0.12418922 0.42900313 0.40730592 0.53582653 0.26869457\n",
      " 0.21978396 0.2401433 ]\n"
     ]
    }
   ],
   "source": [
    "print('state prepared by q_alchemy',state_qal[0:8])\n",
    "print('state prepared by IBMs default method' ,state_IBM[0:8])\n",
    "print('Target state',b)"
   ]
  },
  {
   "attachments": {},
   "cell_type": "markdown",
   "metadata": {},
   "source": [
    "### Another example with 16 by 16 matrix"
   ]
  },
  {
   "cell_type": "code",
   "execution_count": null,
   "metadata": {},
   "outputs": [
    {
     "name": "stdout",
     "output_type": "stream",
     "text": [
      "[0.07494194 0.04432369 0.27605236 0.33441072 0.38757454 0.19680435\n",
      " 0.37378678 0.34879549 0.30437233 0.16353596 0.04761764 0.28538279\n",
      " 0.17547278 0.00498788 0.11299092 0.3276935 ]\n"
     ]
    }
   ],
   "source": [
    "from scipy.sparse import csr_matrix\n",
    "\n",
    "matrix_size = 16\n",
    "data = np.random.random(matrix_size)\n",
    "diag = np.diag(data)\n",
    "upper_triangle = np.triu(np.random.random((matrix_size, matrix_size)))\n",
    "upper_triangle = upper_triangle + upper_triangle.conj().T \n",
    "np.fill_diagonal(upper_triangle, 0) \n",
    "\n",
    "full_matrix = diag + upper_triangle\n",
    "\n",
    "sparse_matrix = csr_matrix(full_matrix)\n",
    "\n",
    "A = (sparse_matrix.toarray())\n",
    "#b = [1, 0, 0, 0, 0, 0, 0, 0]\n",
    "b = np.random.rand(matrix_size)\n",
    "b = b/np.linalg.norm(b) #normalize solution\n"
   ]
  },
  {
   "cell_type": "code",
   "execution_count": null,
   "metadata": {},
   "outputs": [
    {
     "data": {
      "text/html": [
       "<pre style=\"word-wrap: normal;white-space: pre;background: #fff0;line-height: 1.1;font-family: &quot;Courier New&quot;,Courier,monospace\">     ┌───────────────────────────────────────────────────────────────────────────────────────────────────────────────────────────────────────────┐\n",
       "q_0: ┤0                                                                                                                                          ├\n",
       "     │                                                                                                                                           │\n",
       "q_1: ┤1                                                                                                                                          ├\n",
       "     │  LRSP(0.074942,0.044324,0.27605,0.33441,0.38757,0.1968,0.37379,0.3488,0.30437,0.16354,0.047618,0.28538,0.17547,0.0049879,0.11299,0.32769) │\n",
       "q_2: ┤2                                                                                                                                          ├\n",
       "     │                                                                                                                                           │\n",
       "q_3: ┤3                                                                                                                                          ├\n",
       "     └───────────────────────────────────────────────────────────────────────────────────────────────────────────────────────────────────────────┘</pre>"
      ],
      "text/plain": [
       "     ┌───────────────────────────────────────────────────────────────────────────────────────────────────────────────────────────────────────────┐\n",
       "q_0: ┤0                                                                                                                                          ├\n",
       "     │                                                                                                                                           │\n",
       "q_1: ┤1                                                                                                                                          ├\n",
       "     │  LRSP(0.074942,0.044324,0.27605,0.33441,0.38757,0.1968,0.37379,0.3488,0.30437,0.16354,0.047618,0.28538,0.17547,0.0049879,0.11299,0.32769) │\n",
       "q_2: ┤2                                                                                                                                          ├\n",
       "     │                                                                                                                                           │\n",
       "q_3: ┤3                                                                                                                                          ├\n",
       "     └───────────────────────────────────────────────────────────────────────────────────────────────────────────────────────────────────────────┘"
      ]
     },
     "execution_count": 24,
     "metadata": {},
     "output_type": "execute_result"
    }
   ],
   "source": [
    "sp_org = QAlchemyInitialize(b, opt_params={'max_fidelity_loss':0.0})\n",
    "sp_org.definition.draw(fold=-1)"
   ]
  },
  {
   "cell_type": "code",
   "execution_count": null,
   "metadata": {},
   "outputs": [
    {
     "name": "stdout",
     "output_type": "stream",
     "text": [
      "state prepared by Q-alchemy [0.07494194 0.04432369 0.27605236 0.33441072 0.38757454 0.19680435\n",
      " 0.37378678 0.34879549 0.30437233 0.16353596 0.04761764 0.28538279\n",
      " 0.17547278 0.00498788 0.11299092 0.3276935 ]\n",
      "Target state [0.07494194 0.04432369 0.27605236 0.33441072 0.38757454 0.19680435\n",
      " 0.37378678 0.34879549 0.30437233 0.16353596 0.04761764 0.28538279\n",
      " 0.17547278 0.00498788 0.11299092 0.3276935 ]\n"
     ]
    },
    {
     "data": {
      "text/html": [
       "<pre style=\"word-wrap: normal;white-space: pre;background: #fff0;line-height: 1.1;font-family: &quot;Courier New&quot;,Courier,monospace\">global phase: 2π\n",
       "     ┌──────────────┐     ┌──────────────┐┌────────┐     ┌────────┐»\n",
       "q_0: ┤ Ry(0.014093) ├──■──┤ Ry(-0.51323) ├┤ Rz(-π) ├──■──┤ Rz(-π) ├»\n",
       "     └──────────────┘┌─┴─┐├──────────────┤├────────┤  │  └────────┘»\n",
       "q_1: ────────────────┤ X ├┤ Ry(-0.39453) ├┤ Rz(-π) ├──┼──────■─────»\n",
       "                     └───┘└──────────────┘└────────┘┌─┴─┐    │     »\n",
       "q_2: ───────────────────────────────────────────────┤ X ├────┼─────»\n",
       "                                                    └───┘  ┌─┴─┐   »\n",
       "q_3: ──────────────────────────────────────────────────────┤ X ├───»\n",
       "                                                           └───┘   »\n",
       "«     ┌─────────────┐                  ┌─────────────┐  ┌────────┐»\n",
       "«q_0: ┤ Ry(-1.2218) ├───────────────■──┤ Rx(-1.2133) ├──┤ Rz(-π) ├»\n",
       "«     ├─────────────┴┐┌─────────┐ ┌─┴─┐├─────────────┴┐┌┴────────┤»\n",
       "«q_1: ┤ Ry(-0.35951) ├┤ Rz(π/2) ├─┤ X ├┤ Rz(-0.61548) ├┤ Ry(π/3) ├»\n",
       "«     ├─────────────┬┘└─────────┘ └───┘├──────────────┤└┬────────┤»\n",
       "«q_2: ┤ Ry(-2.7236) ├───────────────■──┤ Rx(-0.50666) ├─┤ Rz(-π) ├»\n",
       "«     ├─────────────┤ ┌──────────┐┌─┴─┐├──────────────┤┌┴────────┤»\n",
       "«q_3: ┤ Ry(-2.5978) ├─┤ Rz(-π/2) ├┤ X ├┤ Rz(-0.61548) ├┤ Ry(π/3) ├»\n",
       "«     └─────────────┘ └──────────┘└───┘└──────────────┘└─────────┘»\n",
       "«                           ┌─────────┐  ┌──────────────┐                    »\n",
       "«q_0: ──────────────────■───┤ Rz(π/2) ├──┤ Ry(-0.63359) ├─────────────────■──»\n",
       "«     ┌──────────────┐┌─┴─┐┌┴─────────┴─┐└─┬──────────┬─┘┌─────────────┐┌─┴─┐»\n",
       "«q_1: ┤ Rz(-0.61548) ├┤ X ├┤ Rz(2.5261) ├──┤ Ry(2π/3) ├──┤ Rz(-2.5261) ├┤ X ├»\n",
       "«     └──────────────┘└───┘└┬─────────┬─┘┌─┴──────────┴─┐└─────────────┘└───┘»\n",
       "«q_2: ──────────────────■───┤ Rz(π/2) ├──┤ Ry(-0.21658) ├─────────────────■──»\n",
       "«     ┌──────────────┐┌─┴─┐┌┴─────────┴─┐└─┬──────────┬─┘┌─────────────┐┌─┴─┐»\n",
       "«q_3: ┤ Rz(-0.61548) ├┤ X ├┤ Rz(2.5261) ├──┤ Ry(2π/3) ├──┤ Rz(-2.5261) ├┤ X ├»\n",
       "«     └──────────────┘└───┘└────────────┘  └──────────┘  └─────────────┘└───┘»\n",
       "«     ┌─────────┐  ┌───────────┐  \n",
       "«q_0: ┤ Rz(π/2) ├──┤ Ry(2.542) ├──\n",
       "«     ├─────────┴┐┌┴───────────┴┐ \n",
       "«q_1: ┤ Rz(-π/2) ├┤ Ry(-1.5762) ├─\n",
       "«     ├─────────┬┘├─────────────┴┐\n",
       "«q_2: ┤ Rz(π/2) ├─┤ Ry(-0.88113) ├\n",
       "«     ├─────────┴┐├─────────────┬┘\n",
       "«q_3: ┤ Rz(-π/2) ├┤ Ry(-2.5826) ├─\n",
       "«     └──────────┘└─────────────┘ </pre>"
      ],
      "text/plain": [
       "global phase: 2π\n",
       "     ┌──────────────┐     ┌──────────────┐┌────────┐     ┌────────┐»\n",
       "q_0: ┤ Ry(0.014093) ├──■──┤ Ry(-0.51323) ├┤ Rz(-π) ├──■──┤ Rz(-π) ├»\n",
       "     └──────────────┘┌─┴─┐├──────────────┤├────────┤  │  └────────┘»\n",
       "q_1: ────────────────┤ X ├┤ Ry(-0.39453) ├┤ Rz(-π) ├──┼──────■─────»\n",
       "                     └───┘└──────────────┘└────────┘┌─┴─┐    │     »\n",
       "q_2: ───────────────────────────────────────────────┤ X ├────┼─────»\n",
       "                                                    └───┘  ┌─┴─┐   »\n",
       "q_3: ──────────────────────────────────────────────────────┤ X ├───»\n",
       "                                                           └───┘   »\n",
       "«     ┌─────────────┐                  ┌─────────────┐  ┌────────┐»\n",
       "«q_0: ┤ Ry(-1.2218) ├───────────────■──┤ Rx(-1.2133) ├──┤ Rz(-π) ├»\n",
       "«     ├─────────────┴┐┌─────────┐ ┌─┴─┐├─────────────┴┐┌┴────────┤»\n",
       "«q_1: ┤ Ry(-0.35951) ├┤ Rz(π/2) ├─┤ X ├┤ Rz(-0.61548) ├┤ Ry(π/3) ├»\n",
       "«     ├─────────────┬┘└─────────┘ └───┘├──────────────┤└┬────────┤»\n",
       "«q_2: ┤ Ry(-2.7236) ├───────────────■──┤ Rx(-0.50666) ├─┤ Rz(-π) ├»\n",
       "«     ├─────────────┤ ┌──────────┐┌─┴─┐├──────────────┤┌┴────────┤»\n",
       "«q_3: ┤ Ry(-2.5978) ├─┤ Rz(-π/2) ├┤ X ├┤ Rz(-0.61548) ├┤ Ry(π/3) ├»\n",
       "«     └─────────────┘ └──────────┘└───┘└──────────────┘└─────────┘»\n",
       "«                           ┌─────────┐  ┌──────────────┐                    »\n",
       "«q_0: ──────────────────■───┤ Rz(π/2) ├──┤ Ry(-0.63359) ├─────────────────■──»\n",
       "«     ┌──────────────┐┌─┴─┐┌┴─────────┴─┐└─┬──────────┬─┘┌─────────────┐┌─┴─┐»\n",
       "«q_1: ┤ Rz(-0.61548) ├┤ X ├┤ Rz(2.5261) ├──┤ Ry(2π/3) ├──┤ Rz(-2.5261) ├┤ X ├»\n",
       "«     └──────────────┘└───┘└┬─────────┬─┘┌─┴──────────┴─┐└─────────────┘└───┘»\n",
       "«q_2: ──────────────────■───┤ Rz(π/2) ├──┤ Ry(-0.21658) ├─────────────────■──»\n",
       "«     ┌──────────────┐┌─┴─┐┌┴─────────┴─┐└─┬──────────┬─┘┌─────────────┐┌─┴─┐»\n",
       "«q_3: ┤ Rz(-0.61548) ├┤ X ├┤ Rz(2.5261) ├──┤ Ry(2π/3) ├──┤ Rz(-2.5261) ├┤ X ├»\n",
       "«     └──────────────┘└───┘└────────────┘  └──────────┘  └─────────────┘└───┘»\n",
       "«     ┌─────────┐  ┌───────────┐  \n",
       "«q_0: ┤ Rz(π/2) ├──┤ Ry(2.542) ├──\n",
       "«     ├─────────┴┐┌┴───────────┴┐ \n",
       "«q_1: ┤ Rz(-π/2) ├┤ Ry(-1.5762) ├─\n",
       "«     ├─────────┬┘├─────────────┴┐\n",
       "«q_2: ┤ Rz(π/2) ├─┤ Ry(-0.88113) ├\n",
       "«     ├─────────┴┐├─────────────┬┘\n",
       "«q_3: ┤ Rz(-π/2) ├┤ Ry(-2.5826) ├─\n",
       "«     └──────────┘└─────────────┘ "
      ]
     },
     "execution_count": 25,
     "metadata": {},
     "output_type": "execute_result"
    }
   ],
   "source": [
    "qc = transpile(sp_org.definition, basis_gates=[\"id\", \"rx\", \"ry\", \"rz\", \"cx\"])\n",
    "num_q1 = qc.num_qubits\n",
    "print('state prepared by Q-alchemy',Statevector(qc).data.real)\n",
    "print('Target state',b)\n",
    "qc.draw()"
   ]
  },
  {
   "cell_type": "code",
   "execution_count": null,
   "metadata": {},
   "outputs": [
    {
     "name": "stdout",
     "output_type": "stream",
     "text": [
      "solution with Q-alchemy: [ 0.07890896 -0.35581328  0.15805638 -0.01262437  0.38384644 -0.13419981\n",
      "  0.1125386  -0.04161017]\n",
      "solution with IBM: [ 0.07890896 -0.35581328  0.15805638 -0.01262437  0.38384644 -0.13419981\n",
      "  0.1125386  -0.04161017]\n",
      "classical solution: [ 0.05208701 -0.25248631  0.11220285 -0.02333359  0.27625476 -0.09224288\n",
      "  0.08055873 -0.02913585  0.22660126 -0.06143259  0.01414967  0.01266434\n",
      " -0.10370165 -0.02508739 -0.13648845  0.31475414]\n"
     ]
    }
   ],
   "source": [
    "qal_hhl = HHL().solve(A, qc)\n",
    "classical_solution = NumPyLinearSolver().solve(A, b)\n",
    "hhl_default = HHL().solve(A, b) #using IBM's default state preparation method\n",
    "\n",
    "num_q = qal_hhl.state.num_qubits\n",
    "x0 = 2**(num_q-1)\n",
    "\n",
    "qal_sol = get_solution_vector(qal_hhl, x0)\n",
    "default_sol = get_solution_vector(hhl_default, x0)\n",
    "classic_sol = classical_solution.state\n",
    "\n",
    "print('solution with Q-alchemy:', qal_sol)\n",
    "print('solution with IBM:', default_sol)\n",
    "print('classical solution:', classic_sol)\n"
   ]
  },
  {
   "cell_type": "markdown",
   "metadata": {},
   "source": []
  }
 ],
 "metadata": {
  "kernelspec": {
   "display_name": "new",
   "language": "python",
   "name": "python3"
  },
  "language_info": {
   "codemirror_mode": {
    "name": "ipython",
    "version": 3
   },
   "file_extension": ".py",
   "mimetype": "text/x-python",
   "name": "python",
   "nbconvert_exporter": "python",
   "pygments_lexer": "ipython3",
   "version": "3.11.5 (main, Sep 11 2023, 08:31:25) [Clang 14.0.6 ]"
  },
  "orig_nbformat": 4,
  "vscode": {
   "interpreter": {
    "hash": "3056b2d51d95f7650196fe29ff19197ab44cf10a0e2dfd0a187d0f21e30a9402"
   }
  }
 },
 "nbformat": 4,
 "nbformat_minor": 2
}

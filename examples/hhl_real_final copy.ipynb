{
 "cells": [
  {
   "cell_type": "code",
   "execution_count": 46,
   "metadata": {},
   "outputs": [],
   "source": [
    "from qiskit import transpile\n",
    "import numpy as np\n",
    "from qiskit import QuantumCircuit, QuantumRegister\n",
    "from scipy.sparse import diags\n",
    "\n",
    "from linear_solvers import NumPyLinearSolver, HHL\n",
    "from qiskit.circuit.library.arithmetic.exact_reciprocal import ExactReciprocal\n",
    "from qiskit.quantum_info import Statevector\n",
    "import sys\n",
    "import os\n",
    "os.environ[\"Q_ALCHEMY_API_KEY\"] = \"JnvkpMCsyr4nB9nHcwa6CbxqhtZXyF1b\"\n",
    "sys.path.append('..')\n",
    "from q_alchemy.qiskit import QAlchemyInitialize\n",
    "from qiskit.opflow import (\n",
    "    Z,\n",
    "    I,\n",
    "    StateFn,\n",
    "    TensoredOp,\n",
    "    ExpectationBase,\n",
    "    CircuitSampler,\n",
    "    ListOp,\n",
    "    ExpectationFactory,\n",
    "    ComposedOp,\n",
    ")\n"
   ]
  },
  {
   "cell_type": "code",
   "execution_count": 47,
   "metadata": {},
   "outputs": [],
   "source": [
    "def calculate_norm(qc: QuantumCircuit, nb: int, nl: int, na:int) -> float:\n",
    "        \"\"\"Calculates the value of the euclidean norm of the solution.\n",
    "\n",
    "        Args:\n",
    "            qc: The quantum circuit preparing the solution x to the system.\n",
    "\n",
    "        Returns:\n",
    "            The value of the euclidean norm of the solution.\n",
    "        \"\"\"\n",
    "\n",
    "        # Create the Operators Zero and One\n",
    "        zero_op = (I + Z) / 2\n",
    "        one_op = (I - Z) / 2\n",
    "\n",
    "        # Norm observable\n",
    "        observable = one_op ^ TensoredOp((nl + na) * [zero_op]) ^ (I ^ nb)\n",
    "        norm_2 = (~StateFn(observable) @ StateFn(qc)).eval()\n",
    "        \n",
    "\n",
    "        return np.real(np.sqrt(norm_2))"
   ]
  },
  {
   "cell_type": "code",
   "execution_count": 48,
   "metadata": {},
   "outputs": [],
   "source": [
    "def get_solution_vector(solution, n):\n",
    "    solution_vector = Statevector(solution.state).data[n:n+8].real\n",
    "    norm = solution.euclidean_norm\n",
    "    return norm * solution_vector / np.linalg.norm(solution_vector)"
   ]
  },
  {
   "attachments": {},
   "cell_type": "markdown",
   "metadata": {},
   "source": [
    "Define Matrices and solutions"
   ]
  },
  {
   "cell_type": "code",
   "execution_count": 49,
   "metadata": {},
   "outputs": [],
   "source": [
    "A = np.array([[1.0, 2.0, 3.0, 0.0, 0.0, 0.0, 0.0, 0.0],\n",
    "              [2.0, 3.0, 4.0, 0.0, 0.0, 0.0, 0.0, 0.0],\n",
    "              [3.0, 4.0, 4.0, 5.0, 0.0, 0.0, 0.0, 0.0],\n",
    "              [0.0, 0.0, 5.0, 6.0, 0.0, 0.0, 0.0, 0.0],\n",
    "              [0.0, 0.0, 0.0, 0.0, 7.0, 8.0, 0.0, 0.0],\n",
    "              [0.0, 0.0, 0.0, 0.0, 8.0, 9.0, 0.0, 10.0],\n",
    "              [0.0, 0.0, 0.0, 0.0, 0.0, 0.0, 10.0, 11.0],\n",
    "              [0.0, 0.0, 0.0, 0.0, 0.0, 10.0, 11.0, 12.0]])\n",
    "\n",
    "# Ensure Hermitian property (conjugate transpose)\n",
    "A = (A + A.T) / 2.0\n",
    "#b = [1, 0, 0, 0, 0, 0, 0, 0]\n",
    "b = np.random.rand(8)\n",
    "b = b/np.linalg.norm(b) #normalize solution"
   ]
  },
  {
   "attachments": {},
   "cell_type": "markdown",
   "metadata": {},
   "source": [
    "Initialize the solution state using Q Alchemy"
   ]
  },
  {
   "cell_type": "code",
   "execution_count": 50,
   "metadata": {},
   "outputs": [
    {
     "data": {
      "text/html": [
       "<pre style=\"word-wrap: normal;white-space: pre;background: #fff0;line-height: 1.1;font-family: &quot;Courier New&quot;,Courier,monospace\">     ┌──────────────────────────────────────────────────────────────────────────┐\n",
       "q_0: ┤0                                                                         ├\n",
       "     │                                                                          │\n",
       "q_1: ┤1 LRSP(0.13465,0.061692,0.21235,0.66501,0.35048,0.033982,0.21654,0.56555) ├\n",
       "     │                                                                          │\n",
       "q_2: ┤2                                                                         ├\n",
       "     └──────────────────────────────────────────────────────────────────────────┘</pre>"
      ],
      "text/plain": [
       "     ┌──────────────────────────────────────────────────────────────────────────┐\n",
       "q_0: ┤0                                                                         ├\n",
       "     │                                                                          │\n",
       "q_1: ┤1 LRSP(0.13465,0.061692,0.21235,0.66501,0.35048,0.033982,0.21654,0.56555) ├\n",
       "     │                                                                          │\n",
       "q_2: ┤2                                                                         ├\n",
       "     └──────────────────────────────────────────────────────────────────────────┘"
      ]
     },
     "execution_count": 50,
     "metadata": {},
     "output_type": "execute_result"
    }
   ],
   "source": [
    "sp_org = QAlchemyInitialize(b, opt_params={'max_fidelity_loss':0.0})\n",
    "sp_org.definition.draw(fold=-1)"
   ]
  },
  {
   "cell_type": "code",
   "execution_count": 51,
   "metadata": {},
   "outputs": [
    {
     "name": "stdout",
     "output_type": "stream",
     "text": [
      "state prepared by Q-alchemy [0.04628963 0.10709471 0.29219531 0.67601684 0.07160833 0.1656715\n",
      " 0.25449191 0.58878706]\n",
      "Target state [0.13465084 0.06169202 0.21235015 0.6650149  0.35047703 0.03398187\n",
      " 0.21653805 0.56555123]\n"
     ]
    },
    {
     "data": {
      "text/html": [
       "<pre style=\"word-wrap: normal;white-space: pre;background: #fff0;line-height: 1.1;font-family: &quot;Courier New&quot;,Courier,monospace\">global phase: 3π/2\n",
       "      ┌────────────┐                              \n",
       "q_0: ─┤ Ry(2.3256) ├──────────────────────────────\n",
       "     ┌┴────────────┤     ┌─────────────┐┌────────┐\n",
       "q_1: ┤ Ry(0.11643) ├──■──┤ Ry(-2.7234) ├┤ Rz(-π) ├\n",
       "     └─────────────┘┌─┴─┐└┬────────────┤└────────┘\n",
       "q_2: ───────────────┤ X ├─┤ Ry(1.4578) ├──────────\n",
       "                    └───┘ └────────────┘          </pre>"
      ],
      "text/plain": [
       "global phase: 3π/2\n",
       "      ┌────────────┐                              \n",
       "q_0: ─┤ Ry(2.3256) ├──────────────────────────────\n",
       "     ┌┴────────────┤     ┌─────────────┐┌────────┐\n",
       "q_1: ┤ Ry(0.11643) ├──■──┤ Ry(-2.7234) ├┤ Rz(-π) ├\n",
       "     └─────────────┘┌─┴─┐└┬────────────┤└────────┘\n",
       "q_2: ───────────────┤ X ├─┤ Ry(1.4578) ├──────────\n",
       "                    └───┘ └────────────┘          "
      ]
     },
     "execution_count": 51,
     "metadata": {},
     "output_type": "execute_result"
    }
   ],
   "source": [
    "qc = transpile(sp_org.definition, basis_gates=[\"id\", \"rx\", \"ry\", \"rz\", \"cx\"])\n",
    "num_q1 = qc.num_qubits\n",
    "print('state prepared by Q-alchemy',Statevector(qc).data.real)\n",
    "print('Target state',b)\n",
    "qc.draw()"
   ]
  },
  {
   "cell_type": "code",
   "execution_count": 54,
   "metadata": {},
   "outputs": [
    {
     "data": {
      "text/html": [
       "<pre style=\"word-wrap: normal;white-space: pre;background: #fff0;line-height: 1.1;font-family: &quot;Courier New&quot;,Courier,monospace\">           ┌──────────────────┐┌───────┐        ┌──────────┐\n",
       "q123045_0: ┤0                 ├┤9      ├────────┤9         ├\n",
       "           │                  ││       │        │          │\n",
       "q123045_1: ┤1 circuit-1153141 ├┤10     ├────────┤10        ├\n",
       "           │                  ││       │        │          │\n",
       "q123045_2: ┤2                 ├┤11     ├────────┤11        ├\n",
       "           └──────────────────┘│       │┌──────┐│          │\n",
       "q123046_0: ────────────────────┤0      ├┤8     ├┤0         ├\n",
       "                               │       ││      ││          │\n",
       "q123046_1: ────────────────────┤1      ├┤7     ├┤1         ├\n",
       "                               │       ││      ││          │\n",
       "q123046_2: ────────────────────┤2      ├┤6     ├┤2         ├\n",
       "                               │   QPE ││      ││   QPE_dg │\n",
       "q123046_3: ────────────────────┤3      ├┤5     ├┤3         ├\n",
       "                               │       ││      ││          │\n",
       "q123046_4: ────────────────────┤4      ├┤4     ├┤4         ├\n",
       "                               │       ││  1/x ││          │\n",
       "q123046_5: ────────────────────┤5      ├┤3     ├┤5         ├\n",
       "                               │       ││      ││          │\n",
       "q123046_6: ────────────────────┤6      ├┤2     ├┤6         ├\n",
       "                               │       ││      ││          │\n",
       "q123046_7: ────────────────────┤7      ├┤1     ├┤7         ├\n",
       "                               │       ││      ││          │\n",
       "q123046_8: ────────────────────┤8      ├┤0     ├┤8         ├\n",
       "                               └───────┘│      │└──────────┘\n",
       "  q123047: ─────────────────────────────┤9     ├────────────\n",
       "                                        └──────┘            </pre>"
      ],
      "text/plain": [
       "           ┌──────────────────┐┌───────┐        ┌──────────┐\n",
       "q123045_0: ┤0                 ├┤9      ├────────┤9         ├\n",
       "           │                  ││       │        │          │\n",
       "q123045_1: ┤1 circuit-1153141 ├┤10     ├────────┤10        ├\n",
       "           │                  ││       │        │          │\n",
       "q123045_2: ┤2                 ├┤11     ├────────┤11        ├\n",
       "           └──────────────────┘│       │┌──────┐│          │\n",
       "q123046_0: ────────────────────┤0      ├┤8     ├┤0         ├\n",
       "                               │       ││      ││          │\n",
       "q123046_1: ────────────────────┤1      ├┤7     ├┤1         ├\n",
       "                               │       ││      ││          │\n",
       "q123046_2: ────────────────────┤2      ├┤6     ├┤2         ├\n",
       "                               │   QPE ││      ││   QPE_dg │\n",
       "q123046_3: ────────────────────┤3      ├┤5     ├┤3         ├\n",
       "                               │       ││      ││          │\n",
       "q123046_4: ────────────────────┤4      ├┤4     ├┤4         ├\n",
       "                               │       ││  1/x ││          │\n",
       "q123046_5: ────────────────────┤5      ├┤3     ├┤5         ├\n",
       "                               │       ││      ││          │\n",
       "q123046_6: ────────────────────┤6      ├┤2     ├┤6         ├\n",
       "                               │       ││      ││          │\n",
       "q123046_7: ────────────────────┤7      ├┤1     ├┤7         ├\n",
       "                               │       ││      ││          │\n",
       "q123046_8: ────────────────────┤8      ├┤0     ├┤8         ├\n",
       "                               └───────┘│      │└──────────┘\n",
       "  q123047: ─────────────────────────────┤9     ├────────────\n",
       "                                        └──────┘            "
      ]
     },
     "execution_count": 54,
     "metadata": {},
     "output_type": "execute_result"
    }
   ],
   "source": [
    "qal_hhl = HHL().solve(A, qc)\n",
    "\n",
    "num_q = qal_hhl.state.num_qubits\n",
    "qal_hhl.state.draw()"
   ]
  },
  {
   "cell_type": "code",
   "execution_count": 56,
   "metadata": {},
   "outputs": [
    {
     "name": "stdout",
     "output_type": "stream",
     "text": [
      "solution with Q-alchemy: [ 0.16023144 -0.1844711   0.08525284  0.04139365 -0.02533618  0.03109089\n",
      "  0.01572156  0.0087781 ]\n",
      "solution with IBM: [-0.2167443   0.07956532  0.06442473  0.05697068  0.0131625   0.03245351\n",
      "  0.06177198 -0.0365057 ]\n",
      "classical solution: [-0.21658872  0.07965013  0.06397977  0.05751934  0.01306929  0.032374\n",
      "  0.06146704 -0.03619385]\n"
     ]
    }
   ],
   "source": [
    "classical_solution = NumPyLinearSolver().solve(A, b)\n",
    "hhl_default = HHL().solve(A, b) #using IBM's default state preparation method\n",
    "\n",
    "x0 = 2**(num_q-1)\n",
    "\n",
    "qal_sol = get_solution_vector(qal_hhl, x0)\n",
    "default_sol = get_solution_vector(hhl_default, x0)\n",
    "classic_sol = classical_solution.state\n",
    "\n",
    "print('solution with Q-alchemy:', qal_sol)\n",
    "print('solution with IBM:', default_sol)\n",
    "print('classical solution:', classic_sol)\n",
    "\n"
   ]
  },
  {
   "cell_type": "code",
   "execution_count": null,
   "metadata": {},
   "outputs": [
    {
     "name": "stdout",
     "output_type": "stream",
     "text": [
      "Q-alchemy euclidean norm: 0.15417175794858626\n",
      "IBM euclidean norm: 0.20401954342097062\n",
      "Classical euclidean norm: 0.20335947032118262\n"
     ]
    }
   ],
   "source": [
    "print('Q-alchemy euclidean norm:', qal_hhl.euclidean_norm)\n",
    "print('IBM euclidean norm:', hhl_default.euclidean_norm)\n",
    "print('Classical euclidean norm:', classical_solution.euclidean_norm)\n"
   ]
  },
  {
   "attachments": {},
   "cell_type": "markdown",
   "metadata": {},
   "source": [
    "Check the state prepared by Q alchemy and IBM"
   ]
  },
  {
   "cell_type": "code",
   "execution_count": 57,
   "metadata": {},
   "outputs": [
    {
     "data": {
      "text/html": [
       "<pre style=\"word-wrap: normal;white-space: pre;background: #fff0;line-height: 1.1;font-family: &quot;Courier New&quot;,Courier,monospace\">           ┌──────────────────┐┌───────┐        \n",
       "q136358_0: ┤0                 ├┤9      ├────────\n",
       "           │                  ││       │        \n",
       "q136358_1: ┤1 circuit-1307712 ├┤10     ├────────\n",
       "           │                  ││       │        \n",
       "q136358_2: ┤2                 ├┤11     ├────────\n",
       "           └──────────────────┘│       │┌──────┐\n",
       "q136359_0: ────────────────────┤0      ├┤8     ├\n",
       "                               │       ││      │\n",
       "q136359_1: ────────────────────┤1      ├┤7     ├\n",
       "                               │       ││      │\n",
       "q136359_2: ────────────────────┤2      ├┤6     ├\n",
       "                               │   QPE ││      │\n",
       "q136359_3: ────────────────────┤3      ├┤5     ├\n",
       "                               │       ││      │\n",
       "q136359_4: ────────────────────┤4      ├┤4     ├\n",
       "                               │       ││  1/x │\n",
       "q136359_5: ────────────────────┤5      ├┤3     ├\n",
       "                               │       ││      │\n",
       "q136359_6: ────────────────────┤6      ├┤2     ├\n",
       "                               │       ││      │\n",
       "q136359_7: ────────────────────┤7      ├┤1     ├\n",
       "                               │       ││      │\n",
       "q136359_8: ────────────────────┤8      ├┤0     ├\n",
       "                               └───────┘│      │\n",
       "  q136360: ─────────────────────────────┤9     ├\n",
       "                                        └──────┘</pre>"
      ],
      "text/plain": [
       "           ┌──────────────────┐┌───────┐        \n",
       "q136358_0: ┤0                 ├┤9      ├────────\n",
       "           │                  ││       │        \n",
       "q136358_1: ┤1 circuit-1307712 ├┤10     ├────────\n",
       "           │                  ││       │        \n",
       "q136358_2: ┤2                 ├┤11     ├────────\n",
       "           └──────────────────┘│       │┌──────┐\n",
       "q136359_0: ────────────────────┤0      ├┤8     ├\n",
       "                               │       ││      │\n",
       "q136359_1: ────────────────────┤1      ├┤7     ├\n",
       "                               │       ││      │\n",
       "q136359_2: ────────────────────┤2      ├┤6     ├\n",
       "                               │   QPE ││      │\n",
       "q136359_3: ────────────────────┤3      ├┤5     ├\n",
       "                               │       ││      │\n",
       "q136359_4: ────────────────────┤4      ├┤4     ├\n",
       "                               │       ││  1/x │\n",
       "q136359_5: ────────────────────┤5      ├┤3     ├\n",
       "                               │       ││      │\n",
       "q136359_6: ────────────────────┤6      ├┤2     ├\n",
       "                               │       ││      │\n",
       "q136359_7: ────────────────────┤7      ├┤1     ├\n",
       "                               │       ││      │\n",
       "q136359_8: ────────────────────┤8      ├┤0     ├\n",
       "                               └───────┘│      │\n",
       "  q136360: ─────────────────────────────┤9     ├\n",
       "                                        └──────┘"
      ]
     },
     "execution_count": 57,
     "metadata": {},
     "output_type": "execute_result"
    }
   ],
   "source": [
    "hhl_default.state.data.pop(-1)\n",
    "state_IBM = Statevector(hhl_default.state).data.real\n",
    "hhl_default.state.draw()\n",
    "\n"
   ]
  },
  {
   "cell_type": "code",
   "execution_count": 58,
   "metadata": {},
   "outputs": [
    {
     "data": {
      "text/html": [
       "<pre style=\"word-wrap: normal;white-space: pre;background: #fff0;line-height: 1.1;font-family: &quot;Courier New&quot;,Courier,monospace\">           ┌──────────────────┐┌───────┐\n",
       "q136358_0: ┤0                 ├┤9      ├\n",
       "           │                  ││       │\n",
       "q136358_1: ┤1 circuit-1307712 ├┤10     ├\n",
       "           │                  ││       │\n",
       "q136358_2: ┤2                 ├┤11     ├\n",
       "           └──────────────────┘│       │\n",
       "q136359_0: ────────────────────┤0      ├\n",
       "                               │       │\n",
       "q136359_1: ────────────────────┤1      ├\n",
       "                               │       │\n",
       "q136359_2: ────────────────────┤2      ├\n",
       "                               │   QPE │\n",
       "q136359_3: ────────────────────┤3      ├\n",
       "                               │       │\n",
       "q136359_4: ────────────────────┤4      ├\n",
       "                               │       │\n",
       "q136359_5: ────────────────────┤5      ├\n",
       "                               │       │\n",
       "q136359_6: ────────────────────┤6      ├\n",
       "                               │       │\n",
       "q136359_7: ────────────────────┤7      ├\n",
       "                               │       │\n",
       "q136359_8: ────────────────────┤8      ├\n",
       "                               └───────┘\n",
       "  q136360: ─────────────────────────────\n",
       "                                        </pre>"
      ],
      "text/plain": [
       "           ┌──────────────────┐┌───────┐\n",
       "q136358_0: ┤0                 ├┤9      ├\n",
       "           │                  ││       │\n",
       "q136358_1: ┤1 circuit-1307712 ├┤10     ├\n",
       "           │                  ││       │\n",
       "q136358_2: ┤2                 ├┤11     ├\n",
       "           └──────────────────┘│       │\n",
       "q136359_0: ────────────────────┤0      ├\n",
       "                               │       │\n",
       "q136359_1: ────────────────────┤1      ├\n",
       "                               │       │\n",
       "q136359_2: ────────────────────┤2      ├\n",
       "                               │   QPE │\n",
       "q136359_3: ────────────────────┤3      ├\n",
       "                               │       │\n",
       "q136359_4: ────────────────────┤4      ├\n",
       "                               │       │\n",
       "q136359_5: ────────────────────┤5      ├\n",
       "                               │       │\n",
       "q136359_6: ────────────────────┤6      ├\n",
       "                               │       │\n",
       "q136359_7: ────────────────────┤7      ├\n",
       "                               │       │\n",
       "q136359_8: ────────────────────┤8      ├\n",
       "                               └───────┘\n",
       "  q136360: ─────────────────────────────\n",
       "                                        "
      ]
     },
     "execution_count": 58,
     "metadata": {},
     "output_type": "execute_result"
    }
   ],
   "source": [
    "hhl_default.state.data.pop(-1)\n",
    "state_IBM = Statevector(hhl_default.state).data.real\n",
    "hhl_default.state.draw()\n"
   ]
  },
  {
   "cell_type": "code",
   "execution_count": 59,
   "metadata": {},
   "outputs": [
    {
     "data": {
      "text/html": [
       "<pre style=\"word-wrap: normal;white-space: pre;background: #fff0;line-height: 1.1;font-family: &quot;Courier New&quot;,Courier,monospace\">           ┌──────────────────┐\n",
       "q136358_0: ┤0                 ├\n",
       "           │                  │\n",
       "q136358_1: ┤1 circuit-1307712 ├\n",
       "           │                  │\n",
       "q136358_2: ┤2                 ├\n",
       "           └──────────────────┘\n",
       "q136359_0: ────────────────────\n",
       "                               \n",
       "q136359_1: ────────────────────\n",
       "                               \n",
       "q136359_2: ────────────────────\n",
       "                               \n",
       "q136359_3: ────────────────────\n",
       "                               \n",
       "q136359_4: ────────────────────\n",
       "                               \n",
       "q136359_5: ────────────────────\n",
       "                               \n",
       "q136359_6: ────────────────────\n",
       "                               \n",
       "q136359_7: ────────────────────\n",
       "                               \n",
       "q136359_8: ────────────────────\n",
       "                               \n",
       "  q136360: ────────────────────\n",
       "                               </pre>"
      ],
      "text/plain": [
       "           ┌──────────────────┐\n",
       "q136358_0: ┤0                 ├\n",
       "           │                  │\n",
       "q136358_1: ┤1 circuit-1307712 ├\n",
       "           │                  │\n",
       "q136358_2: ┤2                 ├\n",
       "           └──────────────────┘\n",
       "q136359_0: ────────────────────\n",
       "                               \n",
       "q136359_1: ────────────────────\n",
       "                               \n",
       "q136359_2: ────────────────────\n",
       "                               \n",
       "q136359_3: ────────────────────\n",
       "                               \n",
       "q136359_4: ────────────────────\n",
       "                               \n",
       "q136359_5: ────────────────────\n",
       "                               \n",
       "q136359_6: ────────────────────\n",
       "                               \n",
       "q136359_7: ────────────────────\n",
       "                               \n",
       "q136359_8: ────────────────────\n",
       "                               \n",
       "  q136360: ────────────────────\n",
       "                               "
      ]
     },
     "execution_count": 59,
     "metadata": {},
     "output_type": "execute_result"
    }
   ],
   "source": [
    "hhl_default.state.data.pop(-1)\n",
    "state_IBM = Statevector(hhl_default.state).data.real\n",
    "hhl_default.state.draw()"
   ]
  },
  {
   "cell_type": "code",
   "execution_count": 63,
   "metadata": {},
   "outputs": [
    {
     "data": {
      "text/html": [
       "<pre style=\"word-wrap: normal;white-space: pre;background: #fff0;line-height: 1.1;font-family: &quot;Courier New&quot;,Courier,monospace\">           ┌──────────────────┐┌───────┐\n",
       "q123045_0: ┤0                 ├┤9      ├\n",
       "           │                  ││       │\n",
       "q123045_1: ┤1 circuit-1153141 ├┤10     ├\n",
       "           │                  ││       │\n",
       "q123045_2: ┤2                 ├┤11     ├\n",
       "           └──────────────────┘│       │\n",
       "q123046_0: ────────────────────┤0      ├\n",
       "                               │       │\n",
       "q123046_1: ────────────────────┤1      ├\n",
       "                               │       │\n",
       "q123046_2: ────────────────────┤2      ├\n",
       "                               │   QPE │\n",
       "q123046_3: ────────────────────┤3      ├\n",
       "                               │       │\n",
       "q123046_4: ────────────────────┤4      ├\n",
       "                               │       │\n",
       "q123046_5: ────────────────────┤5      ├\n",
       "                               │       │\n",
       "q123046_6: ────────────────────┤6      ├\n",
       "                               │       │\n",
       "q123046_7: ────────────────────┤7      ├\n",
       "                               │       │\n",
       "q123046_8: ────────────────────┤8      ├\n",
       "                               └───────┘\n",
       "  q123047: ─────────────────────────────\n",
       "                                        </pre>"
      ],
      "text/plain": [
       "           ┌──────────────────┐┌───────┐\n",
       "q123045_0: ┤0                 ├┤9      ├\n",
       "           │                  ││       │\n",
       "q123045_1: ┤1 circuit-1153141 ├┤10     ├\n",
       "           │                  ││       │\n",
       "q123045_2: ┤2                 ├┤11     ├\n",
       "           └──────────────────┘│       │\n",
       "q123046_0: ────────────────────┤0      ├\n",
       "                               │       │\n",
       "q123046_1: ────────────────────┤1      ├\n",
       "                               │       │\n",
       "q123046_2: ────────────────────┤2      ├\n",
       "                               │   QPE │\n",
       "q123046_3: ────────────────────┤3      ├\n",
       "                               │       │\n",
       "q123046_4: ────────────────────┤4      ├\n",
       "                               │       │\n",
       "q123046_5: ────────────────────┤5      ├\n",
       "                               │       │\n",
       "q123046_6: ────────────────────┤6      ├\n",
       "                               │       │\n",
       "q123046_7: ────────────────────┤7      ├\n",
       "                               │       │\n",
       "q123046_8: ────────────────────┤8      ├\n",
       "                               └───────┘\n",
       "  q123047: ─────────────────────────────\n",
       "                                        "
      ]
     },
     "execution_count": 63,
     "metadata": {},
     "output_type": "execute_result"
    }
   ],
   "source": [
    "qal_hhl.state.data.pop(-1)\n",
    "qal_hhl.state.data.pop(-1)\n",
    "qal_hhl.state.draw()\n",
    "\n"
   ]
  },
  {
   "cell_type": "code",
   "execution_count": 64,
   "metadata": {},
   "outputs": [
    {
     "data": {
      "text/html": [
       "<pre style=\"word-wrap: normal;white-space: pre;background: #fff0;line-height: 1.1;font-family: &quot;Courier New&quot;,Courier,monospace\">           ┌──────────────────┐\n",
       "q123045_0: ┤0                 ├\n",
       "           │                  │\n",
       "q123045_1: ┤1 circuit-1153141 ├\n",
       "           │                  │\n",
       "q123045_2: ┤2                 ├\n",
       "           └──────────────────┘\n",
       "q123046_0: ────────────────────\n",
       "                               \n",
       "q123046_1: ────────────────────\n",
       "                               \n",
       "q123046_2: ────────────────────\n",
       "                               \n",
       "q123046_3: ────────────────────\n",
       "                               \n",
       "q123046_4: ────────────────────\n",
       "                               \n",
       "q123046_5: ────────────────────\n",
       "                               \n",
       "q123046_6: ────────────────────\n",
       "                               \n",
       "q123046_7: ────────────────────\n",
       "                               \n",
       "q123046_8: ────────────────────\n",
       "                               \n",
       "  q123047: ────────────────────\n",
       "                               </pre>"
      ],
      "text/plain": [
       "           ┌──────────────────┐\n",
       "q123045_0: ┤0                 ├\n",
       "           │                  │\n",
       "q123045_1: ┤1 circuit-1153141 ├\n",
       "           │                  │\n",
       "q123045_2: ┤2                 ├\n",
       "           └──────────────────┘\n",
       "q123046_0: ────────────────────\n",
       "                               \n",
       "q123046_1: ────────────────────\n",
       "                               \n",
       "q123046_2: ────────────────────\n",
       "                               \n",
       "q123046_3: ────────────────────\n",
       "                               \n",
       "q123046_4: ────────────────────\n",
       "                               \n",
       "q123046_5: ────────────────────\n",
       "                               \n",
       "q123046_6: ────────────────────\n",
       "                               \n",
       "q123046_7: ────────────────────\n",
       "                               \n",
       "q123046_8: ────────────────────\n",
       "                               \n",
       "  q123047: ────────────────────\n",
       "                               "
      ]
     },
     "execution_count": 64,
     "metadata": {},
     "output_type": "execute_result"
    }
   ],
   "source": [
    "qal_hhl.state.data.pop(-1)\n",
    "qal_hhl.state.draw()\n"
   ]
  },
  {
   "cell_type": "code",
   "execution_count": 65,
   "metadata": {},
   "outputs": [
    {
     "name": "stdout",
     "output_type": "stream",
     "text": [
      "[0.04628963 0.10709471 0.29219531 0.67601684 0.07160833 0.1656715\n",
      " 0.25449191 0.58878706]\n"
     ]
    }
   ],
   "source": [
    "state_qal = Statevector(qal_hhl.state).data.real\n"
   ]
  },
  {
   "cell_type": "code",
   "execution_count": 67,
   "metadata": {},
   "outputs": [
    {
     "name": "stdout",
     "output_type": "stream",
     "text": [
      "state prepared by q_alchemy [0.04628963 0.10709471 0.29219531 0.67601684 0.07160833 0.1656715\n",
      " 0.25449191 0.58878706]\n",
      "state prepared by IBMs default method [0.13465084 0.06169202 0.21235015 0.6650149  0.35047703 0.03398187\n",
      " 0.21653805 0.56555123]\n",
      "Target state [0.13465084 0.06169202 0.21235015 0.6650149  0.35047703 0.03398187\n",
      " 0.21653805 0.56555123]\n"
     ]
    }
   ],
   "source": [
    "print('state prepared by q_alchemy',state_qal[0:8])\n",
    "print('state prepared by IBMs default method' ,state_IBM[0:8])\n",
    "print('Target state',b)"
   ]
  },
  {
   "cell_type": "code",
   "execution_count": null,
   "metadata": {},
   "outputs": [],
   "source": []
  }
 ],
 "metadata": {
  "kernelspec": {
   "display_name": "trade",
   "language": "python",
   "name": "python3"
  },
  "language_info": {
   "codemirror_mode": {
    "name": "ipython",
    "version": 3
   },
   "file_extension": ".py",
   "mimetype": "text/x-python",
   "name": "python",
   "nbconvert_exporter": "python",
   "pygments_lexer": "ipython3",
   "version": "3.11.5"
  },
  "orig_nbformat": 4,
  "vscode": {
   "interpreter": {
    "hash": "199de1a40b437420e38518fec2b1bf8cd0767dab923cb90924671417b5bfa7de"
   }
  }
 },
 "nbformat": 4,
 "nbformat_minor": 2
}

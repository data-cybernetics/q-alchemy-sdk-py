{
 "cells": [
  {
   "cell_type": "code",
   "execution_count": 1,
   "metadata": {},
   "outputs": [],
   "source": [
    "import qiskit\n",
    "from qiskit import transpile\n",
    "import numpy as np\n",
    "import pandas as pd\n",
    "import yfinance as yf\n",
    "import sys\n",
    "import os\n",
    "os.environ[\"Q_ALCHEMY_API_KEY\"] = \"JnvkpMCsyr4nB9nHcwa6CbxqhtZXyF1b\"\n",
    "sys.path.append('..')\n",
    "from q_alchemy.qiskit import QAlchemyInitialize\n",
    " "
   ]
  },
  {
   "cell_type": "code",
   "execution_count": 3,
   "metadata": {},
   "outputs": [
    {
     "name": "stdout",
     "output_type": "stream",
     "text": [
      "[*********************100%%**********************]  1 of 1 completed\n",
      "[*********************100%%**********************]  1 of 1 completed\n",
      "{'TSLA':                   Open        High         Low       Close   Adj Close  \\\n",
      "Date                                                                     \n",
      "2021-01-04  239.820007  248.163330  239.063339  243.256668  243.256668   \n",
      "2021-01-05  241.220001  246.946671  239.733337  245.036667  245.036667   \n",
      "2021-01-06  252.830002  258.000000  249.699997  251.993332  251.993332   \n",
      "2021-01-07  259.209991  272.329987  258.399994  272.013336  272.013336   \n",
      "2021-01-08  285.333344  294.829987  279.463318  293.339996  293.339996   \n",
      "...                ...         ...         ...         ...         ...   \n",
      "2021-12-27  357.890015  372.333344  356.906677  364.646667  364.646667   \n",
      "2021-12-28  369.829987  373.000000  359.473328  362.823334  362.823334   \n",
      "2021-12-29  366.213318  368.000000  354.713318  362.063324  362.063324   \n",
      "2021-12-30  353.776672  365.183319  351.049988  356.779999  356.779999   \n",
      "2021-12-31  357.813324  360.666656  351.529999  352.260010  352.260010   \n",
      "\n",
      "               Volume  \n",
      "Date                   \n",
      "2021-01-04  145914600  \n",
      "2021-01-05   96735600  \n",
      "2021-01-06  134100000  \n",
      "2021-01-07  154496700  \n",
      "2021-01-08  225166500  \n",
      "...               ...  \n",
      "2021-12-27   71145900  \n",
      "2021-12-28   60324000  \n",
      "2021-12-29   56154000  \n",
      "2021-12-30   47040900  \n",
      "2021-12-31   40733700  \n",
      "\n",
      "[252 rows x 6 columns], 'GOOGL':                   Open        High         Low       Close   Adj Close  \\\n",
      "Date                                                                     \n",
      "2021-01-04   88.000000   88.124496   85.357002   86.306503   86.306503   \n",
      "2021-01-05   86.254501   87.341499   85.845001   87.002502   87.002502   \n",
      "2021-01-06   85.013000   87.198502   84.805000   86.143997   86.143997   \n",
      "2021-01-07   86.337997   88.890999   86.337997   88.717003   88.717003   \n",
      "2021-01-08   88.858002   89.968002   88.060997   89.891502   89.891502   \n",
      "...                ...         ...         ...         ...         ...   \n",
      "2021-12-27  147.255997  148.343994  147.169495  147.906494  147.906494   \n",
      "2021-12-28  148.235992  148.298996  146.054504  146.686996  146.686996   \n",
      "2021-12-29  146.644501  147.417007  145.647507  146.654999  146.654999   \n",
      "2021-12-30  146.694000  147.300003  145.994507  146.200500  146.200500   \n",
      "2021-12-31  146.050003  146.698502  144.852005  144.852005  144.852005   \n",
      "\n",
      "              Volume  \n",
      "Date                  \n",
      "2021-01-04  37324000  \n",
      "2021-01-05  20360000  \n",
      "2021-01-06  46588000  \n",
      "2021-01-07  41936000  \n",
      "2021-01-08  35484000  \n",
      "...              ...  \n",
      "2021-12-27  15976000  \n",
      "2021-12-28  18200000  \n",
      "2021-12-29  17788000  \n",
      "2021-12-30  15688000  \n",
      "2021-12-31  18136000  \n",
      "\n",
      "[252 rows x 6 columns]}\n"
     ]
    }
   ],
   "source": [
    "#tickers = ['TSLA', 'GOOGL', 'AMZN', 'AAPL', 'META']\n",
    "tickers = ['TSLA', 'GOOGL']\n",
    "start_date = '2021-01-01'\n",
    "end_date = '2022-01-01'\n",
    "\n",
    "data = {}\n",
    "\n",
    "for ticker in tickers:\n",
    "    data[ticker] =  yf.download(ticker, start=start_date, end=end_date)\n",
    "\n",
    "print(data)"
   ]
  },
  {
   "cell_type": "code",
   "execution_count": 4,
   "metadata": {},
   "outputs": [],
   "source": [
    "for ticker in tickers:\n",
    "    data[ticker]['Daily Return'] =  data[ticker]['Adj Close'].pct_change()\n",
    "    data[ticker] = data[ticker].dropna()"
   ]
  },
  {
   "cell_type": "code",
   "execution_count": 5,
   "metadata": {},
   "outputs": [
    {
     "name": "stdout",
     "output_type": "stream",
     "text": [
      "{'TSLA': 0.002061082797253658, 'GOOGL': 0.0021812108248734545}\n",
      "{'TSLA': 0.03450369927285423, 'GOOGL': 0.015311596310057506}\n"
     ]
    }
   ],
   "source": [
    "expected_returns = {}\n",
    "std_deviation = {}\n",
    "\n",
    "for ticker in tickers:\n",
    "    expected_returns[ticker] = data[ticker]['Daily Return'].mean()\n",
    "    std_deviation[ticker] = data[ticker]['Daily Return'].std()\n",
    "    \n",
    "print(expected_returns)\n",
    "print(std_deviation)"
   ]
  },
  {
   "cell_type": "code",
   "execution_count": 6,
   "metadata": {},
   "outputs": [
    {
     "name": "stdout",
     "output_type": "stream",
     "text": [
      "[[0.00119051 0.00015751]\n",
      " [0.00015751 0.00023444]]\n"
     ]
    }
   ],
   "source": [
    "y_raw = [list(data[ticker]['Daily Return'].values) for ticker in tickers]\n",
    "y_new = list(map(list, zip(*y_raw)))\n",
    "y_new = np.array(y_new)\n",
    "\n",
    "t = len(y_new)\n",
    "n = len(y_new[0])\n",
    "\n",
    "R = [expected_returns[ticker] for ticker in tickers]\n",
    "R = np.array(R)\n",
    "\n",
    "cov_matrix = np.zeros((n, n))\n",
    "\n",
    "for i in range(t):\n",
    "    cov_matrix += np.outer((y_new[i]-R), (y_new[i]-R))\n",
    "cov_matrix = cov_matrix/(t-1)\n",
    "print(cov_matrix)"
   ]
  },
  {
   "cell_type": "code",
   "execution_count": 7,
   "metadata": {},
   "outputs": [
    {
     "name": "stdout",
     "output_type": "stream",
     "text": [
      "[*********************100%%**********************]  1 of 1 completed\n",
      "[*********************100%%**********************]  1 of 1 completed\n",
      "[256.4100036621094, 138.97000122070312]\n"
     ]
    }
   ],
   "source": [
    "from datetime import datetime\n",
    "\n",
    "yesterday = '2023-12-20'\n",
    "today = '2023-12-21'\n",
    "\n",
    "today_price = []\n",
    "\n",
    "for ticker in tickers:\n",
    "    data = yf.download(ticker, start=yesterday, end=today)\n",
    "    today_price.append(data['Open'].values[0])\n",
    "\n",
    "print(today_price)\n"
   ]
  },
  {
   "cell_type": "code",
   "execution_count": 12,
   "metadata": {},
   "outputs": [
    {
     "name": "stdout",
     "output_type": "stream",
     "text": [
      "[[0.00000000e+00 0.00000000e+00 2.06108280e-03 2.18121082e-03]\n",
      " [0.00000000e+00 0.00000000e+00 2.56410004e+02 1.38970001e+02]\n",
      " [2.06108280e-03 2.56410004e+02 1.19050526e-03 1.57506067e-04]\n",
      " [2.18121082e-03 1.38970001e+02 1.57506067e-04 2.34444982e-04]]\n"
     ]
    }
   ],
   "source": [
    "A = np.zeros((2*n, 2*n))\n",
    "for i in range(2):\n",
    "    A[0][i+2] = R[i]\n",
    "    A[1][i+2] = today_price[i]\n",
    "    A[i+2][0] = R[i]\n",
    "    A[i+2][1] = today_price[i]\n",
    "A[2:, 2:4] =   cov_matrix\n",
    "print(A)"
   ]
  },
  {
   "cell_type": "code",
   "execution_count": null,
   "metadata": {},
   "outputs": [
    {
     "name": "stdout",
     "output_type": "stream",
     "text": [
      "[[0.00000000e+00 0.00000000e+00 2.06108280e-03 2.18121082e-03]\n",
      " [0.00000000e+00 0.00000000e+00 2.56410004e+02 1.38970001e+02]\n",
      " [2.06108280e-03 2.56410004e+02 0.00000000e+00 0.00000000e+00]\n",
      " [2.18121082e-03 1.38970001e+02 0.00000000e+00 0.00000000e+00]]\n"
     ]
    }
   ],
   "source": [
    "mu = np.dot(R, )\n"
   ]
  }
 ],
 "metadata": {
  "kernelspec": {
   "display_name": "trade",
   "language": "python",
   "name": "python3"
  },
  "language_info": {
   "codemirror_mode": {
    "name": "ipython",
    "version": 3
   },
   "file_extension": ".py",
   "mimetype": "text/x-python",
   "name": "python",
   "nbconvert_exporter": "python",
   "pygments_lexer": "ipython3",
   "version": "3.11.5"
  }
 },
 "nbformat": 4,
 "nbformat_minor": 2
}
